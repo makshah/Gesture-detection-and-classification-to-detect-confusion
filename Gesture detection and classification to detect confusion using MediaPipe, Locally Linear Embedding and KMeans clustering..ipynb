{
 "cells": [
  {
   "cell_type": "markdown",
   "id": "82bac643",
   "metadata": {},
   "source": [
    "<h1><center> Gesture detection and classification to detect confusion using MediaPipe, Locally Linear Embedding and KMeans clustering. </center></h1>"
   ]
  },
  {
   "cell_type": "markdown",
   "id": "b4ca7907",
   "metadata": {},
   "source": [
    "## Importing the required libraries"
   ]
  },
  {
   "cell_type": "code",
   "execution_count": 1,
   "id": "9d324bb7",
   "metadata": {},
   "outputs": [],
   "source": [
    "import mediapipe as mp\n",
    "import cv2\n",
    "import matplotlib.pyplot as plt\n",
    "import glob\n",
    "import math\n",
    "import numpy as np\n",
    "import seaborn as sns\n",
    "sns.set()\n",
    "%matplotlib inline\n",
    "%matplotlib widget\n",
    "# %matplotlib notebook"
   ]
  },
  {
   "cell_type": "markdown",
   "id": "df4dff4d",
   "metadata": {},
   "source": [
    "<h1><center> Step 1: Pre-processing </center></h1>"
   ]
  },
  {
   "cell_type": "markdown",
   "id": "f17d84bb",
   "metadata": {},
   "source": [
    "## Part 1: Function to get joints' coodinates from an image "
   ]
  },
  {
   "cell_type": "code",
   "execution_count": 2,
   "id": "d4f61611",
   "metadata": {},
   "outputs": [],
   "source": [
    "def get_ten_joints(image):\n",
    "#     image = cv2.imread(image)\n",
    "    image_vector = []\n",
    "    mp_pose = mp.solutions.pose\n",
    "    # Initialize MediaPipe Pose.\n",
    "    pose = mp_pose.Pose(static_image_mode=True, min_detection_confidence=0.5)\n",
    "#     print(pose)\n",
    "    mp_drawing = mp.solutions.drawing_utils \n",
    "    drawing_spec = mp_drawing.DrawingSpec(thickness=1, circle_radius=1)\n",
    "    results = pose.process(cv2.cvtColor(image, cv2.COLOR_BGR2RGB))\n",
    "#     results = pose.process(image)\n",
    "#     print('results = ', results.pose_landmarks)\n",
    "    # Print nose landmark.\n",
    "    image_hight, image_width, image_depth = image.shape\n",
    "    #     if not results.pose_landmarks:\n",
    "    #         continue\n",
    "#     print(results.pose_landmarks)\n",
    "# asjdnaisdbasdhbhkasbkahdbasidhan akjnfbqiu\n",
    "    if(results.pose_landmarks is None ):\n",
    "        return ([0, 0, 0, 0, 0, 0, 0, 0, 0, 0], [0, 0, 0, 0, 0, 0, 0, 0, 0, 0])\n",
    "    \n",
    "    left_shoulder = (results.pose_landmarks.landmark[mp_pose.PoseLandmark.LEFT_SHOULDER].x * image_width, \n",
    "                 results.pose_landmarks.landmark[mp_pose.PoseLandmark.LEFT_SHOULDER].y * image_hight)\n",
    "    #     print(\"Left Shoulder Location : \", left_shoulder)\n",
    "    right_shoulder = (results.pose_landmarks.landmark[mp_pose.PoseLandmark.RIGHT_SHOULDER].x * image_width,\n",
    "                  results.pose_landmarks.landmark[mp_pose.PoseLandmark.RIGHT_SHOULDER].y * image_hight)\n",
    "    #     print(\"Right Shoulder Location : \", right_shoulder)\n",
    "    nose_cood = (results.pose_landmarks.landmark[mp_pose.PoseLandmark.NOSE].x * image_width,\n",
    "                 results.pose_landmarks.landmark[mp_pose.PoseLandmark.NOSE].y * image_hight,\n",
    "                 results.pose_landmarks.landmark[mp_pose.PoseLandmark.NOSE].z * image_depth)\n",
    "    \n",
    "    #     print(\"Nose Location : \", nose_cood)\n",
    "\n",
    "    # Creating a centroid (point between nose and shoulders as the new origin (0,0))\n",
    "    \n",
    "    centroid = ((left_shoulder[0] + right_shoulder[0] + nose_cood[0]) / 3 , (left_shoulder[1] + right_shoulder[1] + nose_cood[1]) / 3)\n",
    "    #     print(\"Centroid = \", centroid)\n",
    "    \n",
    "    centroid_point = (int(centroid[0]), int(centroid[1]))\n",
    "    cv2.circle(image, centroid_point, 3, (255,0,0), -1)\n",
    "    \n",
    "    # Calculating the point for head/face and replacing the values in the landmakrs \n",
    "    \n",
    "    left_ear = (results.pose_landmarks.landmark[mp_pose.PoseLandmark.LEFT_EAR].x * image_width, \n",
    "               results.pose_landmarks.landmark[mp_pose.PoseLandmark.LEFT_EAR].y * image_hight)\n",
    "    right_ear = (results.pose_landmarks.landmark[mp_pose.PoseLandmark.RIGHT_EAR].x * image_width, \n",
    "                 results.pose_landmarks.landmark[mp_pose.PoseLandmark.RIGHT_EAR].y * image_hight)\n",
    "# Now we have to replace the values from loc 0(nose) to loc 10 (right mouth) and put a general point for head which is mid\n",
    "# point of 2 ears\n",
    "    \n",
    "    head = ((left_ear[0] + right_ear[0]) / 2, (left_ear[1] + right_ear[1]) / 2)\n",
    "#     print(\"Head = \", head)\n",
    "    head_point = (int(head[0]), int(head[1]))\n",
    "    cv2.circle(image, head_point, 3, (0,0,255), -1)\n",
    "    \n",
    "# Updating removing the 10 points and putting 1 head point \n",
    "    allJointsXarray = []\n",
    "    allJointsYarray = []\n",
    "    \n",
    "    for i in mp_pose.PoseLandmark:\n",
    "        allJointsXarray.append((results.pose_landmarks.landmark[i].x) * image_width)\n",
    "        allJointsYarray.append((results.pose_landmarks.landmark[i].y) * image_hight)\n",
    "    \n",
    "    tenJointsXArray = allJointsXarray[11:25]\n",
    "    tenJointsYArray = allJointsYarray[11:25]\n",
    "    tenJointsXArray.insert(0, head[0])\n",
    "    tenJointsYArray.insert(0, head[1])\n",
    "    tenJointsXArray.insert(1, centroid[0])\n",
    "    tenJointsYArray.insert(1, centroid[1])\n",
    "\n",
    "# Removing the unnecessary points\n",
    "    for i in range(6):\n",
    "        del tenJointsXArray[6]\n",
    "    for i in range(6):\n",
    "        del tenJointsYArray[6]\n",
    "    \n",
    "# Redifining points wrt to new centroid   \n",
    "    xCoordinatesCentroid = list(map(lambda x: x - centroid[0], tenJointsXArray))\n",
    "    yCoordinatesCentroid = list(map(lambda y: y - centroid[1], tenJointsYArray))\n",
    "    \n",
    "\n",
    "    \n",
    "    \n",
    "    current_vector = []\n",
    "    for i in range(len(xCoordinatesCentroid)):\n",
    "        current_vector.append((xCoordinatesCentroid[i], yCoordinatesCentroid[i]))\n",
    "    image_vector.append(current_vector)\n",
    "    \n",
    "    \n",
    "    \n",
    "    \n",
    "    \n",
    "    \n",
    "# Drawing a rectangle around the min and max point of the image. \n",
    "    rectBottomLeft = (math.floor(min(tenJointsXArray)), math.floor(min(tenJointsYArray)))\n",
    "    rectTopRight = (math.ceil(max(tenJointsXArray)), math.ceil(max(tenJointsYArray)))\n",
    "   \n",
    "    \n",
    "\n",
    "    cv2.circle(image, rectBottomLeft, 3, (0,0,255), -1)\n",
    "    cv2.circle(image, rectTopRight, 3, (0,0,255), -1)\n",
    "    cv2.rectangle(image, rectBottomLeft, rectTopRight, (255,0,0), 1)\n",
    "    \n",
    "# Draw pose landmarks.\n",
    "#     print(f'Pose landmarks of {name}:')\n",
    "#     annotated_image = image.copy()\n",
    "#     mp_drawing.draw_landmarks(\n",
    "#       image=annotated_image,\n",
    "#       landmark_list=results.pose_landmarks,\n",
    "#       connections=mp_pose.POSE_CONNECTIONS,\n",
    "#       landmark_drawing_spec=drawing_spec,\n",
    "#       connection_drawing_spec=drawing_spec)\n",
    "#     cv2.imshow('annotated_iamge', annotated_image)\n",
    "#     plt.figure()\n",
    "#     plt.imshow(annotated_image)\n",
    "#     cv2.waitKey(0)\n",
    "#     newXArray = list(map(lambda x: x - centroid[0], xArray))\n",
    "#     newYArray = list(map(lambda y: y - centroid[1], yArray))\n",
    "#     head_plotX = [newXArray[0], newXArray[1]]\n",
    "#     head_plotY = [newYArray[0], newYArray[1]]\n",
    "#     hands_plotX = [newXArray[6], newXArray[4], newXArray[2],newXArray[3],newXArray[5],newXArray[7]]\n",
    "#     hands_plotY = [newYArray[6], newYArray[4], newYArray[2],newYArray[3],newYArray[5],newYArray[7]]\n",
    "#     body_plotX = [newXArray[2], newXArray[8], newXArray[9], newXArray[3]]\n",
    "#     body_plotY = [newYArray[2], newYArray[8], newYArray[9], newYArray[3]]\n",
    "#     plt.plot(head_plotX, head_plotY, 'o', color='black' , linewidth=1, linestyle='solid')\n",
    "#     plt.plot(hands_plotX, hands_plotY, 'o', color='black', linewidth=1, linestyle='solid')\n",
    "#     plt.plot(body_plotX, body_plotY, 'o', color='black', linewidth=1, linestyle='solid')\n",
    "#     plt.yscale(\"linear\")\n",
    "#     plt.ylim(max(newYArray) + 20, min(newYArray) - 20)\n",
    "#     plt.xlim(-300, 300)\n",
    "#     plt.show()\n",
    "#     plt.imshow(annotated_image)\n",
    "   \n",
    "    final = []\n",
    "    for i in image_vector:\n",
    "        height = int(abs(i[-2][1] - i[2][1]))\n",
    "        width = int(abs(i[3][0] - i[2][0]))\n",
    "#         print(height, width)\n",
    "\n",
    "        y = 150 / height\n",
    "        x = 50 / width\n",
    "\n",
    "        ratio = (y, x)\n",
    "        temp = list()\n",
    "        for j in i:\n",
    "            temp.append((j[0] * x, j[1] * y))\n",
    "        final.append(temp)\n",
    "    \n",
    "    normalizedXarray = list()\n",
    "    normalizedYarray = list()\n",
    "    \n",
    "    for z in final:\n",
    "        xList = []\n",
    "        yList = []\n",
    "        for x, y in z:\n",
    "            xList.append(x)\n",
    "            yList.append(y)\n",
    "        normalizedXarray = xList\n",
    "        normalizedYarray = yList\n",
    "    \n",
    "#     plt.figure(figsize=(10,10))\n",
    "    newXArray = normalizedXarray\n",
    "    newYArray = normalizedYarray\n",
    "#     for i in range(len(image_vector)):\n",
    "#         head_plotX = [normalizedXarray[0], normalizedXarray[1]]\n",
    "#         head_plotY = [normalizedYarray[0], normalizedYarray[1]]\n",
    "#         hands_plotX = [normalizedXarray[6], normalizedXarray[4], normalizedXarray[2],normalizedXarray[3],normalizedXarray[5],normalizedXarray[7]]\n",
    "#         hands_plotY = [normalizedYarray[6], normalizedYarray[4], normalizedYarray[2],normalizedYarray[3],normalizedYarray[5],normalizedYarray[7]]\n",
    "#         body_plotX = [normalizedXarray[2], normalizedXarray[8], normalizedXarray[9], normalizedXarray[3]]\n",
    "#         body_plotY = [normalizedYarray[2], normalizedYarray[8], normalizedYarray[9], normalizedYarray[3]]\n",
    "#         plt.plot(head_plotX, head_plotY, 'o', color='black', linewidth=1, linestyle='solid', label=i)\n",
    "#         plt.plot(hands_plotX, hands_plotY, 'o', color='black', linewidth=1, linestyle='solid')\n",
    "#         plt.plot(body_plotX, body_plotY, 'o', color='black', linewidth=1, linestyle='solid')\n",
    "#     plt.gca().invert_yaxis()\n",
    "#     plt.legend(loc='best')\n",
    "#     plt.show()\n",
    "    \n",
    "    return (normalizedXarray, normalizedYarray)"
   ]
  },
  {
   "cell_type": "markdown",
   "id": "f073edac",
   "metadata": {},
   "source": [
    "### Testing the get_ten_joints function"
   ]
  },
  {
   "cell_type": "code",
   "execution_count": 3,
   "id": "76e112e7",
   "metadata": {
    "scrolled": true
   },
   "outputs": [
    {
     "name": "stdout",
     "output_type": "stream",
     "text": [
      "./Images\\confused/mixedsamples\\chin (1).jpg\n",
      "normalized_X_coordinates =  [-3.359994141662374, 0.0, 28.26364443023154, -21.80330915019867, 39.93959417368503, -23.860618123348722, -5.954259737057889, -5.906477855875137, 23.32287419666635, -11.214934257750816]\n",
      "normalized_Y_coordinates =  [-52.12860262912253, 0.0, 24.581267664083846, 27.48169328855431, 133.94079542913926, 128.88124455576357, 101.65123953649649, 9.987417888264405, 175.15440349993497, 176.840413936042]\n",
      "./Images\\confused/mixedsamples\\chin (2).jpg\n",
      "normalized_X_coordinates =  [-1.6482894308865073, 0.0, 25.478429091162983, -24.966619908809662, 30.248492606915537, -24.946913495659828, -12.149062869139016, -7.343390840105713, 14.65752145741135, -17.035572067834437]\n",
      "normalized_Y_coordinates =  [-49.350560162247724, 0.0, 20.58595529123515, 19.555829853570767, 126.79196325670772, 115.24146845360764, 102.44679425944801, -5.459656084285057, 170.6611491051041, 167.71936086045596]\n",
      "./Images\\confused/mixedsamples\\chin (3).jpg\n",
      "normalized_X_coordinates =  [-0.24794960158995483, 0.0, 25.125425094845646, -25.1131344800708, 35.09058897522674, -24.164784811008943, -1.098772712137514, 1.5031227435188668, 16.691998229629686, -15.940847821619327]\n",
      "normalized_Y_coordinates =  [-46.313237457375266, 0.0, 20.338835891004628, 19.422016780413877, 120.64250907348713, 110.4815274633038, 119.7927418179537, 2.500335521098824, 170.70539434542832, 170.82417360775133]\n",
      "./Images\\confused/mixedsamples\\chin (4).jpg\n",
      "normalized_X_coordinates =  [-1.3607020179430673, 0.0, 27.775402863820393, -22.268430391947433, 28.26514442761739, -35.80373922983806, -14.86186782519023, 1.3139446576436333, 19.58834131558736, -15.703872839609785]\n",
      "normalized_Y_coordinates =  [-46.54456780237311, 0.0, 21.914395865272066, 18.37130872642292, 120.91596442110398, 104.81465266031377, 82.3714759419946, 13.525627290501308, 172.06145823001862, 171.01743940044852]\n",
      "./Images\\confused/mixedsamples\\frame0.jpg\n",
      "normalized_X_coordinates =  [0.2994738127055921, 0.0, 23.829102097896108, -26.196409526624176, 36.68674669767681, -42.31707924290707, 39.90407575640762, -32.46719628049616, 15.046250192742598, -16.913497657106632]\n",
      "normalized_Y_coordinates =  [-42.08398582343768, 0.0, 19.276696040218038, 15.240491781019626, 86.68256881541775, 84.54967620677517, 144.56826941411296, 129.19915529122028, 169.61376111310227, 169.17505658658823]\n",
      "./Images\\confused/mixedsamples\\frame1050.jpg\n",
      "normalized_X_coordinates =  [-4.125109033508655, 0.0, 26.95595716318037, -23.091686192361713, 54.38989285587315, -36.231625744642805, 74.10711260243352, -59.465801078440535, 22.744440245818218, -9.712774734583874]\n",
      "normalized_Y_coordinates =  [-45.19975277093741, 0.0, 12.108646906339207, 24.186790906465973, 91.48635314061092, 115.49712511209341, 23.619961738586426, 56.28769947932317, 162.16889894925632, 165.1207813849816]\n",
      "./Images\\confused/mixedsamples\\frame10800.jpg\n",
      "normalized_X_coordinates =  [-3.7789521393952548, 0.0, 27.61755407057226, -22.522011188545616, 47.57653824006668, -33.85954834395386, 64.38260447698009, -38.00053066677518, 19.61542379976523, -11.185912572173558]\n",
      "normalized_Y_coordinates =  [-39.65368333466013, 0.0, 11.333824626585749, 20.371089402701802, 80.69685592287196, 93.0310484902102, 159.4464255403505, 172.64095809408474, 161.40653011622462, 163.70788849623506]\n",
      "./Images\\confused/mixedsamples\\frame14550.jpg\n",
      "normalized_X_coordinates =  [-2.6899837797081134, 0.0, 26.69788736182742, -23.420182269945965, 41.38726837411612, -36.624003418258354, 72.09792991267123, -61.05802180786856, 19.015779416049227, -13.959278274119814]\n",
      "normalized_Y_coordinates =  [-45.31429019676247, 0.0, 18.82873150297833, 19.760865850497016, 105.33207987770815, 105.29732825187257, 93.52512105467355, 95.34828251388471, 168.94778200817592, 167.85932252854863]\n",
      "./Images\\confused/mixedsamples\\frame150.jpg\n",
      "normalized_X_coordinates =  [-4.721415411565721, 0.0, 26.6405282561312, -23.36397859239087, 52.440872716739825, -35.94098304145525, 68.47917091395847, -52.99178185741516, 24.164881493217756, -9.776734814201435]\n",
      "normalized_Y_coordinates =  [-44.537621647564336, 0.0, 10.914199387849267, 25.091315383341776, 92.93253208274272, 121.02869553352471, 29.206016170444776, 48.00581932067871, 161.265129473672, 165.03479409573683]\n",
      "./Images\\confused/mixedsamples\\frame15150.jpg\n",
      "normalized_X_coordinates =  [0.023075420622435675, 0.0, 28.32301817794191, -21.772252960369674, 43.26832307323798, -34.78553714361262, 53.84379966102115, -38.279941809858954, 19.096327188074145, -11.981171954668321]\n",
      "normalized_Y_coordinates =  [-45.04314131535608, 0.0, 23.081607913261017, 18.032702855377575, 102.611051303873, 95.95935397940889, 187.26476250452086, 188.2171636775469, 173.20965714845113, 172.11483666677924]\n",
      "./Images\\confused/mixedsamples\\frame15750.jpg\n",
      "normalized_X_coordinates =  [-3.0719805182072095, 0.0, 26.48572754441647, -23.55769224334181, 38.63291573106198, -31.419670372678517, 29.794086489761092, -21.986545177928182, 21.39758645442495, -9.83869820310358]\n",
      "normalized_Y_coordinates =  [-44.2229304740678, 0.0, 13.11327450311006, 25.69670997448822, 88.32899670102704, 104.94027742699012, 167.5515388374898, 188.24320408835342, 163.12629429262077, 168.73414480864113]\n",
      "./Images\\confused/mixedsamples\\frame15900.jpg\n",
      "normalized_X_coordinates =  [-1.7613556240295833, 0.0, 21.43118772036978, -28.621192923389618, 43.980073000284136, -42.382051308403575, 55.42173964597652, -54.062546187113504, 19.927489115746713, -15.376092095828405]\n",
      "normalized_Y_coordinates =  [-50.049622345458516, 0.0, 21.237936776007533, 29.209341234563258, 95.95227241516113, 116.9204407030969, 7.090344758289854, 16.506141408934923, 171.39907749107732, 176.4523428114479]\n",
      "./Images\\confused/mixedsamples\\frame16800.jpg\n",
      "normalized_X_coordinates =  [-3.6965887176042993, 0.0, 26.45835559704692, -23.597545329644863, 52.15469939570128, -39.47643311705312, 53.37272815998481, -74.54981187343031, 22.221027885608976, -11.0054740136487]\n",
      "normalized_Y_coordinates =  [-41.90381221911487, 0.0, 10.496714535881493, 24.490603629280542, 84.51883582507864, 102.19096436220057, 30.642202671836408, 105.05744113641627, 160.51159185521743, 164.29306479061353]\n",
      "./Images\\confused/mixedsamples\\frame1800.jpg\n",
      "normalized_X_coordinates =  [0.43180289210019274, 0.0, 25.329298531862943, -24.812893989758606, 32.695185513533616, -31.954364500183985, 34.041020915393986, -25.044589005452195, 16.60120739718877, -13.559607226181448]\n",
      "normalized_Y_coordinates =  [-47.55524114558571, 0.0, 23.132759646365518, 17.769403206674678, 111.57799770957546, 99.94806364962929, 208.32471220116867, 191.39881008549742, 173.19164778056899, 173.487357089394]\n",
      "./Images\\confused/mixedsamples\\frame1950.jpg\n",
      "normalized_X_coordinates =  [-0.6179138116448426, 0.0, 26.39446741152386, -23.649173732375687, 33.89889598548477, -29.06598090076342, 36.65763972484894, -22.875715534810322, 17.966227431764167, -11.450797942343069]\n",
      "normalized_Y_coordinates =  [-47.21339501832661, 0.0, 20.991916405527217, 18.632967221109492, 110.26763414081775, 100.92321320583946, 204.5063420345909, 190.62009987078216, 171.03103524760198, 171.5901148946662]\n",
      "./Images\\confused/mixedsamples\\frame2100.jpg\n",
      "normalized_X_coordinates =  [-0.648066449705451, 0.0, 25.97874885238104, -24.114806289425946, 34.012982760432465, -29.260308225563815, 35.57302110789277, -22.79192112796129, 17.603340272378766, -11.15787222161648]\n",
      "normalized_Y_coordinates =  [-49.55149743151157, 0.0, 20.680499203661654, 22.71294023128266, 107.58550940675939, 106.21799370075794, 201.0660691464201, 193.49888410974054, 170.75618847887566, 173.59974663308327]\n",
      "./Images\\confused/mixedsamples\\frame2250.jpg\n",
      "normalized_X_coordinates =  [-2.283288286877917, 0.0, 27.288424504267706, -22.81778508966619, 34.42365472966974, -28.92562321254185, 33.3867630401215, -22.977098242028966, 19.156059661468902, -10.367610237815164]\n",
      "normalized_Y_coordinates =  [-46.129212355064915, 0.0, 18.292445965740075, 19.996388184140102, 106.4419404929861, 100.65877407103244, 196.43836436064348, 191.67571604404304, 168.48644820015753, 170.10140419006348]\n",
      "./Images\\confused/mixedsamples\\frame3900.jpg\n",
      "normalized_X_coordinates =  [-1.2431600514580223, 0.0, 26.731883778291593, -23.441987879136033, 37.66939219306497, -37.805381943197816, 62.871273826150336, -55.46008839326747, 17.500456641702094, -15.366063398473404]\n",
      "normalized_Y_coordinates =  [-46.00152498797367, 0.0, 23.433438100312888, 18.713625481254176, 110.50077174839221, 99.67717747939261, 92.11080701727616, 102.66086678755912, 173.57089519500732, 171.12587251161276]\n",
      "./Images\\confused/mixedsamples\\frame4800.jpg\n",
      "normalized_X_coordinates =  [-2.6603746244491635, 0.0, 25.918532945083133, -24.10729839284225, 43.79478807551157, -43.75133989544526, 82.5307038330947, -58.255898146442675, 16.194896765875225, -16.510844654884202]\n",
      "normalized_Y_coordinates =  [-47.3774615235216, 0.0, 20.45503000574788, 19.872344384981893, 105.33303163183018, 100.13767302505615, 109.04064704114059, 28.095954985130493, 170.84496040043868, 170.0367664727639]\n",
      "./Images\\confused/mixedsamples\\frame5250.jpg\n",
      "normalized_X_coordinates =  [-2.153852324941504, 0.0, 25.925007177677458, -24.214800143297463, 45.944991923156586, -39.50013869848007, 64.1829528452911, -61.46939373238659, 21.392346539975318, -12.148959375483734]\n",
      "normalized_Y_coordinates =  [-46.60391533861355, 0.0, 18.567843704807515, 25.297270745647197, 98.54353264886505, 113.64363590065314, 65.38399020019843, 66.15365828786577, 168.5802577709665, 171.02130882594048]\n",
      "./Images\\confused/mixedsamples\\frame5850.jpg\n"
     ]
    },
    {
     "name": "stdout",
     "output_type": "stream",
     "text": [
      "normalized_X_coordinates =  [-0.9889931869095386, 0.0, 25.047392778283434, -25.073433128118264, 40.58213630026083, -40.20452242195928, 34.94448286301366, -35.45481693140255, 17.42056606914104, -12.859204569037813]\n",
      "normalized_Y_coordinates =  [-43.29092860221863, 0.0, 15.769205689430237, 20.76162278652191, 88.32712233066559, 97.0665317773819, 170.41314661502838, 169.11242544651031, 166.1062377691269, 169.17374074459076]\n",
      "./Images\\confused/mixedsamples\\frame6300.jpg\n",
      "normalized_X_coordinates =  [-3.4264978805890802, 0.0, 26.16481115384797, -23.92412637832219, 50.92674099294432, -38.14506301237214, 40.20421915249418, -38.587609209595456, 19.530005977185347, -14.181086589569931]\n",
      "normalized_Y_coordinates =  [-45.459820378211234, 0.0, 13.94166100409723, 21.09256867439516, 103.55596003993864, 120.02782091017691, 33.5582475508413, 44.18389643392255, 164.04693741952218, 164.04223057531541]\n",
      "./Images\\confused/mixedsamples\\frame6450.jpg\n",
      "normalized_X_coordinates =  [-4.147227548619607, 0.0, 27.45010674636135, -22.697068618285698, 57.071231013939475, -46.53000067985779, 72.742631851142, -60.531147858426245, 21.554634664406557, -11.859846284805243]\n",
      "normalized_Y_coordinates =  [-39.70762837696545, 0.0, 14.098573200808369, 22.264369602861077, 71.63630095608715, 76.66367497937432, 6.253325880454678, 10.083663052526013, 164.34470186092582, 165.51866907204314]\n",
      "./Images\\confused/mixedsamples\\frame9150.jpg\n",
      "normalized_X_coordinates =  [-1.0055644171578544, 0.0, 23.27284131731306, -26.863922391619003, 53.25085776192802, -57.069383348737446, 100.64776284354073, -97.02589852469308, 21.704156058175222, -10.541984013148717]\n",
      "normalized_Y_coordinates =  [-44.33213302067348, 0.0, 18.83798156465803, 21.526551246643066, 76.40989678246635, 86.32723433630807, 83.58371768678938, 117.86178180149624, 168.97666965212142, 171.75077881131853]\n",
      "./Images\\confused/mixedsamples\\frame9600.jpg\n",
      "normalized_X_coordinates =  [-1.7455026289697904, 0.0, 32.08951709438289, -18.099238989679296, 55.53308109521549, -33.67884257241865, 98.59747209080345, -71.0472598335499, 20.538917734011875, -12.345034129432781]\n",
      "normalized_Y_coordinates =  [-46.290777302995515, 0.0, 21.463044685653493, 18.375796305982373, 97.53819538068169, 76.4792068095147, 56.848516947106475, 54.0427660640282, 171.73838011826143, 169.9871081340162]\n",
      "./Images\\confused/mixedsamples\\hands (10).jpg\n",
      "normalized_X_coordinates =  [0.41248723357713624, 0.0, 24.98012260616232, -25.023649105814844, 36.36768100922611, -38.047479949638145, 48.02962912081862, -51.29576170829688, 15.774022828356754, -17.74405977454315]\n",
      "normalized_Y_coordinates =  [-52.81101960850798, 0.0, 22.558700533016868, 25.07440780815871, 122.0600326164909, 123.930943608284, 33.79019655611204, 17.35693643922391, 172.62594984925312, 171.00480056327322]\n",
      "./Images\\confused/mixedsamples\\hands (11).jpg\n",
      "normalized_X_coordinates =  [-1.6181064752845078, 0.0, 25.804599153028953, -24.29982941966873, 36.4546476989179, -30.674385621741013, 68.2338280989243, -61.20511388724989, 21.842363798940504, -10.450611511866251]\n",
      "normalized_Y_coordinates =  [-42.275662452317356, 0.0, 15.008722036407233, 18.858171832025718, 96.56055555417296, 106.92458210533924, 88.22112651855757, 85.73778416501001, 165.26728226395136, 165.88680353224947]\n",
      "./Images\\confused/mixedsamples\\hands (12).jpg\n",
      "normalized_X_coordinates =  [0.17834109138454912, 0.0, 25.746259498878345, -24.411387979631595, 50.614140619187665, -41.46276239812727, 49.390632584250184, -48.32883232091306, 20.65409573577565, -14.109813073683068]\n",
      "normalized_Y_coordinates =  [-46.934174101001446, 0.0, 17.185579519718885, 24.155897514096328, 103.15668511071375, 110.9875012588288, -11.546220816671848, 5.20391667793904, 167.23347207797423, 170.84909557764018]\n",
      "./Images\\confused/mixedsamples\\hands (4).jpg\n",
      "normalized_X_coordinates =  [-3.912500888109207, 0.0, 28.073063120245934, -21.92939057946205, 44.907775446772575, -37.61391691863537, 71.3581521064043, -70.2092918753624, 16.87028832733631, -17.677724733948708]\n",
      "normalized_Y_coordinates =  [-38.63686667755246, 0.0, 13.789453543722633, 17.822813056409363, 95.29808908700943, 93.99730041623116, 50.67510642111302, 46.04138024151326, 164.1228571534157, 159.95921436697247]\n",
      "./Images\\confused/mixedsamples\\hands (6).jpg\n",
      "normalized_X_coordinates =  [1.9552639552525113, 0.0, 22.440198489597865, -27.723026275634766, 36.337811606270925, -43.44619682856968, 67.99114261354718, -72.02237503869193, 18.290177413395472, -14.44244384765625]\n",
      "normalized_Y_coordinates =  [-43.69303678211413, 0.0, 18.210585493790475, 19.00951862335205, 92.47333125064247, 108.2708195636147, 70.41525087858501, 64.95358128296701, 168.48410054257042, 172.3642763338591]\n",
      "./Images\\confused/mixedsamples\\hands (7).jpg\n",
      "normalized_X_coordinates =  [-0.5710717651151841, 0.0, 25.58106905029666, -24.661614817957723, 32.03807482796331, -35.37458344813316, 47.05922286356649, -54.33228592718801, 16.839616048720575, -18.36567626845452]\n",
      "normalized_Y_coordinates =  [-48.99411138970308, 0.0, 20.68426684940352, 22.457010915663354, 127.81550759233339, 125.08601186873761, 24.923892056897333, 11.595691947008335, 170.887710092666, 167.64296315582504]\n",
      "./Images\\confused/mixedsamples\\hands (8).jpg\n",
      "normalized_X_coordinates =  [1.7101957729169466, 0.0, 24.735758920979947, -25.33575334730423, 35.163664645723166, -41.64551316596704, 57.38301320964584, -56.09319890186855, 12.972388602304342, -22.226571129375863]\n",
      "normalized_Y_coordinates =  [-43.98708095667893, 0.0, 20.560552419158462, 17.195804455737374, 116.10827614297521, 110.603062430194, 31.801911787047903, 10.661772773673498, 171.29538647560258, 166.9464197029104]\n",
      "./Images\\confused/mixedsamples\\hands (9).jpg\n",
      "normalized_X_coordinates =  [-1.0469604160121133, 0.0, 27.02680394547259, -23.208214275785824, 38.00965328546527, -34.433278522761015, 52.423627723959676, -53.48026629893171, 19.159188959566002, -14.363366167912478]\n",
      "normalized_Y_coordinates =  [-48.36668808744332, 0.0, 19.377163428569506, 22.312322802075716, 125.68818784762765, 119.60283151575338, 35.237870873691875, 38.19038238480826, 169.614113741946, 168.39444662365958]\n"
     ]
    }
   ],
   "source": [
    "images = {name: cv2.imread(name) for name in glob.glob('./Images\\confused/mixedsamples/*jpg')}\n",
    "\n",
    "for name, image in images.items():\n",
    "#     plt.figure()\n",
    "#     plt.imshow(image)\n",
    "    print(name)   \n",
    "#     cv2.imshow('image',image)\n",
    "#     cv2.waitKey(0)\n",
    "    normalized_X_coordinates, normalized_Y_coordinates = get_ten_joints(image)\n",
    "    print(\"normalized_X_coordinates = \", normalized_X_coordinates)\n",
    "    print(\"normalized_Y_coordinates = \", normalized_Y_coordinates)"
   ]
  },
  {
   "cell_type": "markdown",
   "id": "a3904bc1",
   "metadata": {},
   "source": [
    "## Part 2: Function to get frames from a video on which we will use the created fucntion to obtain the coordinates of the joints "
   ]
  },
  {
   "cell_type": "code",
   "execution_count": 4,
   "id": "d6bdf2fc",
   "metadata": {},
   "outputs": [],
   "source": [
    "# import cv2\n",
    "# import os\n",
    "# cap = cv2.VideoCapture('sampleOP.mp4')\n",
    "# count = 0\n",
    "# path = './Images\\sampleOP'\n",
    "# fps = cap.get(cv2.CAP_PROP_FPS)\n",
    "# print(fps)\n",
    "# while cap.isOpened():\n",
    "#     ret, frame = cap.read()\n",
    "\n",
    "#     if ret:\n",
    "#         cv2.imwrite(os.path.join(path, 'frame{:d}.jpg'.format(count)), frame)\n",
    "#         count += 150 # i.e. at 30 fps, this advances one second\n",
    "#         cap.set(1, count)\n",
    "#     else:\n",
    "#         cap.release()\n",
    "#         break"
   ]
  },
  {
   "cell_type": "markdown",
   "id": "b13832a6",
   "metadata": {},
   "source": [
    "### We store the images at above 'path' and we run the function for each image "
   ]
  },
  {
   "cell_type": "code",
   "execution_count": 5,
   "id": "a0954d16",
   "metadata": {
    "scrolled": true
   },
   "outputs": [
    {
     "name": "stdout",
     "output_type": "stream",
     "text": [
      "./Images\\confused/mixedsamples\\chin (1).jpg\n",
      "normalized_X_coordinates =  [-3.359994141662374, 0.0, 28.26364443023154, -21.80330915019867, 39.93959417368503, -23.860618123348722, -5.954259737057889, -5.906477855875137, 23.32287419666635, -11.214934257750816]\n",
      "normalized_Y_coordinates =  [-52.12860262912253, 0.0, 24.581267664083846, 27.48169328855431, 133.94079542913926, 128.88124455576357, 101.65123953649649, 9.987417888264405, 175.15440349993497, 176.840413936042]\n",
      "./Images\\confused/mixedsamples\\chin (2).jpg\n",
      "normalized_X_coordinates =  [-1.6482894308865073, 0.0, 25.478429091162983, -24.966619908809662, 30.248492606915537, -24.946913495659828, -12.149062869139016, -7.343390840105713, 14.65752145741135, -17.035572067834437]\n",
      "normalized_Y_coordinates =  [-49.350560162247724, 0.0, 20.58595529123515, 19.555829853570767, 126.79196325670772, 115.24146845360764, 102.44679425944801, -5.459656084285057, 170.6611491051041, 167.71936086045596]\n",
      "./Images\\confused/mixedsamples\\chin (3).jpg\n",
      "normalized_X_coordinates =  [-0.24794960158995483, 0.0, 25.125425094845646, -25.1131344800708, 35.09058897522674, -24.164784811008943, -1.098772712137514, 1.5031227435188668, 16.691998229629686, -15.940847821619327]\n",
      "normalized_Y_coordinates =  [-46.313237457375266, 0.0, 20.338835891004628, 19.422016780413877, 120.64250907348713, 110.4815274633038, 119.7927418179537, 2.500335521098824, 170.70539434542832, 170.82417360775133]\n",
      "./Images\\confused/mixedsamples\\chin (4).jpg\n",
      "normalized_X_coordinates =  [-1.3607020179430673, 0.0, 27.775402863820393, -22.268430391947433, 28.26514442761739, -35.80373922983806, -14.86186782519023, 1.3139446576436333, 19.58834131558736, -15.703872839609785]\n",
      "normalized_Y_coordinates =  [-46.54456780237311, 0.0, 21.914395865272066, 18.37130872642292, 120.91596442110398, 104.81465266031377, 82.3714759419946, 13.525627290501308, 172.06145823001862, 171.01743940044852]\n",
      "./Images\\confused/mixedsamples\\frame0.jpg\n",
      "normalized_X_coordinates =  [0.2994738127055921, 0.0, 23.829102097896108, -26.196409526624176, 36.68674669767681, -42.31707924290707, 39.90407575640762, -32.46719628049616, 15.046250192742598, -16.913497657106632]\n",
      "normalized_Y_coordinates =  [-42.08398582343768, 0.0, 19.276696040218038, 15.240491781019626, 86.68256881541775, 84.54967620677517, 144.56826941411296, 129.19915529122028, 169.61376111310227, 169.17505658658823]\n",
      "./Images\\confused/mixedsamples\\frame1050.jpg\n",
      "normalized_X_coordinates =  [-4.125109033508655, 0.0, 26.95595716318037, -23.091686192361713, 54.38989285587315, -36.231625744642805, 74.10711260243352, -59.465801078440535, 22.744440245818218, -9.712774734583874]\n",
      "normalized_Y_coordinates =  [-45.19975277093741, 0.0, 12.108646906339207, 24.186790906465973, 91.48635314061092, 115.49712511209341, 23.619961738586426, 56.28769947932317, 162.16889894925632, 165.1207813849816]\n",
      "./Images\\confused/mixedsamples\\frame10800.jpg\n",
      "normalized_X_coordinates =  [-3.7789521393952548, 0.0, 27.61755407057226, -22.522011188545616, 47.57653824006668, -33.85954834395386, 64.38260447698009, -38.00053066677518, 19.61542379976523, -11.185912572173558]\n",
      "normalized_Y_coordinates =  [-39.65368333466013, 0.0, 11.333824626585749, 20.371089402701802, 80.69685592287196, 93.0310484902102, 159.4464255403505, 172.64095809408474, 161.40653011622462, 163.70788849623506]\n",
      "./Images\\confused/mixedsamples\\frame14550.jpg\n",
      "normalized_X_coordinates =  [-2.6899837797081134, 0.0, 26.69788736182742, -23.420182269945965, 41.38726837411612, -36.624003418258354, 72.09792991267123, -61.05802180786856, 19.015779416049227, -13.959278274119814]\n",
      "normalized_Y_coordinates =  [-45.31429019676247, 0.0, 18.82873150297833, 19.760865850497016, 105.33207987770815, 105.29732825187257, 93.52512105467355, 95.34828251388471, 168.94778200817592, 167.85932252854863]\n",
      "./Images\\confused/mixedsamples\\frame150.jpg\n",
      "normalized_X_coordinates =  [-4.721415411565721, 0.0, 26.6405282561312, -23.36397859239087, 52.440872716739825, -35.94098304145525, 68.47917091395847, -52.99178185741516, 24.164881493217756, -9.776734814201435]\n",
      "normalized_Y_coordinates =  [-44.537621647564336, 0.0, 10.914199387849267, 25.091315383341776, 92.93253208274272, 121.02869553352471, 29.206016170444776, 48.00581932067871, 161.265129473672, 165.03479409573683]\n",
      "./Images\\confused/mixedsamples\\frame15150.jpg\n",
      "normalized_X_coordinates =  [0.023075420622435675, 0.0, 28.32301817794191, -21.772252960369674, 43.26832307323798, -34.78553714361262, 53.84379966102115, -38.279941809858954, 19.096327188074145, -11.981171954668321]\n",
      "normalized_Y_coordinates =  [-45.04314131535608, 0.0, 23.081607913261017, 18.032702855377575, 102.611051303873, 95.95935397940889, 187.26476250452086, 188.2171636775469, 173.20965714845113, 172.11483666677924]\n",
      "./Images\\confused/mixedsamples\\frame15750.jpg\n",
      "normalized_X_coordinates =  [-3.0719805182072095, 0.0, 26.48572754441647, -23.55769224334181, 38.63291573106198, -31.419670372678517, 29.794086489761092, -21.986545177928182, 21.39758645442495, -9.83869820310358]\n",
      "normalized_Y_coordinates =  [-44.2229304740678, 0.0, 13.11327450311006, 25.69670997448822, 88.32899670102704, 104.94027742699012, 167.5515388374898, 188.24320408835342, 163.12629429262077, 168.73414480864113]\n",
      "./Images\\confused/mixedsamples\\frame15900.jpg\n",
      "normalized_X_coordinates =  [-1.7613556240295833, 0.0, 21.43118772036978, -28.621192923389618, 43.980073000284136, -42.382051308403575, 55.42173964597652, -54.062546187113504, 19.927489115746713, -15.376092095828405]\n",
      "normalized_Y_coordinates =  [-50.049622345458516, 0.0, 21.237936776007533, 29.209341234563258, 95.95227241516113, 116.9204407030969, 7.090344758289854, 16.506141408934923, 171.39907749107732, 176.4523428114479]\n",
      "./Images\\confused/mixedsamples\\frame16800.jpg\n",
      "normalized_X_coordinates =  [-3.6965887176042993, 0.0, 26.45835559704692, -23.597545329644863, 52.15469939570128, -39.47643311705312, 53.37272815998481, -74.54981187343031, 22.221027885608976, -11.0054740136487]\n",
      "normalized_Y_coordinates =  [-41.90381221911487, 0.0, 10.496714535881493, 24.490603629280542, 84.51883582507864, 102.19096436220057, 30.642202671836408, 105.05744113641627, 160.51159185521743, 164.29306479061353]\n",
      "./Images\\confused/mixedsamples\\frame1800.jpg\n",
      "normalized_X_coordinates =  [0.43180289210019274, 0.0, 25.329298531862943, -24.812893989758606, 32.695185513533616, -31.954364500183985, 34.041020915393986, -25.044589005452195, 16.60120739718877, -13.559607226181448]\n",
      "normalized_Y_coordinates =  [-47.55524114558571, 0.0, 23.132759646365518, 17.769403206674678, 111.57799770957546, 99.94806364962929, 208.32471220116867, 191.39881008549742, 173.19164778056899, 173.487357089394]\n",
      "./Images\\confused/mixedsamples\\frame1950.jpg\n",
      "normalized_X_coordinates =  [-0.6179138116448426, 0.0, 26.39446741152386, -23.649173732375687, 33.89889598548477, -29.06598090076342, 36.65763972484894, -22.875715534810322, 17.966227431764167, -11.450797942343069]\n",
      "normalized_Y_coordinates =  [-47.21339501832661, 0.0, 20.991916405527217, 18.632967221109492, 110.26763414081775, 100.92321320583946, 204.5063420345909, 190.62009987078216, 171.03103524760198, 171.5901148946662]\n",
      "./Images\\confused/mixedsamples\\frame2100.jpg\n",
      "normalized_X_coordinates =  [-0.648066449705451, 0.0, 25.97874885238104, -24.114806289425946, 34.012982760432465, -29.260308225563815, 35.57302110789277, -22.79192112796129, 17.603340272378766, -11.15787222161648]\n",
      "normalized_Y_coordinates =  [-49.55149743151157, 0.0, 20.680499203661654, 22.71294023128266, 107.58550940675939, 106.21799370075794, 201.0660691464201, 193.49888410974054, 170.75618847887566, 173.59974663308327]\n",
      "./Images\\confused/mixedsamples\\frame2250.jpg\n",
      "normalized_X_coordinates =  [-2.283288286877917, 0.0, 27.288424504267706, -22.81778508966619, 34.42365472966974, -28.92562321254185, 33.3867630401215, -22.977098242028966, 19.156059661468902, -10.367610237815164]\n",
      "normalized_Y_coordinates =  [-46.129212355064915, 0.0, 18.292445965740075, 19.996388184140102, 106.4419404929861, 100.65877407103244, 196.43836436064348, 191.67571604404304, 168.48644820015753, 170.10140419006348]\n",
      "./Images\\confused/mixedsamples\\frame3900.jpg\n",
      "normalized_X_coordinates =  [-1.2431600514580223, 0.0, 26.731883778291593, -23.441987879136033, 37.66939219306497, -37.805381943197816, 62.871273826150336, -55.46008839326747, 17.500456641702094, -15.366063398473404]\n",
      "normalized_Y_coordinates =  [-46.00152498797367, 0.0, 23.433438100312888, 18.713625481254176, 110.50077174839221, 99.67717747939261, 92.11080701727616, 102.66086678755912, 173.57089519500732, 171.12587251161276]\n",
      "./Images\\confused/mixedsamples\\frame4800.jpg\n"
     ]
    },
    {
     "name": "stdout",
     "output_type": "stream",
     "text": [
      "normalized_X_coordinates =  [-2.6603746244491635, 0.0, 25.918532945083133, -24.10729839284225, 43.79478807551157, -43.75133989544526, 82.5307038330947, -58.255898146442675, 16.194896765875225, -16.510844654884202]\n",
      "normalized_Y_coordinates =  [-47.3774615235216, 0.0, 20.45503000574788, 19.872344384981893, 105.33303163183018, 100.13767302505615, 109.04064704114059, 28.095954985130493, 170.84496040043868, 170.0367664727639]\n",
      "./Images\\confused/mixedsamples\\frame5250.jpg\n",
      "normalized_X_coordinates =  [-2.153852324941504, 0.0, 25.925007177677458, -24.214800143297463, 45.944991923156586, -39.50013869848007, 64.1829528452911, -61.46939373238659, 21.392346539975318, -12.148959375483734]\n",
      "normalized_Y_coordinates =  [-46.60391533861355, 0.0, 18.567843704807515, 25.297270745647197, 98.54353264886505, 113.64363590065314, 65.38399020019843, 66.15365828786577, 168.5802577709665, 171.02130882594048]\n",
      "./Images\\confused/mixedsamples\\frame5850.jpg\n",
      "normalized_X_coordinates =  [-0.9889931869095386, 0.0, 25.047392778283434, -25.073433128118264, 40.58213630026083, -40.20452242195928, 34.94448286301366, -35.45481693140255, 17.42056606914104, -12.859204569037813]\n",
      "normalized_Y_coordinates =  [-43.29092860221863, 0.0, 15.769205689430237, 20.76162278652191, 88.32712233066559, 97.0665317773819, 170.41314661502838, 169.11242544651031, 166.1062377691269, 169.17374074459076]\n",
      "./Images\\confused/mixedsamples\\frame6300.jpg\n",
      "normalized_X_coordinates =  [-3.4264978805890802, 0.0, 26.16481115384797, -23.92412637832219, 50.92674099294432, -38.14506301237214, 40.20421915249418, -38.587609209595456, 19.530005977185347, -14.181086589569931]\n",
      "normalized_Y_coordinates =  [-45.459820378211234, 0.0, 13.94166100409723, 21.09256867439516, 103.55596003993864, 120.02782091017691, 33.5582475508413, 44.18389643392255, 164.04693741952218, 164.04223057531541]\n",
      "./Images\\confused/mixedsamples\\frame6450.jpg\n",
      "normalized_X_coordinates =  [-4.147227548619607, 0.0, 27.45010674636135, -22.697068618285698, 57.071231013939475, -46.53000067985779, 72.742631851142, -60.531147858426245, 21.554634664406557, -11.859846284805243]\n",
      "normalized_Y_coordinates =  [-39.70762837696545, 0.0, 14.098573200808369, 22.264369602861077, 71.63630095608715, 76.66367497937432, 6.253325880454678, 10.083663052526013, 164.34470186092582, 165.51866907204314]\n",
      "./Images\\confused/mixedsamples\\frame9150.jpg\n",
      "normalized_X_coordinates =  [-1.0055644171578544, 0.0, 23.27284131731306, -26.863922391619003, 53.25085776192802, -57.069383348737446, 100.64776284354073, -97.02589852469308, 21.704156058175222, -10.541984013148717]\n",
      "normalized_Y_coordinates =  [-44.33213302067348, 0.0, 18.83798156465803, 21.526551246643066, 76.40989678246635, 86.32723433630807, 83.58371768678938, 117.86178180149624, 168.97666965212142, 171.75077881131853]\n",
      "./Images\\confused/mixedsamples\\frame9600.jpg\n",
      "normalized_X_coordinates =  [-1.7455026289697904, 0.0, 32.08951709438289, -18.099238989679296, 55.53308109521549, -33.67884257241865, 98.59747209080345, -71.0472598335499, 20.538917734011875, -12.345034129432781]\n",
      "normalized_Y_coordinates =  [-46.290777302995515, 0.0, 21.463044685653493, 18.375796305982373, 97.53819538068169, 76.4792068095147, 56.848516947106475, 54.0427660640282, 171.73838011826143, 169.9871081340162]\n",
      "./Images\\confused/mixedsamples\\hands (10).jpg\n",
      "normalized_X_coordinates =  [0.41248723357713624, 0.0, 24.98012260616232, -25.023649105814844, 36.36768100922611, -38.047479949638145, 48.02962912081862, -51.29576170829688, 15.774022828356754, -17.74405977454315]\n",
      "normalized_Y_coordinates =  [-52.81101960850798, 0.0, 22.558700533016868, 25.07440780815871, 122.0600326164909, 123.930943608284, 33.79019655611204, 17.35693643922391, 172.62594984925312, 171.00480056327322]\n",
      "./Images\\confused/mixedsamples\\hands (11).jpg\n",
      "normalized_X_coordinates =  [-1.6181064752845078, 0.0, 25.804599153028953, -24.29982941966873, 36.4546476989179, -30.674385621741013, 68.2338280989243, -61.20511388724989, 21.842363798940504, -10.450611511866251]\n",
      "normalized_Y_coordinates =  [-42.275662452317356, 0.0, 15.008722036407233, 18.858171832025718, 96.56055555417296, 106.92458210533924, 88.22112651855757, 85.73778416501001, 165.26728226395136, 165.88680353224947]\n",
      "./Images\\confused/mixedsamples\\hands (12).jpg\n",
      "normalized_X_coordinates =  [0.17834109138454912, 0.0, 25.746259498878345, -24.411387979631595, 50.614140619187665, -41.46276239812727, 49.390632584250184, -48.32883232091306, 20.65409573577565, -14.109813073683068]\n",
      "normalized_Y_coordinates =  [-46.934174101001446, 0.0, 17.185579519718885, 24.155897514096328, 103.15668511071375, 110.9875012588288, -11.546220816671848, 5.20391667793904, 167.23347207797423, 170.84909557764018]\n",
      "./Images\\confused/mixedsamples\\hands (4).jpg\n",
      "normalized_X_coordinates =  [-3.912500888109207, 0.0, 28.073063120245934, -21.92939057946205, 44.907775446772575, -37.61391691863537, 71.3581521064043, -70.2092918753624, 16.87028832733631, -17.677724733948708]\n",
      "normalized_Y_coordinates =  [-38.63686667755246, 0.0, 13.789453543722633, 17.822813056409363, 95.29808908700943, 93.99730041623116, 50.67510642111302, 46.04138024151326, 164.1228571534157, 159.95921436697247]\n",
      "./Images\\confused/mixedsamples\\hands (6).jpg\n",
      "normalized_X_coordinates =  [1.9552639552525113, 0.0, 22.440198489597865, -27.723026275634766, 36.337811606270925, -43.44619682856968, 67.99114261354718, -72.02237503869193, 18.290177413395472, -14.44244384765625]\n",
      "normalized_Y_coordinates =  [-43.69303678211413, 0.0, 18.210585493790475, 19.00951862335205, 92.47333125064247, 108.2708195636147, 70.41525087858501, 64.95358128296701, 168.48410054257042, 172.3642763338591]\n",
      "./Images\\confused/mixedsamples\\hands (7).jpg\n",
      "normalized_X_coordinates =  [-0.5710717651151841, 0.0, 25.58106905029666, -24.661614817957723, 32.03807482796331, -35.37458344813316, 47.05922286356649, -54.33228592718801, 16.839616048720575, -18.36567626845452]\n",
      "normalized_Y_coordinates =  [-48.99411138970308, 0.0, 20.68426684940352, 22.457010915663354, 127.81550759233339, 125.08601186873761, 24.923892056897333, 11.595691947008335, 170.887710092666, 167.64296315582504]\n",
      "./Images\\confused/mixedsamples\\hands (8).jpg\n",
      "normalized_X_coordinates =  [1.7101957729169466, 0.0, 24.735758920979947, -25.33575334730423, 35.163664645723166, -41.64551316596704, 57.38301320964584, -56.09319890186855, 12.972388602304342, -22.226571129375863]\n",
      "normalized_Y_coordinates =  [-43.98708095667893, 0.0, 20.560552419158462, 17.195804455737374, 116.10827614297521, 110.603062430194, 31.801911787047903, 10.661772773673498, 171.29538647560258, 166.9464197029104]\n",
      "./Images\\confused/mixedsamples\\hands (9).jpg\n",
      "normalized_X_coordinates =  [-1.0469604160121133, 0.0, 27.02680394547259, -23.208214275785824, 38.00965328546527, -34.433278522761015, 52.423627723959676, -53.48026629893171, 19.159188959566002, -14.363366167912478]\n",
      "normalized_Y_coordinates =  [-48.36668808744332, 0.0, 19.377163428569506, 22.312322802075716, 125.68818784762765, 119.60283151575338, 35.237870873691875, 38.19038238480826, 169.614113741946, 168.39444662365958]\n"
     ]
    }
   ],
   "source": [
    "images = {name: cv2.imread(name) for name in glob.glob('./Images\\confused/mixedsamples/*jpg')}\n",
    "LLEVideoArray = []\n",
    "for name, image in images.items():\n",
    "#     plt.figure()\n",
    "#     plt.imshow(image)\n",
    "    print(name)   \n",
    "#     cv2.imshow('image',image)\n",
    "#     cv2.waitKey(0)s\n",
    "    normalized_X_coordinates, normalized_Y_coordinates = get_ten_joints(image)\n",
    "    print(\"normalized_X_coordinates = \", normalized_X_coordinates)\n",
    "    print(\"normalized_Y_coordinates = \", normalized_Y_coordinates)\n",
    "    LLEVideoArray.append([normalized_X_coordinates, normalized_Y_coordinates])"
   ]
  },
  {
   "cell_type": "markdown",
   "id": "04926b5c",
   "metadata": {},
   "source": [
    "<h1><center> Step 2: Generate an input for LLE model "
   ]
  },
  {
   "cell_type": "code",
   "execution_count": 6,
   "id": "6e6bc6c1",
   "metadata": {
    "scrolled": true
   },
   "outputs": [
    {
     "name": "stdout",
     "output_type": "stream",
     "text": [
      "[[-3.359994141662374, -52.12860262912253, 0.0, 0.0, 28.26364443023154, 24.581267664083846, -21.80330915019867, 27.48169328855431, 39.93959417368503, 133.94079542913926, -23.860618123348722, 128.88124455576357, -5.954259737057889, 101.65123953649649, -5.906477855875137, 9.987417888264405, 23.32287419666635, 175.15440349993497, -11.214934257750816, 176.840413936042], [-1.6482894308865073, -49.350560162247724, 0.0, 0.0, 25.478429091162983, 20.58595529123515, -24.966619908809662, 19.555829853570767, 30.248492606915537, 126.79196325670772, -24.946913495659828, 115.24146845360764, -12.149062869139016, 102.44679425944801, -7.343390840105713, -5.459656084285057, 14.65752145741135, 170.6611491051041, -17.035572067834437, 167.71936086045596], [-0.24794960158995483, -46.313237457375266, 0.0, 0.0, 25.125425094845646, 20.338835891004628, -25.1131344800708, 19.422016780413877, 35.09058897522674, 120.64250907348713, -24.164784811008943, 110.4815274633038, -1.098772712137514, 119.7927418179537, 1.5031227435188668, 2.500335521098824, 16.691998229629686, 170.70539434542832, -15.940847821619327, 170.82417360775133], [-1.3607020179430673, -46.54456780237311, 0.0, 0.0, 27.775402863820393, 21.914395865272066, -22.268430391947433, 18.37130872642292, 28.26514442761739, 120.91596442110398, -35.80373922983806, 104.81465266031377, -14.86186782519023, 82.3714759419946, 1.3139446576436333, 13.525627290501308, 19.58834131558736, 172.06145823001862, -15.703872839609785, 171.01743940044852], [0.2994738127055921, -42.08398582343768, 0.0, 0.0, 23.829102097896108, 19.276696040218038, -26.196409526624176, 15.240491781019626, 36.68674669767681, 86.68256881541775, -42.31707924290707, 84.54967620677517, 39.90407575640762, 144.56826941411296, -32.46719628049616, 129.19915529122028, 15.046250192742598, 169.61376111310227, -16.913497657106632, 169.17505658658823], [-4.125109033508655, -45.19975277093741, 0.0, 0.0, 26.95595716318037, 12.108646906339207, -23.091686192361713, 24.186790906465973, 54.38989285587315, 91.48635314061092, -36.231625744642805, 115.49712511209341, 74.10711260243352, 23.619961738586426, -59.465801078440535, 56.28769947932317, 22.744440245818218, 162.16889894925632, -9.712774734583874, 165.1207813849816], [-3.7789521393952548, -39.65368333466013, 0.0, 0.0, 27.61755407057226, 11.333824626585749, -22.522011188545616, 20.371089402701802, 47.57653824006668, 80.69685592287196, -33.85954834395386, 93.0310484902102, 64.38260447698009, 159.4464255403505, -38.00053066677518, 172.64095809408474, 19.61542379976523, 161.40653011622462, -11.185912572173558, 163.70788849623506], [-2.6899837797081134, -45.31429019676247, 0.0, 0.0, 26.69788736182742, 18.82873150297833, -23.420182269945965, 19.760865850497016, 41.38726837411612, 105.33207987770815, -36.624003418258354, 105.29732825187257, 72.09792991267123, 93.52512105467355, -61.05802180786856, 95.34828251388471, 19.015779416049227, 168.94778200817592, -13.959278274119814, 167.85932252854863], [-4.721415411565721, -44.537621647564336, 0.0, 0.0, 26.6405282561312, 10.914199387849267, -23.36397859239087, 25.091315383341776, 52.440872716739825, 92.93253208274272, -35.94098304145525, 121.02869553352471, 68.47917091395847, 29.206016170444776, -52.99178185741516, 48.00581932067871, 24.164881493217756, 161.265129473672, -9.776734814201435, 165.03479409573683], [0.023075420622435675, -45.04314131535608, 0.0, 0.0, 28.32301817794191, 23.081607913261017, -21.772252960369674, 18.032702855377575, 43.26832307323798, 102.611051303873, -34.78553714361262, 95.95935397940889, 53.84379966102115, 187.26476250452086, -38.279941809858954, 188.2171636775469, 19.096327188074145, 173.20965714845113, -11.981171954668321, 172.11483666677924], [-3.0719805182072095, -44.2229304740678, 0.0, 0.0, 26.48572754441647, 13.11327450311006, -23.55769224334181, 25.69670997448822, 38.63291573106198, 88.32899670102704, -31.419670372678517, 104.94027742699012, 29.794086489761092, 167.5515388374898, -21.986545177928182, 188.24320408835342, 21.39758645442495, 163.12629429262077, -9.83869820310358, 168.73414480864113], [-1.7613556240295833, -50.049622345458516, 0.0, 0.0, 21.43118772036978, 21.237936776007533, -28.621192923389618, 29.209341234563258, 43.980073000284136, 95.95227241516113, -42.382051308403575, 116.9204407030969, 55.42173964597652, 7.090344758289854, -54.062546187113504, 16.506141408934923, 19.927489115746713, 171.39907749107732, -15.376092095828405, 176.4523428114479], [-3.6965887176042993, -41.90381221911487, 0.0, 0.0, 26.45835559704692, 10.496714535881493, -23.597545329644863, 24.490603629280542, 52.15469939570128, 84.51883582507864, -39.47643311705312, 102.19096436220057, 53.37272815998481, 30.642202671836408, -74.54981187343031, 105.05744113641627, 22.221027885608976, 160.51159185521743, -11.0054740136487, 164.29306479061353], [0.43180289210019274, -47.55524114558571, 0.0, 0.0, 25.329298531862943, 23.132759646365518, -24.812893989758606, 17.769403206674678, 32.695185513533616, 111.57799770957546, -31.954364500183985, 99.94806364962929, 34.041020915393986, 208.32471220116867, -25.044589005452195, 191.39881008549742, 16.60120739718877, 173.19164778056899, -13.559607226181448, 173.487357089394], [-0.6179138116448426, -47.21339501832661, 0.0, 0.0, 26.39446741152386, 20.991916405527217, -23.649173732375687, 18.632967221109492, 33.89889598548477, 110.26763414081775, -29.06598090076342, 100.92321320583946, 36.65763972484894, 204.5063420345909, -22.875715534810322, 190.62009987078216, 17.966227431764167, 171.03103524760198, -11.450797942343069, 171.5901148946662], [-0.648066449705451, -49.55149743151157, 0.0, 0.0, 25.97874885238104, 20.680499203661654, -24.114806289425946, 22.71294023128266, 34.012982760432465, 107.58550940675939, -29.260308225563815, 106.21799370075794, 35.57302110789277, 201.0660691464201, -22.79192112796129, 193.49888410974054, 17.603340272378766, 170.75618847887566, -11.15787222161648, 173.59974663308327], [-2.283288286877917, -46.129212355064915, 0.0, 0.0, 27.288424504267706, 18.292445965740075, -22.81778508966619, 19.996388184140102, 34.42365472966974, 106.4419404929861, -28.92562321254185, 100.65877407103244, 33.3867630401215, 196.43836436064348, -22.977098242028966, 191.67571604404304, 19.156059661468902, 168.48644820015753, -10.367610237815164, 170.10140419006348], [-1.2431600514580223, -46.00152498797367, 0.0, 0.0, 26.731883778291593, 23.433438100312888, -23.441987879136033, 18.713625481254176, 37.66939219306497, 110.50077174839221, -37.805381943197816, 99.67717747939261, 62.871273826150336, 92.11080701727616, -55.46008839326747, 102.66086678755912, 17.500456641702094, 173.57089519500732, -15.366063398473404, 171.12587251161276], [-2.6603746244491635, -47.3774615235216, 0.0, 0.0, 25.918532945083133, 20.45503000574788, -24.10729839284225, 19.872344384981893, 43.79478807551157, 105.33303163183018, -43.75133989544526, 100.13767302505615, 82.5307038330947, 109.04064704114059, -58.255898146442675, 28.095954985130493, 16.194896765875225, 170.84496040043868, -16.510844654884202, 170.0367664727639], [-2.153852324941504, -46.60391533861355, 0.0, 0.0, 25.925007177677458, 18.567843704807515, -24.214800143297463, 25.297270745647197, 45.944991923156586, 98.54353264886505, -39.50013869848007, 113.64363590065314, 64.1829528452911, 65.38399020019843, -61.46939373238659, 66.15365828786577, 21.392346539975318, 168.5802577709665, -12.148959375483734, 171.02130882594048], [-0.9889931869095386, -43.29092860221863, 0.0, 0.0, 25.047392778283434, 15.769205689430237, -25.073433128118264, 20.76162278652191, 40.58213630026083, 88.32712233066559, -40.20452242195928, 97.0665317773819, 34.94448286301366, 170.41314661502838, -35.45481693140255, 169.11242544651031, 17.42056606914104, 166.1062377691269, -12.859204569037813, 169.17374074459076], [-3.4264978805890802, -45.459820378211234, 0.0, 0.0, 26.16481115384797, 13.94166100409723, -23.92412637832219, 21.09256867439516, 50.92674099294432, 103.55596003993864, -38.14506301237214, 120.02782091017691, 40.20421915249418, 33.5582475508413, -38.587609209595456, 44.18389643392255, 19.530005977185347, 164.04693741952218, -14.181086589569931, 164.04223057531541], [-4.147227548619607, -39.70762837696545, 0.0, 0.0, 27.45010674636135, 14.098573200808369, -22.697068618285698, 22.264369602861077, 57.071231013939475, 71.63630095608715, -46.53000067985779, 76.66367497937432, 72.742631851142, 6.253325880454678, -60.531147858426245, 10.083663052526013, 21.554634664406557, 164.34470186092582, -11.859846284805243, 165.51866907204314], [-1.0055644171578544, -44.33213302067348, 0.0, 0.0, 23.27284131731306, 18.83798156465803, -26.863922391619003, 21.526551246643066, 53.25085776192802, 76.40989678246635, -57.069383348737446, 86.32723433630807, 100.64776284354073, 83.58371768678938, -97.02589852469308, 117.86178180149624, 21.704156058175222, 168.97666965212142, -10.541984013148717, 171.75077881131853], [-1.7455026289697904, -46.290777302995515, 0.0, 0.0, 32.08951709438289, 21.463044685653493, -18.099238989679296, 18.375796305982373, 55.53308109521549, 97.53819538068169, -33.67884257241865, 76.4792068095147, 98.59747209080345, 56.848516947106475, -71.0472598335499, 54.0427660640282, 20.538917734011875, 171.73838011826143, -12.345034129432781, 169.9871081340162], [0.41248723357713624, -52.81101960850798, 0.0, 0.0, 24.98012260616232, 22.558700533016868, -25.023649105814844, 25.07440780815871, 36.36768100922611, 122.0600326164909, -38.047479949638145, 123.930943608284, 48.02962912081862, 33.79019655611204, -51.29576170829688, 17.35693643922391, 15.774022828356754, 172.62594984925312, -17.74405977454315, 171.00480056327322], [-1.6181064752845078, -42.275662452317356, 0.0, 0.0, 25.804599153028953, 15.008722036407233, -24.29982941966873, 18.858171832025718, 36.4546476989179, 96.56055555417296, -30.674385621741013, 106.92458210533924, 68.2338280989243, 88.22112651855757, -61.20511388724989, 85.73778416501001, 21.842363798940504, 165.26728226395136, -10.450611511866251, 165.88680353224947], [0.17834109138454912, -46.934174101001446, 0.0, 0.0, 25.746259498878345, 17.185579519718885, -24.411387979631595, 24.155897514096328, 50.614140619187665, 103.15668511071375, -41.46276239812727, 110.9875012588288, 49.390632584250184, -11.546220816671848, -48.32883232091306, 5.20391667793904, 20.65409573577565, 167.23347207797423, -14.109813073683068, 170.84909557764018], [-3.912500888109207, -38.63686667755246, 0.0, 0.0, 28.073063120245934, 13.789453543722633, -21.92939057946205, 17.822813056409363, 44.907775446772575, 95.29808908700943, -37.61391691863537, 93.99730041623116, 71.3581521064043, 50.67510642111302, -70.2092918753624, 46.04138024151326, 16.87028832733631, 164.1228571534157, -17.677724733948708, 159.95921436697247], [1.9552639552525113, -43.69303678211413, 0.0, 0.0, 22.440198489597865, 18.210585493790475, -27.723026275634766, 19.00951862335205, 36.337811606270925, 92.47333125064247, -43.44619682856968, 108.2708195636147, 67.99114261354718, 70.41525087858501, -72.02237503869193, 64.95358128296701, 18.290177413395472, 168.48410054257042, -14.44244384765625, 172.3642763338591], [-0.5710717651151841, -48.99411138970308, 0.0, 0.0, 25.58106905029666, 20.68426684940352, -24.661614817957723, 22.457010915663354, 32.03807482796331, 127.81550759233339, -35.37458344813316, 125.08601186873761, 47.05922286356649, 24.923892056897333, -54.33228592718801, 11.595691947008335, 16.839616048720575, 170.887710092666, -18.36567626845452, 167.64296315582504], [1.7101957729169466, -43.98708095667893, 0.0, 0.0, 24.735758920979947, 20.560552419158462, -25.33575334730423, 17.195804455737374, 35.163664645723166, 116.10827614297521, -41.64551316596704, 110.603062430194, 57.38301320964584, 31.801911787047903, -56.09319890186855, 10.661772773673498, 12.972388602304342, 171.29538647560258, -22.226571129375863, 166.9464197029104], [-1.0469604160121133, -48.36668808744332, 0.0, 0.0, 27.02680394547259, 19.377163428569506, -23.208214275785824, 22.312322802075716, 38.00965328546527, 125.68818784762765, -34.433278522761015, 119.60283151575338, 52.423627723959676, 35.237870873691875, -53.48026629893171, 38.19038238480826, 19.159188959566002, 169.614113741946, -14.363366167912478, 168.39444662365958]]\n"
     ]
    }
   ],
   "source": [
    "LLEFrames = []\n",
    "for k in range(len(LLEVideoArray)):\n",
    "    temp = []\n",
    "    for i in range(len(LLEVideoArray[k][0])):\n",
    "        temp.append(LLEVideoArray[k][0][i])\n",
    "        temp.append(LLEVideoArray[k][1][i])           \n",
    "    LLEFrames.append(temp)\n",
    "print(LLEFrames)"
   ]
  },
  {
   "cell_type": "markdown",
   "id": "216a3b7b",
   "metadata": {},
   "source": [
    "<h1><center> Step 3: Using the LLE model to see the difference between gestures "
   ]
  },
  {
   "cell_type": "code",
   "execution_count": 7,
   "id": "dc0eae45",
   "metadata": {},
   "outputs": [
    {
     "name": "stdout",
     "output_type": "stream",
     "text": [
      "Done. Reconstruction error: 0.000137464\n"
     ]
    }
   ],
   "source": [
    "from sklearn import manifold, datasets\n",
    "LLEReduced, err = manifold.locally_linear_embedding(LLEFrames, n_neighbors=20, n_components=2)\n",
    "print(\"Done. Reconstruction error: %g\" % err)\n",
    "images = {name: cv2.imread(name) for name in glob.glob('./Images\\confused/mixedsamples/*jpg')}\n",
    "imageNames = [name for name, image in images.items()]\n",
    "imagesArray = [np.array(cv2.imread(name)) for name, image in images.items()]\n",
    "names = []\n",
    "# for i in imageNames:\n",
    "#     print(name)\n",
    "#     names.append(i.split(\"\\\\\")[-1])\n",
    "#     print(imageNames)"
   ]
  },
  {
   "cell_type": "code",
   "execution_count": 8,
   "id": "d1798399",
   "metadata": {
    "scrolled": false
   },
   "outputs": [
    {
     "data": {
      "application/vnd.jupyter.widget-view+json": {
       "model_id": "df653f82574c488a82839304cecbcadf",
       "version_major": 2,
       "version_minor": 0
      },
      "text/plain": [
       "Canvas(toolbar=Toolbar(toolitems=[('Home', 'Reset original view', 'home', 'home'), ('Back', 'Back to previous …"
      ]
     },
     "metadata": {},
     "output_type": "display_data"
    }
   ],
   "source": [
    "# Plot result\n",
    "from matplotlib.offsetbox import OffsetImage, AnnotationBbox\n",
    "from PIL import Image\n",
    "import plotly.express as px\n",
    "\n",
    "fig = plt.figure(figsize=(15,15))\n",
    "\n",
    "\n",
    "\n",
    "# ax = fig.add_subplot(211, projection='3d')\n",
    "# ax.scatter(X[:, 0], X[:, 1], X[:,1])\n",
    "\n",
    "# ax.set_title(\"Original data\")\n",
    "\n",
    "def getImage(path):\n",
    "    im = Image.open(path)\n",
    "#     (width, height) = (im.width // 10, im.height // 10)\n",
    "    (width, height) = (80, 45)\n",
    "    im_res = im.resize((width, height))\n",
    "    return OffsetImage(im_res)\n",
    "\n",
    "\n",
    "ax = fig.add_subplot(212)\n",
    "# ax.margins(0.05) \n",
    "# plt.figure(figsize=(30,30))\n",
    "plt.scatter(LLEReduced[:, 0], LLEReduced[:, 1])\n",
    "# plt.xlim([-0.5, 0.5])\n",
    "# plt.ylim([-0.5, 0.5])\n",
    "# for i, txt in enumerate(names):\n",
    "#     plt.annotate(txt, (LLEReduced[i, 0] + 0.005, LLEReduced[i, 1] + 0.005), fontsize=12)\n",
    "# for x0, y0, path in zip(annotateX, annotateY, imageNames):\n",
    "#     ab = AnnotationBbox(getImage(path), (x0,y0), frameon=False)\n",
    "#     ax.add_artist(ab)\n",
    "    \n",
    "for i, path in zip(range(len(LLEReduced)), imageNames):\n",
    "    ab = AnnotationBbox(getImage(path), (LLEReduced[i, 0], LLEReduced[i, 1]), frameon=False)\n",
    "    ax.add_artist(ab)\n",
    "    \n",
    "ax = fig.add_subplot(211)\n",
    "\n",
    "# ax.margins(0.05) \n",
    "# plt.figure(figsize=(30,30))\n",
    "plt.scatter(LLEReduced[:, 0], LLEReduced[:, 1])\n",
    "# plt.xlim([-0.5, 0.5])\n",
    "# plt.ylim([-0.5, 0.5])\n",
    "plt.axis('tight')\n",
    "# plt.xticks([]), plt.yticks([])\n",
    "plt.title('Projected data')\n",
    "plt.show()\n",
    "# annotate"
   ]
  },
  {
   "cell_type": "markdown",
   "id": "0ce0f1de",
   "metadata": {},
   "source": [
    "# K means cluster"
   ]
  },
  {
   "cell_type": "code",
   "execution_count": 9,
   "id": "eee155dc",
   "metadata": {
    "scrolled": false
   },
   "outputs": [
    {
     "data": {
      "application/vnd.jupyter.widget-view+json": {
       "model_id": "4bfad5c0e9934210a3df49b5a2e5ded7",
       "version_major": 2,
       "version_minor": 0
      },
      "text/plain": [
       "Canvas(toolbar=Toolbar(toolitems=[('Home', 'Reset original view', 'home', 'home'), ('Back', 'Back to previous …"
      ]
     },
     "metadata": {},
     "output_type": "display_data"
    }
   ],
   "source": [
    "from sklearn.cluster import KMeans\n",
    "cents = np.array([[-0.04767067,  0.40490513],\n",
    "         [-0.10724884, -0.07074098],\n",
    "         [ 0.25951771, -0.02275566]])\n",
    "\n",
    "# kmeans = KMeans(n_clusters = 3, random_state=0, init = cents)\n",
    "kmeans = KMeans(n_clusters = 3, random_state=0)\n",
    "\n",
    "#predict the labels of clusters.\n",
    "label_train = kmeans.fit_predict(LLEReduced)\n",
    " \n",
    "#Getting unique labels\n",
    "u_labels_train = np.unique(label_train)\n",
    "centroids = kmeans.cluster_centers_\n",
    "\n",
    "#plotting the results:\n",
    "plt.figure(figsize=(15,10))\n",
    "plt.xlim([-0.5, 0.5])\n",
    "plt.ylim([-0.5, 0.5])\n",
    "for i in u_labels_train:\n",
    "    plt.scatter(LLEReduced[label_train == i , 0] , LLEReduced[label_train == i , 1] , label = i)\n",
    "plt.scatter(centroids[:,0] , centroids[:,1] , s = 80, color = 'black')\n",
    "plt.legend()\n",
    "plt.show()"
   ]
  },
  {
   "cell_type": "code",
   "execution_count": 10,
   "id": "8ce976de",
   "metadata": {},
   "outputs": [
    {
     "data": {
      "text/plain": [
       "array([[-0.04767067,  0.40490513],\n",
       "       [-0.10724884, -0.07074098],\n",
       "       [ 0.25951771, -0.02275566]])"
      ]
     },
     "execution_count": 10,
     "metadata": {},
     "output_type": "execute_result"
    }
   ],
   "source": [
    "centroids"
   ]
  },
  {
   "cell_type": "markdown",
   "id": "53a9a66d",
   "metadata": {},
   "source": [
    "# Testing the KMeans Model for a new image"
   ]
  },
  {
   "cell_type": "code",
   "execution_count": 11,
   "id": "48f35d79",
   "metadata": {
    "scrolled": true
   },
   "outputs": [
    {
     "data": {
      "application/vnd.jupyter.widget-view+json": {
       "model_id": "71d289cd963547429cdaea11ea4fad16",
       "version_major": 2,
       "version_minor": 0
      },
      "text/plain": [
       "Canvas(toolbar=Toolbar(toolitems=[('Home', 'Reset original view', 'home', 'home'), ('Back', 'Back to previous …"
      ]
     },
     "metadata": {},
     "output_type": "display_data"
    },
    {
     "name": "stdout",
     "output_type": "stream",
     "text": [
      "./Images\\imtestsamples\\cs 1.jpg\n",
      "normalized_X_coordinates =  [-2.1858955782968605, 0.0, 27.500753392631886, -22.600116022830996, 16.28458656118688, -26.40086809074245, -29.70065918665577, -12.019235190849946, 11.43049969909272, -21.388297704394887]\n",
      "normalized_Y_coordinates =  [-52.46816361634925, 0.0, 28.290430652467826, 22.08839301287272, 134.63307309664037, 116.29678180628416, 112.48251708785882, 2.004064911860598, 178.85547113475616, 173.43097059635454]\n"
     ]
    },
    {
     "data": {
      "application/vnd.jupyter.widget-view+json": {
       "model_id": "37f66e9c2b1a41d58f652f9f9ced90a1",
       "version_major": 2,
       "version_minor": 0
      },
      "text/plain": [
       "Canvas(toolbar=Toolbar(toolitems=[('Home', 'Reset original view', 'home', 'home'), ('Back', 'Back to previous …"
      ]
     },
     "metadata": {},
     "output_type": "display_data"
    },
    {
     "name": "stdout",
     "output_type": "stream",
     "text": [
      "./Images\\imtestsamples\\cs 10.jpg\n",
      "normalized_X_coordinates =  [-2.616034491395573, 0.0, 26.734998955890184, -23.393187485143816, 30.303009267218194, -24.215707992815407, -10.892548315757812, -6.986289508739059, 19.37050696727783, -11.664196495015892]\n",
      "normalized_Y_coordinates =  [-49.26337974686776, 0.0, 19.733015087343038, 20.594980447523064, 138.53195165434192, 124.75530418657489, 121.46208795808978, 0.305831432342535, 169.99726574267115, 172.27432564381633]\n"
     ]
    },
    {
     "data": {
      "application/vnd.jupyter.widget-view+json": {
       "model_id": "cce201dc22b94d219c307cbb0aa68ec5",
       "version_major": 2,
       "version_minor": 0
      },
      "text/plain": [
       "Canvas(toolbar=Toolbar(toolitems=[('Home', 'Reset original view', 'home', 'home'), ('Back', 'Back to previous …"
      ]
     },
     "metadata": {},
     "output_type": "display_data"
    },
    {
     "name": "stdout",
     "output_type": "stream",
     "text": [
      "./Images\\imtestsamples\\cs 11.jpg\n",
      "normalized_X_coordinates =  [-0.16759420361588984, 0.0, 27.155466903658475, -23.16767893293325, 26.62040280068622, -20.956713947303157, -26.60160250961781, 0.6318297018023099, 17.18701895545511, -17.887081162017935]\n",
      "normalized_Y_coordinates =  [-47.3510909755275, 0.0, 27.136585341309594, 19.51170951690313, 122.41655363226835, 98.24008143173073, 91.76032498197735, -5.991964407686924, 177.45066307625677, 173.92699617259905]\n"
     ]
    },
    {
     "data": {
      "application/vnd.jupyter.widget-view+json": {
       "model_id": "7d7a1371e0034673abfe52f69e191d9a",
       "version_major": 2,
       "version_minor": 0
      },
      "text/plain": [
       "Canvas(toolbar=Toolbar(toolitems=[('Home', 'Reset original view', 'home', 'home'), ('Back', 'Back to previous …"
      ]
     },
     "metadata": {},
     "output_type": "display_data"
    },
    {
     "name": "stdout",
     "output_type": "stream",
     "text": [
      "./Images\\imtestsamples\\cs 12.jpg\n",
      "normalized_X_coordinates =  [-9.239479931870843, 0.0, 29.58256986665829, -20.562367826245715, 33.09847352811194, -17.507480769895007, -18.427899687638217, -8.823144409911052, 26.11101809929658, -4.032088975241507]\n",
      "normalized_Y_coordinates =  [-42.54134109004087, 0.0, 9.998939618569196, 24.087080245093354, 125.65278875101232, 112.77394722600555, 129.02046592725318, 0.2006494568379146, 160.02223959894806, 161.0699888276731]\n"
     ]
    },
    {
     "data": {
      "application/vnd.jupyter.widget-view+json": {
       "model_id": "b3a9975b2b8047578bd454ab8221f52a",
       "version_major": 2,
       "version_minor": 0
      },
      "text/plain": [
       "Canvas(toolbar=Toolbar(toolitems=[('Home', 'Reset original view', 'home', 'home'), ('Back', 'Back to previous …"
      ]
     },
     "metadata": {},
     "output_type": "display_data"
    },
    {
     "name": "stdout",
     "output_type": "stream",
     "text": [
      "./Images\\imtestsamples\\cs 13.jpg\n",
      "normalized_X_coordinates =  [-1.694666588664951, 0.0, 27.17519997990221, -22.971259180764505, 25.515855876798916, -31.584094733672032, -24.601204575676665, -13.736902978411294, 7.049523344389478, -22.87781762337326]\n",
      "normalized_Y_coordinates =  [-40.02084815874696, 0.0, 18.786330993932026, 14.255690639122173, 101.29927618142504, 81.46589267282532, 84.93572355319674, -12.038191207326376, 168.84980239690495, 162.98013635409566]\n"
     ]
    },
    {
     "data": {
      "application/vnd.jupyter.widget-view+json": {
       "model_id": "d39788f21d594a51ab1bd7a5ee57144c",
       "version_major": 2,
       "version_minor": 0
      },
      "text/plain": [
       "Canvas(toolbar=Toolbar(toolitems=[('Home', 'Reset original view', 'home', 'home'), ('Back', 'Back to previous …"
      ]
     },
     "metadata": {},
     "output_type": "display_data"
    },
    {
     "name": "stdout",
     "output_type": "stream",
     "text": [
      "./Images\\imtestsamples\\cs 14.jpg\n",
      "normalized_X_coordinates =  [0.4296602161080988, 0.0, 27.53490263277346, -22.708322550799394, 35.64912188160527, -31.726236815925116, -9.434166792276743, -4.908778108992018, 13.480852316091728, -18.59471604630754]\n",
      "normalized_Y_coordinates =  [-45.23544585198359, 0.0, 21.185203023206164, 14.742473917069768, 124.57098941397821, 112.90728173224753, 115.40889492611478, 12.325853206752942, 171.80034042963013, 166.74332049937027]\n"
     ]
    },
    {
     "data": {
      "application/vnd.jupyter.widget-view+json": {
       "model_id": "a79aed1e1c2c4e9e8747f6a8a31d6643",
       "version_major": 2,
       "version_minor": 0
      },
      "text/plain": [
       "Canvas(toolbar=Toolbar(toolitems=[('Home', 'Reset original view', 'home', 'home'), ('Back', 'Back to previous …"
      ]
     },
     "metadata": {},
     "output_type": "display_data"
    },
    {
     "name": "stdout",
     "output_type": "stream",
     "text": [
      "./Images\\imtestsamples\\cs 15.jpg\n",
      "normalized_X_coordinates =  [-6.575381346777378, 0.0, 28.964804083693256, -21.160896502289123, 23.651768763860062, -24.181922861174044, -39.6526283493229, -14.214404657775285, 22.01949556668599, -8.69383998945648]\n",
      "normalized_Y_coordinates =  [-45.62137704705794, 0.0, 20.364789992653893, 23.70396533716356, 121.54687060287073, 101.86140097283388, 132.48763663855104, -13.198480981306114, 170.39570089502254, 159.7989460718001]\n"
     ]
    },
    {
     "data": {
      "application/vnd.jupyter.widget-view+json": {
       "model_id": "6977db9cd204419abee44d6b3c166bb8",
       "version_major": 2,
       "version_minor": 0
      },
      "text/plain": [
       "Canvas(toolbar=Toolbar(toolitems=[('Home', 'Reset original view', 'home', 'home'), ('Back', 'Back to previous …"
      ]
     },
     "metadata": {},
     "output_type": "display_data"
    },
    {
     "name": "stdout",
     "output_type": "stream",
     "text": [
      "./Images\\imtestsamples\\cs 2.jpg\n",
      "normalized_X_coordinates =  [-1.7940217026189837, 0.0, 26.109928922088834, -24.043421670434547, 30.72986550233215, -29.538339858757695, -23.14339045453186, 1.6822307798021725, 17.007031986390917, -16.340516363653002]\n",
      "normalized_Y_coordinates =  [-46.33731495785086, 0.0, 17.804862998033826, 20.54944012510149, 114.89528716394776, 117.26344528951144, 100.22700265834206, -0.8288579238088507, 168.18019511668305, 166.62292187935427]\n"
     ]
    },
    {
     "data": {
      "application/vnd.jupyter.widget-view+json": {
       "model_id": "747b34c5043e4a55bc5e36e1d9a070e6",
       "version_major": 2,
       "version_minor": 0
      },
      "text/plain": [
       "Canvas(toolbar=Toolbar(toolitems=[('Home', 'Reset original view', 'home', 'home'), ('Back', 'Back to previous …"
      ]
     },
     "metadata": {},
     "output_type": "display_data"
    },
    {
     "name": "stdout",
     "output_type": "stream",
     "text": [
      "./Images\\imtestsamples\\cs 3.jpg\n",
      "normalized_X_coordinates =  [0.5302672413573827, 0.0, 25.782475098111156, -24.553557493905913, 26.460375165802304, -25.245504475187985, -17.379181480955808, -12.764497392479035, 12.558221217544595, -17.929740849582632]\n",
      "normalized_Y_coordinates =  [-65.51376864794761, 0.0, 32.794464595856205, 23.438674692184694, 171.26390717683302, 164.27050877001977, 129.50342307167668, -6.832264411833979, 182.79812465752326, 177.759382032579]\n"
     ]
    },
    {
     "data": {
      "application/vnd.jupyter.widget-view+json": {
       "model_id": "d00c917b9a6841baaa8b043aaf65417b",
       "version_major": 2,
       "version_minor": 0
      },
      "text/plain": [
       "Canvas(toolbar=Toolbar(toolitems=[('Home', 'Reset original view', 'home', 'home'), ('Back', 'Back to previous …"
      ]
     },
     "metadata": {},
     "output_type": "display_data"
    },
    {
     "name": "stdout",
     "output_type": "stream",
     "text": [
      "./Images\\imtestsamples\\cs 4.jpg\n",
      "normalized_X_coordinates =  [-5.678848493517488, 0.0, 27.877899774333887, -22.25017840402168, 36.18294062321646, -21.27603535066571, -20.676318292032203, -5.660042835955031, 28.43944027758481, -5.309239887354664]\n",
      "normalized_Y_coordinates =  [-49.62390169034021, 0.0, 18.94520188873238, 30.150490604626594, 120.57431678738745, 118.48766377993994, 117.96300743515069, -6.403103190432027, 169.4536615539511, 176.37596844796104]\n"
     ]
    },
    {
     "data": {
      "application/vnd.jupyter.widget-view+json": {
       "model_id": "e93ef579bd8b49f9aff8941cb8469747",
       "version_major": 2,
       "version_minor": 0
      },
      "text/plain": [
       "Canvas(toolbar=Toolbar(toolitems=[('Home', 'Reset original view', 'home', 'home'), ('Back', 'Back to previous …"
      ]
     },
     "metadata": {},
     "output_type": "display_data"
    },
    {
     "name": "stdout",
     "output_type": "stream",
     "text": [
      "./Images\\imtestsamples\\cs 5.jpg\n",
      "normalized_X_coordinates =  [-0.6981060176552412, 0.0, 27.996514014855112, -22.25344587942797, 17.966155163542236, -30.13468074227521, -26.81591018231329, -8.245322875633924, 19.227339479023822, -15.547505752769057]\n",
      "normalized_Y_coordinates =  [-47.55928486335177, 0.0, 23.693297089648848, 23.007763534032996, 116.39923107724229, 106.43480204734482, 83.11796088178619, -6.724621067527963, 173.97366651967795, 174.13877639449944]\n"
     ]
    },
    {
     "data": {
      "application/vnd.jupyter.widget-view+json": {
       "model_id": "0126708ad41b47ec89a99e0dff15a3cf",
       "version_major": 2,
       "version_minor": 0
      },
      "text/plain": [
       "Canvas(toolbar=Toolbar(toolitems=[('Home', 'Reset original view', 'home', 'home'), ('Back', 'Back to previous …"
      ]
     },
     "metadata": {},
     "output_type": "display_data"
    },
    {
     "name": "stdout",
     "output_type": "stream",
     "text": [
      "./Images\\imtestsamples\\cs 6.jpg\n",
      "normalized_X_coordinates =  [-0.08236865202585499, 0.0, 25.1843107383956, -24.821966699084395, 22.130641641107, -21.108296494813832, -23.298371887806823, -5.16408747472103, 12.74170168915635, -19.311289836025836]\n",
      "normalized_Y_coordinates =  [-49.5979550099178, 0.0, 20.730932629400765, 20.93962617726027, 122.2099189375012, 124.94660398290982, 113.61815110864042, 0.8915351424620002, 171.07220482111626, 170.18763012067498]\n"
     ]
    },
    {
     "data": {
      "application/vnd.jupyter.widget-view+json": {
       "model_id": "b835a6ff02b94b13b8bca2fd84aab9a3",
       "version_major": 2,
       "version_minor": 0
      },
      "text/plain": [
       "Canvas(toolbar=Toolbar(toolitems=[('Home', 'Reset original view', 'home', 'home'), ('Back', 'Back to previous …"
      ]
     },
     "metadata": {},
     "output_type": "display_data"
    },
    {
     "name": "stdout",
     "output_type": "stream",
     "text": [
      "./Images\\imtestsamples\\cs 7.jpg\n",
      "normalized_X_coordinates =  [0.9211112878152302, 0.0, 28.481076338461467, -21.578395473105566, 33.850331923791344, -30.04855609365872, -19.21865823013442, -14.992646340812955, 12.93932752949851, -19.9981832078525]\n",
      "normalized_Y_coordinates =  [-40.739456700411296, 0.0, 20.985873549509407, 17.211271219177927, 99.93576756331012, 80.20117900042392, 71.25857829936405, -9.020049483584819, 171.16960889534718, 168.23538507598994]\n"
     ]
    },
    {
     "data": {
      "application/vnd.jupyter.widget-view+json": {
       "model_id": "247c94a60a874ea78619607848ac046b",
       "version_major": 2,
       "version_minor": 0
      },
      "text/plain": [
       "Canvas(toolbar=Toolbar(toolitems=[('Home', 'Reset original view', 'home', 'home'), ('Back', 'Back to previous …"
      ]
     },
     "metadata": {},
     "output_type": "display_data"
    },
    {
     "name": "stdout",
     "output_type": "stream",
     "text": [
      "./Images\\imtestsamples\\cs 8.jpg\n",
      "normalized_X_coordinates =  [-2.955482537005128, 0.0, 26.342128755665627, -23.684444046821916, 33.941132431270695, -18.626877239772252, -17.640965075052087, -2.0575060063049575, 19.285439693627236, -13.311457734148041]\n",
      "normalized_Y_coordinates =  [-44.93274104663696, 0.0, 16.265751609857045, 20.199271043141675, 120.50786946696795, 112.55999745308667, 118.11870936004593, 3.048570950826001, 166.3594854631643, 167.84297107965094]\n"
     ]
    },
    {
     "data": {
      "application/vnd.jupyter.widget-view+json": {
       "model_id": "eacdd92e014145c580618dd9199bdc35",
       "version_major": 2,
       "version_minor": 0
      },
      "text/plain": [
       "Canvas(toolbar=Toolbar(toolitems=[('Home', 'Reset original view', 'home', 'home'), ('Back', 'Back to previous …"
      ]
     },
     "metadata": {},
     "output_type": "display_data"
    },
    {
     "name": "stdout",
     "output_type": "stream",
     "text": [
      "./Images\\imtestsamples\\cs 9.jpg\n",
      "normalized_X_coordinates =  [-1.3396046190672548, 0.0, 25.04087804855033, -25.078812431306872, 33.00960339633714, -15.490850024901968, -16.191371393560914, -1.8614766358882695, 17.035353764166107, -15.904662504178305]\n",
      "normalized_Y_coordinates =  [-52.215866918687695, 0.0, 24.343181043476253, 23.453277349472046, 133.03349451585248, 121.98640967344309, 132.1207565146607, 1.5396553974647027, 174.77608183761694, 175.89869398575325]\n"
     ]
    },
    {
     "data": {
      "application/vnd.jupyter.widget-view+json": {
       "model_id": "d17952843e954b41a31277ed36987d12",
       "version_major": 2,
       "version_minor": 0
      },
      "text/plain": [
       "Canvas(toolbar=Toolbar(toolitems=[('Home', 'Reset original view', 'home', 'home'), ('Back', 'Back to previous …"
      ]
     },
     "metadata": {},
     "output_type": "display_data"
    },
    {
     "name": "stdout",
     "output_type": "stream",
     "text": [
      "./Images\\imtestsamples\\idle 1.jpg\n",
      "normalized_X_coordinates =  [0.2012497955752957, 0.0, 25.280190090979296, -24.818792458503477, 33.23815041972745, -31.12267101964643, 29.031716046794767, -26.314849815061013, 14.658507800871325, -14.434639484651626]\n",
      "normalized_Y_coordinates =  [-42.35448597146453, 0.0, 18.84045039149497, 17.5640951815269, 91.76701200094153, 95.60554254826882, 181.9045562967122, 187.04914896608256, 168.8846313267303, 167.9132664375168]\n"
     ]
    },
    {
     "data": {
      "application/vnd.jupyter.widget-view+json": {
       "model_id": "20584a59c06e44faa56a70713cd3b352",
       "version_major": 2,
       "version_minor": 0
      },
      "text/plain": [
       "Canvas(toolbar=Toolbar(toolitems=[('Home', 'Reset original view', 'home', 'home'), ('Back', 'Back to previous …"
      ]
     },
     "metadata": {},
     "output_type": "display_data"
    },
    {
     "name": "stdout",
     "output_type": "stream",
     "text": [
      "./Images\\imtestsamples\\idle 10.jpg\n",
      "normalized_X_coordinates =  [-0.10693743171399724, 0.0, 25.349929896101614, -24.82666245155168, 32.81973142242222, -29.953958597361005, 23.26965799326436, -29.506369379528792, 15.341610860144877, -13.693464462432953]\n",
      "normalized_Y_coordinates =  [-42.494621158631375, 0.0, 19.443210984064535, 20.04633265093339, 90.32709096088884, 92.89058821260437, 180.3668052696985, 180.74545929254583, 170.49293921998714, 170.03370070260422]\n"
     ]
    },
    {
     "data": {
      "application/vnd.jupyter.widget-view+json": {
       "model_id": "595486acf5224058b9d085d3075eb6f9",
       "version_major": 2,
       "version_minor": 0
      },
      "text/plain": [
       "Canvas(toolbar=Toolbar(toolitems=[('Home', 'Reset original view', 'home', 'home'), ('Back', 'Back to previous …"
      ]
     },
     "metadata": {},
     "output_type": "display_data"
    },
    {
     "name": "stdout",
     "output_type": "stream",
     "text": [
      "./Images\\imtestsamples\\idle 2.jpg\n",
      "normalized_X_coordinates =  [0.1071089562380089, 0.0, 25.39909324556027, -25.041144861365265, 27.74095524032161, -30.2353154938176, 27.37615963198104, -26.538527011871338, 12.517694369801935, -16.62120796599478]\n",
      "normalized_Y_coordinates =  [-43.17106022892228, 0.0, 19.092887675905803, 17.824902125151763, 103.56383837131133, 99.76400197988534, 193.3708235082856, 191.48621620183968, 169.86926772508278, 169.39433349902373]\n"
     ]
    },
    {
     "name": "stderr",
     "output_type": "stream",
     "text": [
      "<ipython-input-11-591dfff28096>:4: RuntimeWarning: More than 20 figures have been opened. Figures created through the pyplot interface (`matplotlib.pyplot.figure`) are retained until explicitly closed and may consume too much memory. (To control this warning, see the rcParam `figure.max_open_warning`).\n",
      "  plt.figure()\n"
     ]
    },
    {
     "data": {
      "application/vnd.jupyter.widget-view+json": {
       "model_id": "8d44b8eb16074e139911bd9210f5a515",
       "version_major": 2,
       "version_minor": 0
      },
      "text/plain": [
       "Canvas(toolbar=Toolbar(toolitems=[('Home', 'Reset original view', 'home', 'home'), ('Back', 'Back to previous …"
      ]
     },
     "metadata": {},
     "output_type": "display_data"
    },
    {
     "name": "stdout",
     "output_type": "stream",
     "text": [
      "./Images\\imtestsamples\\idle 3.jpg\n",
      "normalized_X_coordinates =  [0.5632554161689317, 0.0, 24.242791146655357, -25.797752987670332, 30.669082353952014, -34.35632021202098, 22.843416848365543, -33.1407366249062, 7.782616560789692, -20.2311350093127]\n",
      "normalized_Y_coordinates =  [-43.91535802418927, 0.0, 23.855704769312627, 17.48819038810501, 94.52186883932137, 89.87646998770266, 168.43493713671904, 163.74621495424984, 173.92322421073914, 170.60551478202086]\n"
     ]
    },
    {
     "data": {
      "application/vnd.jupyter.widget-view+json": {
       "model_id": "0a22372aafcd4179828de6e64b352901",
       "version_major": 2,
       "version_minor": 0
      },
      "text/plain": [
       "Canvas(toolbar=Toolbar(toolitems=[('Home', 'Reset original view', 'home', 'home'), ('Back', 'Back to previous …"
      ]
     },
     "metadata": {},
     "output_type": "display_data"
    },
    {
     "name": "stdout",
     "output_type": "stream",
     "text": [
      "./Images\\imtestsamples\\idle 4.jpg\n",
      "normalized_X_coordinates =  [1.7446408065867933, 0.0, 24.05213671818114, -25.95020933994237, 32.85609690444833, -38.07724727149274, 12.975674135643136, -23.34309100461232, 9.776384643858417, -17.483780339018377]\n",
      "normalized_Y_coordinates =  [-44.39086132291435, 0.0, 24.108843095060703, 15.584267135979468, 106.10637111940245, 92.4134764118471, 166.63728503213412, 159.62144646091735, 174.29654408192286, 173.07083287100858]\n"
     ]
    },
    {
     "data": {
      "application/vnd.jupyter.widget-view+json": {
       "model_id": "90483121520b433a904a43c6a3ea3455",
       "version_major": 2,
       "version_minor": 0
      },
      "text/plain": [
       "Canvas(toolbar=Toolbar(toolitems=[('Home', 'Reset original view', 'home', 'home'), ('Back', 'Back to previous …"
      ]
     },
     "metadata": {},
     "output_type": "display_data"
    },
    {
     "name": "stdout",
     "output_type": "stream",
     "text": [
      "./Images\\imtestsamples\\idle 5.jpg\n",
      "normalized_X_coordinates =  [-0.4403340094017293, 0.0, 25.832323775146943, -24.214560425642766, 35.37209295865261, -33.002414170539744, 39.90271380453398, -37.031463691682525, 15.867757165070731, -13.830311686703656]\n",
      "normalized_Y_coordinates =  [-43.18320475812578, 0.0, 21.488852747078564, 20.00581743822297, 91.00753431945279, 90.14764502471672, 174.5030388547207, 178.35056388322826, 171.72448489201318, 171.01392220109355]\n"
     ]
    },
    {
     "data": {
      "application/vnd.jupyter.widget-view+json": {
       "model_id": "d67de264b3434172b0c176edfa206df4",
       "version_major": 2,
       "version_minor": 0
      },
      "text/plain": [
       "Canvas(toolbar=Toolbar(toolitems=[('Home', 'Reset original view', 'home', 'home'), ('Back', 'Back to previous …"
      ]
     },
     "metadata": {},
     "output_type": "display_data"
    },
    {
     "name": "stdout",
     "output_type": "stream",
     "text": [
      "./Images\\imtestsamples\\idle 6.jpg\n",
      "normalized_X_coordinates =  [1.924855256071071, 0.0, 24.02288389798158, -26.006810319347263, 33.993060404482556, -32.94022999799405, 20.05386049262224, -21.116624194651084, 12.433225752260435, -15.703722091917049]\n",
      "normalized_Y_coordinates =  [-44.06556674519426, 0.0, 21.661106239324837, 19.729510886864084, 98.9125481566543, 99.0465039727073, 172.37614723121595, 177.02103317158776, 171.81821120610027, 173.1879231314989]\n"
     ]
    },
    {
     "data": {
      "application/vnd.jupyter.widget-view+json": {
       "model_id": "43cc9da70fdb4a7daafcdc0189c144eb",
       "version_major": 2,
       "version_minor": 0
      },
      "text/plain": [
       "Canvas(toolbar=Toolbar(toolitems=[('Home', 'Reset original view', 'home', 'home'), ('Back', 'Back to previous …"
      ]
     },
     "metadata": {},
     "output_type": "display_data"
    },
    {
     "name": "stdout",
     "output_type": "stream",
     "text": [
      "./Images\\imtestsamples\\idle 7.jpg\n",
      "normalized_X_coordinates =  [-5.645748132314437, 0.0, 29.968485618248963, -20.334590704013138, 40.64623361978775, -33.470743741744606, 33.359737732471565, -25.66452973928207, 18.15196795341296, -10.529695413051506]\n",
      "normalized_Y_coordinates =  [-39.00822188006714, 0.0, 9.16555153671652, 22.825630707666278, 78.57757781166583, 83.35034160409123, 160.71212401147932, 165.54788073990494, 159.34698942583054, 159.91013199090958]\n"
     ]
    },
    {
     "data": {
      "application/vnd.jupyter.widget-view+json": {
       "model_id": "058d80f118124fb08c6ecab5019edade",
       "version_major": 2,
       "version_minor": 0
      },
      "text/plain": [
       "Canvas(toolbar=Toolbar(toolitems=[('Home', 'Reset original view', 'home', 'home'), ('Back', 'Back to previous …"
      ]
     },
     "metadata": {},
     "output_type": "display_data"
    },
    {
     "name": "stdout",
     "output_type": "stream",
     "text": [
      "./Images\\imtestsamples\\idle 8.jpg\n",
      "normalized_X_coordinates =  [0.08428443241589176, 0.0, 25.431405719865133, -24.760604565366737, 30.289815520418102, -28.432218869918675, 29.454340326962214, -25.504085773904922, 15.596299556088566, -14.64760407732038]\n",
      "normalized_Y_coordinates =  [-46.66867208321358, 0.0, 23.53231882969272, 22.603824066876562, 93.05539848812447, 98.90390351464517, 176.48927312232178, 179.59419684266564, 173.95029227470474, 173.49666225471623]\n"
     ]
    },
    {
     "data": {
      "application/vnd.jupyter.widget-view+json": {
       "model_id": "8f0d1f7106d04d2a8b5b297307e3072c",
       "version_major": 2,
       "version_minor": 0
      },
      "text/plain": [
       "Canvas(toolbar=Toolbar(toolitems=[('Home', 'Reset original view', 'home', 'home'), ('Back', 'Back to previous …"
      ]
     },
     "metadata": {},
     "output_type": "display_data"
    },
    {
     "name": "stdout",
     "output_type": "stream",
     "text": [
      "./Images\\imtestsamples\\idle 9.jpg\n",
      "normalized_X_coordinates =  [3.061140781123895, 0.0, 19.020650824999706, -31.301130851109814, 24.2395610569819, -37.91166511980909, 22.513347265382887, -36.46249708519678, 5.650249178006775, -24.139742498800626]\n",
      "normalized_Y_coordinates =  [-40.52547804259379, 0.0, 16.662736606160436, 10.023483087163452, 102.75860335848746, 95.9589063300999, 203.70241868386574, 190.39731938904578, 167.06095868294392, 167.37976317558812]\n"
     ]
    },
    {
     "data": {
      "application/vnd.jupyter.widget-view+json": {
       "model_id": "e891cd03c3aa4ec4ad32cb47522772b5",
       "version_major": 2,
       "version_minor": 0
      },
      "text/plain": [
       "Canvas(toolbar=Toolbar(toolitems=[('Home', 'Reset original view', 'home', 'home'), ('Back', 'Back to previous …"
      ]
     },
     "metadata": {},
     "output_type": "display_data"
    },
    {
     "name": "stdout",
     "output_type": "stream",
     "text": [
      "./Images\\imtestsamples\\shrug 1.jpg\n",
      "normalized_X_coordinates =  [-0.5782350914975972, 0.0, 25.853938331791003, -24.27381077714719, 35.867038104498405, -32.95343347761732, 55.7152342562582, -55.63178706609116, 19.073977018035137, -14.253377983176852]\n",
      "normalized_Y_coordinates =  [-42.71674133753508, 0.0, 15.245101324627909, 18.078401102108902, 108.64322338881118, 114.57787097839827, 51.6265601120638, 53.01761235413926, 165.5585412362988, 164.3905430027608]\n"
     ]
    },
    {
     "data": {
      "application/vnd.jupyter.widget-view+json": {
       "model_id": "d8f7f4a8085641cda6d1b32c8cc498d2",
       "version_major": 2,
       "version_minor": 0
      },
      "text/plain": [
       "Canvas(toolbar=Toolbar(toolitems=[('Home', 'Reset original view', 'home', 'home'), ('Back', 'Back to previous …"
      ]
     },
     "metadata": {},
     "output_type": "display_data"
    },
    {
     "name": "stdout",
     "output_type": "stream",
     "text": [
      "./Images\\imtestsamples\\shrug 10.jpg\n",
      "normalized_X_coordinates =  [-0.01561644152053194, 0.0, 26.056942274861598, -23.952311833109405, 38.153882270598956, -35.05037911851021, 49.208443255314336, -52.136171375564224, 15.877394294581393, -14.683630452691137]\n",
      "normalized_Y_coordinates =  [-44.93201969214427, 0.0, 16.606305125686855, 16.354726392913747, 110.15002377975134, 105.98846434811014, 41.92771350527987, 43.213846736852034, 166.7912772960133, 165.6879815974353]\n"
     ]
    },
    {
     "data": {
      "application/vnd.jupyter.widget-view+json": {
       "model_id": "8bbf0b09aed74ab4a4396802c7d7d4fe",
       "version_major": 2,
       "version_minor": 0
      },
      "text/plain": [
       "Canvas(toolbar=Toolbar(toolitems=[('Home', 'Reset original view', 'home', 'home'), ('Back', 'Back to previous …"
      ]
     },
     "metadata": {},
     "output_type": "display_data"
    },
    {
     "name": "stdout",
     "output_type": "stream",
     "text": [
      "./Images\\imtestsamples\\shrug 11.jpg\n",
      "normalized_X_coordinates =  [-0.3434653234000122, 0.0, 24.961201831547903, -25.093891644718667, 44.82028460261798, -40.014051186918, 62.77700096669823, -62.23989929815735, 19.237109868213388, -13.480016920301646]\n",
      "normalized_Y_coordinates =  [-44.549900672193296, 0.0, 14.364927047390049, 20.242350131778394, 103.57365759752564, 115.10094783063661, 17.92145528025546, 30.788157905562446, 164.77216613494744, 166.3364990787991]\n"
     ]
    },
    {
     "data": {
      "application/vnd.jupyter.widget-view+json": {
       "model_id": "e913d62e091d47858a9dbc91eb2d6c47",
       "version_major": 2,
       "version_minor": 0
      },
      "text/plain": [
       "Canvas(toolbar=Toolbar(toolitems=[('Home', 'Reset original view', 'home', 'home'), ('Back', 'Back to previous …"
      ]
     },
     "metadata": {},
     "output_type": "display_data"
    },
    {
     "name": "stdout",
     "output_type": "stream",
     "text": [
      "./Images\\imtestsamples\\shrug 12.jpg\n",
      "normalized_X_coordinates =  [0.30765852590245524, 0.0, 25.468356027377872, -24.633351273424044, 34.86895655083844, -39.45815281605157, 65.97517512914703, -68.1713199990941, 14.001285935950092, -19.18210288671058]\n",
      "normalized_Y_coordinates =  [-45.2795393108704, 0.0, 23.1539894262126, 20.36297259553108, 114.46583456326024, 110.17804318759107, 50.95479401899742, 65.24030408711013, 173.42358673174763, 170.14480625409536]\n"
     ]
    },
    {
     "data": {
      "application/vnd.jupyter.widget-view+json": {
       "model_id": "5ae6bbdd65c3411c89ffe71d8dd1fb8b",
       "version_major": 2,
       "version_minor": 0
      },
      "text/plain": [
       "Canvas(toolbar=Toolbar(toolitems=[('Home', 'Reset original view', 'home', 'home'), ('Back', 'Back to previous …"
      ]
     },
     "metadata": {},
     "output_type": "display_data"
    },
    {
     "name": "stdout",
     "output_type": "stream",
     "text": [
      "./Images\\imtestsamples\\shrug 13.jpg\n",
      "normalized_X_coordinates =  [-0.9517646708618621, 0.0, 25.60476091060711, -24.650097875496307, 35.202888086466245, -36.70497050617598, 59.3476113907137, -62.273391085043684, 18.451429923150954, -15.780016078338331]\n",
      "normalized_Y_coordinates =  [-47.9811180022455, 0.0, 18.308649620702194, 21.116221624035994, 122.94813702183386, 122.29147601512172, 59.48418330761695, 33.712336613285935, 168.73149669939474, 167.73342653628322]\n"
     ]
    },
    {
     "data": {
      "application/vnd.jupyter.widget-view+json": {
       "model_id": "c5aa38920d68499b9907c9758e200d14",
       "version_major": 2,
       "version_minor": 0
      },
      "text/plain": [
       "Canvas(toolbar=Toolbar(toolitems=[('Home', 'Reset original view', 'home', 'home'), ('Back', 'Back to previous …"
      ]
     },
     "metadata": {},
     "output_type": "display_data"
    },
    {
     "name": "stdout",
     "output_type": "stream",
     "text": [
      "./Images\\imtestsamples\\shrug 14.jpg\n",
      "normalized_X_coordinates =  [-1.8412653667231327, 0.0, 26.2506438807274, -23.85278812920053, 42.31990202485274, -41.040073296365634, 67.27383666827033, -72.83884900001188, 20.25517978860687, -12.685854205240798]\n",
      "normalized_Y_coordinates =  [-43.796426905913556, 0.0, 15.132726174085699, 22.878366851426186, 101.37210540631985, 111.27123877089075, 53.31687970047302, 76.46741691104909, 165.31658551477372, 166.76458232897392]\n"
     ]
    },
    {
     "data": {
      "application/vnd.jupyter.widget-view+json": {
       "model_id": "c553813d51704d8ba35908c13a795c21",
       "version_major": 2,
       "version_minor": 0
      },
      "text/plain": [
       "Canvas(toolbar=Toolbar(toolitems=[('Home', 'Reset original view', 'home', 'home'), ('Back', 'Back to previous …"
      ]
     },
     "metadata": {},
     "output_type": "display_data"
    },
    {
     "name": "stdout",
     "output_type": "stream",
     "text": [
      "./Images\\imtestsamples\\shrug 15.jpg\n",
      "normalized_X_coordinates =  [1.4728463945850248, 0.0, 24.044965544054584, -26.07116896298624, 44.246347200485964, -45.83669706217704, 50.00016141322351, -51.25269894638369, 16.191803639934907, -17.054707052246215]\n",
      "normalized_Y_coordinates =  [-50.538695381571905, 0.0, 21.797698380931333, 19.02426802954138, 118.75681462666847, 114.29449992858811, -1.4003939186500303, -5.394507066303522, 172.0141793521035, 170.42664721706845]\n"
     ]
    },
    {
     "data": {
      "application/vnd.jupyter.widget-view+json": {
       "model_id": "b9eab4b96b0d40788bda4afde442f077",
       "version_major": 2,
       "version_minor": 0
      },
      "text/plain": [
       "Canvas(toolbar=Toolbar(toolitems=[('Home', 'Reset original view', 'home', 'home'), ('Back', 'Back to previous …"
      ]
     },
     "metadata": {},
     "output_type": "display_data"
    },
    {
     "name": "stdout",
     "output_type": "stream",
     "text": [
      "./Images\\imtestsamples\\shrug 16.jpg\n",
      "normalized_X_coordinates =  [1.729652285575867, 0.0, 22.749757537475002, -27.265651867939876, 39.75868798219241, -43.82637830880972, 74.15909606676836, -80.2976294205739, 15.451902380356422, -17.833830072329597]\n",
      "normalized_Y_coordinates =  [-38.473344367483385, 0.0, 13.41896471769914, 11.357955310655683, 95.02544610396676, 97.41312524546748, 70.17948316491169, 65.42231725609821, 163.52530147718346, 163.6284226956575]\n"
     ]
    },
    {
     "data": {
      "application/vnd.jupyter.widget-view+json": {
       "model_id": "ae8259c8ca814b689bd7763d427561d7",
       "version_major": 2,
       "version_minor": 0
      },
      "text/plain": [
       "Canvas(toolbar=Toolbar(toolitems=[('Home', 'Reset original view', 'home', 'home'), ('Back', 'Back to previous …"
      ]
     },
     "metadata": {},
     "output_type": "display_data"
    },
    {
     "name": "stdout",
     "output_type": "stream",
     "text": [
      "./Images\\imtestsamples\\shrug 17.jpg\n",
      "normalized_X_coordinates =  [1.061013208878058, 0.0, 23.489827595234832, -26.55021487403238, 43.42776732178322, -43.7458241376344, 56.5431320138979, -56.362094677022895, 15.542316528643711, -15.754104809035233]\n",
      "normalized_Y_coordinates =  [-44.00861865556389, 0.0, 14.426417863892711, 18.323319520661023, 100.60694015674511, 115.81917034158147, 1.777069956438312, 8.123555558121852, 164.70786464638292, 163.25621407276415]\n"
     ]
    },
    {
     "data": {
      "application/vnd.jupyter.widget-view+json": {
       "model_id": "930f5842d2b84567be605f6022e9e6f6",
       "version_major": 2,
       "version_minor": 0
      },
      "text/plain": [
       "Canvas(toolbar=Toolbar(toolitems=[('Home', 'Reset original view', 'home', 'home'), ('Back', 'Back to previous …"
      ]
     },
     "metadata": {},
     "output_type": "display_data"
    },
    {
     "name": "stdout",
     "output_type": "stream",
     "text": [
      "./Images\\imtestsamples\\shrug 18.jpg\n",
      "normalized_X_coordinates =  [-0.6170385213010688, 0.0, 24.77419697475754, -25.288292053171286, 30.806307439450862, -35.95183393369219, 43.7012726208979, -55.43393719477285, 13.633992535498002, -16.21064312931665]\n",
      "normalized_Y_coordinates =  [-48.08466539306696, 0.0, 18.93187860070273, 19.007426188435666, 122.13632750303248, 118.14301209740862, 46.93634873039501, 36.98244872827863, 169.15812672570695, 167.7393330217794]\n"
     ]
    },
    {
     "data": {
      "application/vnd.jupyter.widget-view+json": {
       "model_id": "fca370ab5330473dad6de1758f0e69dd",
       "version_major": 2,
       "version_minor": 0
      },
      "text/plain": [
       "Canvas(toolbar=Toolbar(toolitems=[('Home', 'Reset original view', 'home', 'home'), ('Back', 'Back to previous …"
      ]
     },
     "metadata": {},
     "output_type": "display_data"
    },
    {
     "name": "stdout",
     "output_type": "stream",
     "text": [
      "./Images\\imtestsamples\\shrug 19.jpg\n",
      "normalized_X_coordinates =  [-4.3185577433333435, 0.0, 28.108164795443543, -22.0391485426161, 47.675590229849526, -32.81623379796998, 89.41018173837254, -68.06437276367448, 19.93549685192923, -11.528419633196968]\n",
      "normalized_Y_coordinates =  [-42.07045803254938, 0.0, 14.06145169135721, 22.013270153718835, 91.73158144249635, 98.36966248757061, 79.73327784933508, 62.63832454694146, 164.4025015002266, 165.58117711926525]\n"
     ]
    },
    {
     "data": {
      "application/vnd.jupyter.widget-view+json": {
       "model_id": "1c8ea1c8661c4ffca2b406602fd1aac3",
       "version_major": 2,
       "version_minor": 0
      },
      "text/plain": [
       "Canvas(toolbar=Toolbar(toolitems=[('Home', 'Reset original view', 'home', 'home'), ('Back', 'Back to previous …"
      ]
     },
     "metadata": {},
     "output_type": "display_data"
    },
    {
     "name": "stdout",
     "output_type": "stream",
     "text": [
      "./Images\\imtestsamples\\shrug 2.jpg\n",
      "normalized_X_coordinates =  [1.6647654443882816, 0.0, 23.604789598088434, -26.437372065670665, 35.57424715035941, -42.64699409694733, 63.88913852111421, -77.49159166342231, 16.56520328089643, -16.88904361045862]\n",
      "normalized_Y_coordinates =  [-46.955811439387304, 0.0, 19.86265748810033, 18.959311578166183, 114.6575390867836, 114.37289788434173, 63.12222492100225, 69.31769876185619, 169.8918637074088, 169.36571750958007]\n"
     ]
    },
    {
     "data": {
      "application/vnd.jupyter.widget-view+json": {
       "model_id": "e9c011e9251548fe8491dfc083841452",
       "version_major": 2,
       "version_minor": 0
      },
      "text/plain": [
       "Canvas(toolbar=Toolbar(toolitems=[('Home', 'Reset original view', 'home', 'home'), ('Back', 'Back to previous …"
      ]
     },
     "metadata": {},
     "output_type": "display_data"
    },
    {
     "name": "stdout",
     "output_type": "stream",
     "text": [
      "./Images\\imtestsamples\\shrug 3.jpg\n",
      "normalized_X_coordinates =  [-2.762327600576448, 0.0, 27.00021364838605, -23.071271173907935, 45.65544651758268, -35.8401033901362, 58.74824783796274, -53.90351355651726, 20.79123436396825, -12.059257075118554]\n",
      "normalized_Y_coordinates =  [-46.537837920487796, 0.0, 13.946184220536457, 21.58138086427405, 113.96126653293132, 118.92237051582892, 36.03231759182566, 35.766924218255646, 164.11208593810613, 165.72180233960944]\n"
     ]
    },
    {
     "data": {
      "application/vnd.jupyter.widget-view+json": {
       "model_id": "e3467a358c944c9a8990743d2b9ebf5b",
       "version_major": 2,
       "version_minor": 0
      },
      "text/plain": [
       "Canvas(toolbar=Toolbar(toolitems=[('Home', 'Reset original view', 'home', 'home'), ('Back', 'Back to previous …"
      ]
     },
     "metadata": {},
     "output_type": "display_data"
    },
    {
     "name": "stdout",
     "output_type": "stream",
     "text": [
      "./Images\\imtestsamples\\shrug 4.jpg\n",
      "normalized_X_coordinates =  [1.3323584472499677, 0.0, 23.42477651753864, -26.747128612177377, 35.280961007023784, -34.6221564112654, 54.746355476298774, -49.81161862035879, 17.582935649127784, -17.878662056968977]\n",
      "normalized_Y_coordinates =  [-43.678010399970745, 0.0, 17.292854438225426, 18.256324529647827, 110.46502047942744, 121.98206960327094, 40.1293143009146, 28.533711346487202, 167.64019802212715, 167.1990936415063]\n"
     ]
    },
    {
     "data": {
      "application/vnd.jupyter.widget-view+json": {
       "model_id": "3160ce828bd74a1e96163f44b4bdfde1",
       "version_major": 2,
       "version_minor": 0
      },
      "text/plain": [
       "Canvas(toolbar=Toolbar(toolitems=[('Home', 'Reset original view', 'home', 'home'), ('Back', 'Back to previous …"
      ]
     },
     "metadata": {},
     "output_type": "display_data"
    },
    {
     "name": "stdout",
     "output_type": "stream",
     "text": [
      "./Images\\imtestsamples\\shrug 5.jpg\n",
      "normalized_X_coordinates =  [-0.3434653234000122, 0.0, 24.961201831547903, -25.093891644718667, 44.82028460261798, -40.014051186918, 62.77700096669823, -62.23989929815735, 19.237109868213388, -13.480016920301646]\n",
      "normalized_Y_coordinates =  [-44.549900672193296, 0.0, 14.364927047390049, 20.242350131778394, 103.57365759752564, 115.10094783063661, 17.92145528025546, 30.788157905562446, 164.77216613494744, 166.3364990787991]\n"
     ]
    },
    {
     "data": {
      "application/vnd.jupyter.widget-view+json": {
       "model_id": "311e698105ff4c25a5d1ab0e03f87798",
       "version_major": 2,
       "version_minor": 0
      },
      "text/plain": [
       "Canvas(toolbar=Toolbar(toolitems=[('Home', 'Reset original view', 'home', 'home'), ('Back', 'Back to previous …"
      ]
     },
     "metadata": {},
     "output_type": "display_data"
    },
    {
     "name": "stdout",
     "output_type": "stream",
     "text": [
      "./Images\\imtestsamples\\shrug 6.jpg\n",
      "normalized_X_coordinates =  [-2.985406398308434, 0.0, 26.473431588381125, -23.62253256940934, 41.309300425224606, -31.690126245017165, 62.18460553686986, -51.68679179387715, 16.622497876252815, -15.86493968847434]\n",
      "normalized_Y_coordinates =  [-46.43320902204418, 0.0, 14.401655618997506, 27.764714427781158, 100.1289433560836, 121.100463971466, 16.45221041874668, 7.55748950226407, 164.47506851514814, 165.5496331142858]\n"
     ]
    },
    {
     "data": {
      "application/vnd.jupyter.widget-view+json": {
       "model_id": "ba52e7a4ccb6455392845c60c4cf2fb0",
       "version_major": 2,
       "version_minor": 0
      },
      "text/plain": [
       "Canvas(toolbar=Toolbar(toolitems=[('Home', 'Reset original view', 'home', 'home'), ('Back', 'Back to previous …"
      ]
     },
     "metadata": {},
     "output_type": "display_data"
    },
    {
     "name": "stdout",
     "output_type": "stream",
     "text": [
      "./Images\\imtestsamples\\shrug 7.jpg\n",
      "normalized_X_coordinates =  [-0.6310603237085495, 0.0, 25.315286395101587, -24.685243224031357, 43.43103979285324, -37.94735915839131, 65.1342380638309, -71.02065949403348, 16.323457140759263, -15.206655199756]\n",
      "normalized_Y_coordinates =  [-43.419219727395834, 0.0, 13.853762522104791, 16.623580380569127, 104.6503080554565, 102.28605046633291, 43.77926219525022, 49.28133818629413, 163.8694921690583, 164.17160017257234]\n"
     ]
    },
    {
     "data": {
      "application/vnd.jupyter.widget-view+json": {
       "model_id": "2d409d48e70e4c75a62dede825ae751d",
       "version_major": 2,
       "version_minor": 0
      },
      "text/plain": [
       "Canvas(toolbar=Toolbar(toolitems=[('Home', 'Reset original view', 'home', 'home'), ('Back', 'Back to previous …"
      ]
     },
     "metadata": {},
     "output_type": "display_data"
    },
    {
     "name": "stdout",
     "output_type": "stream",
     "text": [
      "./Images\\imtestsamples\\shrug 8.jpg\n",
      "normalized_X_coordinates =  [2.8062097275454696, 0.0, 22.94786439086851, -27.10538509800948, 28.634209247583843, -36.63409933530165, 55.751762255120674, -52.57046519063454, 14.196935197266427, -18.627054536540207]\n",
      "normalized_Y_coordinates =  [-49.095369079737985, 0.0, 23.03960531660654, 18.640357545278604, 119.23823402923287, 126.78983466139117, 75.9056026495776, 75.07270609290855, 173.19513802389497, 170.73825262125254]\n"
     ]
    },
    {
     "data": {
      "application/vnd.jupyter.widget-view+json": {
       "model_id": "236ac2ecf00b4970b3e92ef17d8969c6",
       "version_major": 2,
       "version_minor": 0
      },
      "text/plain": [
       "Canvas(toolbar=Toolbar(toolitems=[('Home', 'Reset original view', 'home', 'home'), ('Back', 'Back to previous …"
      ]
     },
     "metadata": {},
     "output_type": "display_data"
    },
    {
     "name": "stdout",
     "output_type": "stream",
     "text": [
      "./Images\\imtestsamples\\shrug 9.jpg\n",
      "normalized_X_coordinates =  [-1.2688153935176896, 0.0, 26.442437142402195, -23.757325307474485, 36.76940475229744, -33.40616960514774, 58.781565672105486, -53.27021416511622, 15.634276845433684, -17.25681838285816]\n",
      "normalized_Y_coordinates =  [-44.07844217618306, 0.0, 17.75452689329783, 19.12959591547648, 100.66103974978128, 110.72475210825601, 54.767520825068154, 42.56051687399546, 168.4165736834208, 164.73985270659128]\n"
     ]
    },
    {
     "data": {
      "application/vnd.jupyter.widget-view+json": {
       "model_id": "bba03cde15084eff96ee727ef93f0ec6",
       "version_major": 2,
       "version_minor": 0
      },
      "text/plain": [
       "Canvas(toolbar=Toolbar(toolitems=[('Home', 'Reset original view', 'home', 'home'), ('Back', 'Back to previous …"
      ]
     },
     "metadata": {},
     "output_type": "display_data"
    },
    {
     "name": "stdout",
     "output_type": "stream",
     "text": [
      "./Images\\imtestsamples\\z 1.jpg\n",
      "normalized_X_coordinates =  [11.09646400436759, 0.0, -32.37149212509394, 17.878925427794456, -70.79292554408312, 16.52287319302559, -101.65360290557146, -5.773990415036678, -70.28472609817982, -37.958589382469654]\n",
      "normalized_Y_coordinates =  [-23.90841552354757, 0.0, -13.723483450204423, 34.80145216566845, -42.0948944334845, 46.428961748058356, -80.6256084187517, -0.9069473130031697, 136.99835993132544, 155.6401172598589]\n"
     ]
    },
    {
     "data": {
      "application/vnd.jupyter.widget-view+json": {
       "model_id": "e4178ffb19814404824ad586e686fd33",
       "version_major": 2,
       "version_minor": 0
      },
      "text/plain": [
       "Canvas(toolbar=Toolbar(toolitems=[('Home', 'Reset original view', 'home', 'home'), ('Back', 'Back to previous …"
      ]
     },
     "metadata": {},
     "output_type": "display_data"
    },
    {
     "name": "stdout",
     "output_type": "stream",
     "text": [
      "./Images\\imtestsamples\\z 2.jpg\n",
      "normalized_X_coordinates =  [0.2520817397820793, 0.0, 21.581951566416805, -28.431793354978467, 61.012149007633475, -34.466070508716086, 56.10125910754155, -32.3257896334234, 18.403985434108307, -15.346368003373197]\n",
      "normalized_Y_coordinates =  [-44.07727005377032, 0.0, 13.600576042115858, 26.636778835534376, 32.3188340866532, 120.45814218500855, -75.34985171667915, 192.58413308909527, 164.02168845488734, 168.5962067194093]\n"
     ]
    }
   ],
   "source": [
    "testimages = {name: cv2.imread(name) for name in glob.glob('./Images\\imtestsamples/*jpg')}\n",
    "LLEVideoArrayTest = []\n",
    "for name, image in testimages.items():\n",
    "    plt.figure()\n",
    "    plt.imshow(image)\n",
    "    print(name)   \n",
    "#     cv2.imshow('image',image)\n",
    "#     cv2.waitKey(0)s\n",
    "    normalized_X_coordinates, normalized_Y_coordinates = get_ten_joints(image)\n",
    "    print(\"normalized_X_coordinates = \", normalized_X_coordinates)\n",
    "    print(\"normalized_Y_coordinates = \", normalized_Y_coordinates)\n",
    "    LLEVideoArrayTest.append([normalized_X_coordinates, normalized_Y_coordinates])"
   ]
  },
  {
   "cell_type": "code",
   "execution_count": 12,
   "id": "5ec8cadf",
   "metadata": {},
   "outputs": [],
   "source": [
    "TestLLEFrames = []"
   ]
  },
  {
   "cell_type": "code",
   "execution_count": 13,
   "id": "c10f7fa4",
   "metadata": {
    "scrolled": true
   },
   "outputs": [
    {
     "name": "stdout",
     "output_type": "stream",
     "text": [
      "[[-2.1858955782968605, -52.46816361634925, 0.0, 0.0, 27.500753392631886, 28.290430652467826, -22.600116022830996, 22.08839301287272, 16.28458656118688, 134.63307309664037, -26.40086809074245, 116.29678180628416, -29.70065918665577, 112.48251708785882, -12.019235190849946, 2.004064911860598, 11.43049969909272, 178.85547113475616, -21.388297704394887, 173.43097059635454], [-2.616034491395573, -49.26337974686776, 0.0, 0.0, 26.734998955890184, 19.733015087343038, -23.393187485143816, 20.594980447523064, 30.303009267218194, 138.53195165434192, -24.215707992815407, 124.75530418657489, -10.892548315757812, 121.46208795808978, -6.986289508739059, 0.305831432342535, 19.37050696727783, 169.99726574267115, -11.664196495015892, 172.27432564381633], [-0.16759420361588984, -47.3510909755275, 0.0, 0.0, 27.155466903658475, 27.136585341309594, -23.16767893293325, 19.51170951690313, 26.62040280068622, 122.41655363226835, -20.956713947303157, 98.24008143173073, -26.60160250961781, 91.76032498197735, 0.6318297018023099, -5.991964407686924, 17.18701895545511, 177.45066307625677, -17.887081162017935, 173.92699617259905], [-9.239479931870843, -42.54134109004087, 0.0, 0.0, 29.58256986665829, 9.998939618569196, -20.562367826245715, 24.087080245093354, 33.09847352811194, 125.65278875101232, -17.507480769895007, 112.77394722600555, -18.427899687638217, 129.02046592725318, -8.823144409911052, 0.2006494568379146, 26.11101809929658, 160.02223959894806, -4.032088975241507, 161.0699888276731], [-1.694666588664951, -40.02084815874696, 0.0, 0.0, 27.17519997990221, 18.786330993932026, -22.971259180764505, 14.255690639122173, 25.515855876798916, 101.29927618142504, -31.584094733672032, 81.46589267282532, -24.601204575676665, 84.93572355319674, -13.736902978411294, -12.038191207326376, 7.049523344389478, 168.84980239690495, -22.87781762337326, 162.98013635409566], [0.4296602161080988, -45.23544585198359, 0.0, 0.0, 27.53490263277346, 21.185203023206164, -22.708322550799394, 14.742473917069768, 35.64912188160527, 124.57098941397821, -31.726236815925116, 112.90728173224753, -9.434166792276743, 115.40889492611478, -4.908778108992018, 12.325853206752942, 13.480852316091728, 171.80034042963013, -18.59471604630754, 166.74332049937027], [-6.575381346777378, -45.62137704705794, 0.0, 0.0, 28.964804083693256, 20.364789992653893, -21.160896502289123, 23.70396533716356, 23.651768763860062, 121.54687060287073, -24.181922861174044, 101.86140097283388, -39.6526283493229, 132.48763663855104, -14.214404657775285, -13.198480981306114, 22.01949556668599, 170.39570089502254, -8.69383998945648, 159.7989460718001], [-1.7940217026189837, -46.33731495785086, 0.0, 0.0, 26.109928922088834, 17.804862998033826, -24.043421670434547, 20.54944012510149, 30.72986550233215, 114.89528716394776, -29.538339858757695, 117.26344528951144, -23.14339045453186, 100.22700265834206, 1.6822307798021725, -0.8288579238088507, 17.007031986390917, 168.18019511668305, -16.340516363653002, 166.62292187935427], [0.5302672413573827, -65.51376864794761, 0.0, 0.0, 25.782475098111156, 32.794464595856205, -24.553557493905913, 23.438674692184694, 26.460375165802304, 171.26390717683302, -25.245504475187985, 164.27050877001977, -17.379181480955808, 129.50342307167668, -12.764497392479035, -6.832264411833979, 12.558221217544595, 182.79812465752326, -17.929740849582632, 177.759382032579], [-5.678848493517488, -49.62390169034021, 0.0, 0.0, 27.877899774333887, 18.94520188873238, -22.25017840402168, 30.150490604626594, 36.18294062321646, 120.57431678738745, -21.27603535066571, 118.48766377993994, -20.676318292032203, 117.96300743515069, -5.660042835955031, -6.403103190432027, 28.43944027758481, 169.4536615539511, -5.309239887354664, 176.37596844796104], [-0.6981060176552412, -47.55928486335177, 0.0, 0.0, 27.996514014855112, 23.693297089648848, -22.25344587942797, 23.007763534032996, 17.966155163542236, 116.39923107724229, -30.13468074227521, 106.43480204734482, -26.81591018231329, 83.11796088178619, -8.245322875633924, -6.724621067527963, 19.227339479023822, 173.97366651967795, -15.547505752769057, 174.13877639449944], [-0.08236865202585499, -49.5979550099178, 0.0, 0.0, 25.1843107383956, 20.730932629400765, -24.821966699084395, 20.93962617726027, 22.130641641107, 122.2099189375012, -21.108296494813832, 124.94660398290982, -23.298371887806823, 113.61815110864042, -5.16408747472103, 0.8915351424620002, 12.74170168915635, 171.07220482111626, -19.311289836025836, 170.18763012067498], [0.9211112878152302, -40.739456700411296, 0.0, 0.0, 28.481076338461467, 20.985873549509407, -21.578395473105566, 17.211271219177927, 33.850331923791344, 99.93576756331012, -30.04855609365872, 80.20117900042392, -19.21865823013442, 71.25857829936405, -14.992646340812955, -9.020049483584819, 12.93932752949851, 171.16960889534718, -19.9981832078525, 168.23538507598994], [-2.955482537005128, -44.93274104663696, 0.0, 0.0, 26.342128755665627, 16.265751609857045, -23.684444046821916, 20.199271043141675, 33.941132431270695, 120.50786946696795, -18.626877239772252, 112.55999745308667, -17.640965075052087, 118.11870936004593, -2.0575060063049575, 3.048570950826001, 19.285439693627236, 166.3594854631643, -13.311457734148041, 167.84297107965094], [-1.3396046190672548, -52.215866918687695, 0.0, 0.0, 25.04087804855033, 24.343181043476253, -25.078812431306872, 23.453277349472046, 33.00960339633714, 133.03349451585248, -15.490850024901968, 121.98640967344309, -16.191371393560914, 132.1207565146607, -1.8614766358882695, 1.5396553974647027, 17.035353764166107, 174.77608183761694, -15.904662504178305, 175.89869398575325], [0.2012497955752957, -42.35448597146453, 0.0, 0.0, 25.280190090979296, 18.84045039149497, -24.818792458503477, 17.5640951815269, 33.23815041972745, 91.76701200094153, -31.12267101964643, 95.60554254826882, 29.031716046794767, 181.9045562967122, -26.314849815061013, 187.04914896608256, 14.658507800871325, 168.8846313267303, -14.434639484651626, 167.9132664375168], [-0.10693743171399724, -42.494621158631375, 0.0, 0.0, 25.349929896101614, 19.443210984064535, -24.82666245155168, 20.04633265093339, 32.81973142242222, 90.32709096088884, -29.953958597361005, 92.89058821260437, 23.26965799326436, 180.3668052696985, -29.506369379528792, 180.74545929254583, 15.341610860144877, 170.49293921998714, -13.693464462432953, 170.03370070260422], [0.1071089562380089, -43.17106022892228, 0.0, 0.0, 25.39909324556027, 19.092887675905803, -25.041144861365265, 17.824902125151763, 27.74095524032161, 103.56383837131133, -30.2353154938176, 99.76400197988534, 27.37615963198104, 193.3708235082856, -26.538527011871338, 191.48621620183968, 12.517694369801935, 169.86926772508278, -16.62120796599478, 169.39433349902373], [0.5632554161689317, -43.91535802418927, 0.0, 0.0, 24.242791146655357, 23.855704769312627, -25.797752987670332, 17.48819038810501, 30.669082353952014, 94.52186883932137, -34.35632021202098, 89.87646998770266, 22.843416848365543, 168.43493713671904, -33.1407366249062, 163.74621495424984, 7.782616560789692, 173.92322421073914, -20.2311350093127, 170.60551478202086], [1.7446408065867933, -44.39086132291435, 0.0, 0.0, 24.05213671818114, 24.108843095060703, -25.95020933994237, 15.584267135979468, 32.85609690444833, 106.10637111940245, -38.07724727149274, 92.4134764118471, 12.975674135643136, 166.63728503213412, -23.34309100461232, 159.62144646091735, 9.776384643858417, 174.29654408192286, -17.483780339018377, 173.07083287100858], [-0.4403340094017293, -43.18320475812578, 0.0, 0.0, 25.832323775146943, 21.488852747078564, -24.214560425642766, 20.00581743822297, 35.37209295865261, 91.00753431945279, -33.002414170539744, 90.14764502471672, 39.90271380453398, 174.5030388547207, -37.031463691682525, 178.35056388322826, 15.867757165070731, 171.72448489201318, -13.830311686703656, 171.01392220109355], [1.924855256071071, -44.06556674519426, 0.0, 0.0, 24.02288389798158, 21.661106239324837, -26.006810319347263, 19.729510886864084, 33.993060404482556, 98.9125481566543, -32.94022999799405, 99.0465039727073, 20.05386049262224, 172.37614723121595, -21.116624194651084, 177.02103317158776, 12.433225752260435, 171.81821120610027, -15.703722091917049, 173.1879231314989], [-5.645748132314437, -39.00822188006714, 0.0, 0.0, 29.968485618248963, 9.16555153671652, -20.334590704013138, 22.825630707666278, 40.64623361978775, 78.57757781166583, -33.470743741744606, 83.35034160409123, 33.359737732471565, 160.71212401147932, -25.66452973928207, 165.54788073990494, 18.15196795341296, 159.34698942583054, -10.529695413051506, 159.91013199090958], [0.08428443241589176, -46.66867208321358, 0.0, 0.0, 25.431405719865133, 23.53231882969272, -24.760604565366737, 22.603824066876562, 30.289815520418102, 93.05539848812447, -28.432218869918675, 98.90390351464517, 29.454340326962214, 176.48927312232178, -25.504085773904922, 179.59419684266564, 15.596299556088566, 173.95029227470474, -14.64760407732038, 173.49666225471623], [3.061140781123895, -40.52547804259379, 0.0, 0.0, 19.020650824999706, 16.662736606160436, -31.301130851109814, 10.023483087163452, 24.2395610569819, 102.75860335848746, -37.91166511980909, 95.9589063300999, 22.513347265382887, 203.70241868386574, -36.46249708519678, 190.39731938904578, 5.650249178006775, 167.06095868294392, -24.139742498800626, 167.37976317558812], [-0.5782350914975972, -42.71674133753508, 0.0, 0.0, 25.853938331791003, 15.245101324627909, -24.27381077714719, 18.078401102108902, 35.867038104498405, 108.64322338881118, -32.95343347761732, 114.57787097839827, 55.7152342562582, 51.6265601120638, -55.63178706609116, 53.01761235413926, 19.073977018035137, 165.5585412362988, -14.253377983176852, 164.3905430027608], [-0.01561644152053194, -44.93201969214427, 0.0, 0.0, 26.056942274861598, 16.606305125686855, -23.952311833109405, 16.354726392913747, 38.153882270598956, 110.15002377975134, -35.05037911851021, 105.98846434811014, 49.208443255314336, 41.92771350527987, -52.136171375564224, 43.213846736852034, 15.877394294581393, 166.7912772960133, -14.683630452691137, 165.6879815974353], [-0.3434653234000122, -44.549900672193296, 0.0, 0.0, 24.961201831547903, 14.364927047390049, -25.093891644718667, 20.242350131778394, 44.82028460261798, 103.57365759752564, -40.014051186918, 115.10094783063661, 62.77700096669823, 17.92145528025546, -62.23989929815735, 30.788157905562446, 19.237109868213388, 164.77216613494744, -13.480016920301646, 166.3364990787991], [0.30765852590245524, -45.2795393108704, 0.0, 0.0, 25.468356027377872, 23.1539894262126, -24.633351273424044, 20.36297259553108, 34.86895655083844, 114.46583456326024, -39.45815281605157, 110.17804318759107, 65.97517512914703, 50.95479401899742, -68.1713199990941, 65.24030408711013, 14.001285935950092, 173.42358673174763, -19.18210288671058, 170.14480625409536], [-0.9517646708618621, -47.9811180022455, 0.0, 0.0, 25.60476091060711, 18.308649620702194, -24.650097875496307, 21.116221624035994, 35.202888086466245, 122.94813702183386, -36.70497050617598, 122.29147601512172, 59.3476113907137, 59.48418330761695, -62.273391085043684, 33.712336613285935, 18.451429923150954, 168.73149669939474, -15.780016078338331, 167.73342653628322], [-1.8412653667231327, -43.796426905913556, 0.0, 0.0, 26.2506438807274, 15.132726174085699, -23.85278812920053, 22.878366851426186, 42.31990202485274, 101.37210540631985, -41.040073296365634, 111.27123877089075, 67.27383666827033, 53.31687970047302, -72.83884900001188, 76.46741691104909, 20.25517978860687, 165.31658551477372, -12.685854205240798, 166.76458232897392], [1.4728463945850248, -50.538695381571905, 0.0, 0.0, 24.044965544054584, 21.797698380931333, -26.07116896298624, 19.02426802954138, 44.246347200485964, 118.75681462666847, -45.83669706217704, 114.29449992858811, 50.00016141322351, -1.4003939186500303, -51.25269894638369, -5.394507066303522, 16.191803639934907, 172.0141793521035, -17.054707052246215, 170.42664721706845], [1.729652285575867, -38.473344367483385, 0.0, 0.0, 22.749757537475002, 13.41896471769914, -27.265651867939876, 11.357955310655683, 39.75868798219241, 95.02544610396676, -43.82637830880972, 97.41312524546748, 74.15909606676836, 70.17948316491169, -80.2976294205739, 65.42231725609821, 15.451902380356422, 163.52530147718346, -17.833830072329597, 163.6284226956575], [1.061013208878058, -44.00861865556389, 0.0, 0.0, 23.489827595234832, 14.426417863892711, -26.55021487403238, 18.323319520661023, 43.42776732178322, 100.60694015674511, -43.7458241376344, 115.81917034158147, 56.5431320138979, 1.777069956438312, -56.362094677022895, 8.123555558121852, 15.542316528643711, 164.70786464638292, -15.754104809035233, 163.25621407276415], [-0.6170385213010688, -48.08466539306696, 0.0, 0.0, 24.77419697475754, 18.93187860070273, -25.288292053171286, 19.007426188435666, 30.806307439450862, 122.13632750303248, -35.95183393369219, 118.14301209740862, 43.7012726208979, 46.93634873039501, -55.43393719477285, 36.98244872827863, 13.633992535498002, 169.15812672570695, -16.21064312931665, 167.7393330217794], [-4.3185577433333435, -42.07045803254938, 0.0, 0.0, 28.108164795443543, 14.06145169135721, -22.0391485426161, 22.013270153718835, 47.675590229849526, 91.73158144249635, -32.81623379796998, 98.36966248757061, 89.41018173837254, 79.73327784933508, -68.06437276367448, 62.63832454694146, 19.93549685192923, 164.4025015002266, -11.528419633196968, 165.58117711926525], [1.6647654443882816, -46.955811439387304, 0.0, 0.0, 23.604789598088434, 19.86265748810033, -26.437372065670665, 18.959311578166183, 35.57424715035941, 114.6575390867836, -42.64699409694733, 114.37289788434173, 63.88913852111421, 63.12222492100225, -77.49159166342231, 69.31769876185619, 16.56520328089643, 169.8918637074088, -16.88904361045862, 169.36571750958007], [-2.762327600576448, -46.537837920487796, 0.0, 0.0, 27.00021364838605, 13.946184220536457, -23.071271173907935, 21.58138086427405, 45.65544651758268, 113.96126653293132, -35.8401033901362, 118.92237051582892, 58.74824783796274, 36.03231759182566, -53.90351355651726, 35.766924218255646, 20.79123436396825, 164.11208593810613, -12.059257075118554, 165.72180233960944], [1.3323584472499677, -43.678010399970745, 0.0, 0.0, 23.42477651753864, 17.292854438225426, -26.747128612177377, 18.256324529647827, 35.280961007023784, 110.46502047942744, -34.6221564112654, 121.98206960327094, 54.746355476298774, 40.1293143009146, -49.81161862035879, 28.533711346487202, 17.582935649127784, 167.64019802212715, -17.878662056968977, 167.1990936415063], [-0.3434653234000122, -44.549900672193296, 0.0, 0.0, 24.961201831547903, 14.364927047390049, -25.093891644718667, 20.242350131778394, 44.82028460261798, 103.57365759752564, -40.014051186918, 115.10094783063661, 62.77700096669823, 17.92145528025546, -62.23989929815735, 30.788157905562446, 19.237109868213388, 164.77216613494744, -13.480016920301646, 166.3364990787991], [-2.985406398308434, -46.43320902204418, 0.0, 0.0, 26.473431588381125, 14.401655618997506, -23.62253256940934, 27.764714427781158, 41.309300425224606, 100.1289433560836, -31.690126245017165, 121.100463971466, 62.18460553686986, 16.45221041874668, -51.68679179387715, 7.55748950226407, 16.622497876252815, 164.47506851514814, -15.86493968847434, 165.5496331142858], [-0.6310603237085495, -43.419219727395834, 0.0, 0.0, 25.315286395101587, 13.853762522104791, -24.685243224031357, 16.623580380569127, 43.43103979285324, 104.6503080554565, -37.94735915839131, 102.28605046633291, 65.1342380638309, 43.77926219525022, -71.02065949403348, 49.28133818629413, 16.323457140759263, 163.8694921690583, -15.206655199756, 164.17160017257234], [2.8062097275454696, -49.095369079737985, 0.0, 0.0, 22.94786439086851, 23.03960531660654, -27.10538509800948, 18.640357545278604, 28.634209247583843, 119.23823402923287, -36.63409933530165, 126.78983466139117, 55.751762255120674, 75.9056026495776, -52.57046519063454, 75.07270609290855, 14.196935197266427, 173.19513802389497, -18.627054536540207, 170.73825262125254], [-1.2688153935176896, -44.07844217618306, 0.0, 0.0, 26.442437142402195, 17.75452689329783, -23.757325307474485, 19.12959591547648, 36.76940475229744, 100.66103974978128, -33.40616960514774, 110.72475210825601, 58.781565672105486, 54.767520825068154, -53.27021416511622, 42.56051687399546, 15.634276845433684, 168.4165736834208, -17.25681838285816, 164.73985270659128], [11.09646400436759, -23.90841552354757, 0.0, 0.0, -32.37149212509394, -13.723483450204423, 17.878925427794456, 34.80145216566845, -70.79292554408312, -42.0948944334845, 16.52287319302559, 46.428961748058356, -101.65360290557146, -80.6256084187517, -5.773990415036678, -0.9069473130031697, -70.28472609817982, 136.99835993132544, -37.958589382469654, 155.6401172598589], [0.2520817397820793, -44.07727005377032, 0.0, 0.0, 21.581951566416805, 13.600576042115858, -28.431793354978467, 26.636778835534376, 61.012149007633475, 32.3188340866532, -34.466070508716086, 120.45814218500855, 56.10125910754155, -75.34985171667915, -32.3257896334234, 192.58413308909527, 18.403985434108307, 164.02168845488734, -15.346368003373197, 168.5962067194093]]\n"
     ]
    }
   ],
   "source": [
    "for k in range(len(LLEVideoArrayTest)):\n",
    "    temp = []\n",
    "    for i in range(len(LLEVideoArrayTest[k][0])):\n",
    "        temp.append(LLEVideoArrayTest[k][0][i])\n",
    "        temp.append(LLEVideoArrayTest[k][1][i])           \n",
    "    TestLLEFrames.append(temp)\n",
    "print(TestLLEFrames)"
   ]
  },
  {
   "cell_type": "code",
   "execution_count": 14,
   "id": "f0e8b1f2",
   "metadata": {},
   "outputs": [
    {
     "name": "stdout",
     "output_type": "stream",
     "text": [
      "Done. Reconstruction error: 1.10633e-05\n"
     ]
    }
   ],
   "source": [
    "from sklearn import manifold, datasets\n",
    "LLEReducedTest, err = manifold.locally_linear_embedding(TestLLEFrames, n_neighbors=20, n_components=2)\n",
    "print(\"Done. Reconstruction error: %g\" % err)"
   ]
  },
  {
   "cell_type": "code",
   "execution_count": 15,
   "id": "9378376b",
   "metadata": {},
   "outputs": [
    {
     "name": "stdout",
     "output_type": "stream",
     "text": [
      "33\n"
     ]
    }
   ],
   "source": [
    "print(len(LLEReduced))"
   ]
  },
  {
   "cell_type": "code",
   "execution_count": 16,
   "id": "335257b6",
   "metadata": {},
   "outputs": [
    {
     "data": {
      "text/plain": [
       "array([[-0.0466143 ,  0.38651814],\n",
       "       [-0.05758882,  0.43953689],\n",
       "       [-0.02118354,  0.43728638],\n",
       "       [-0.065296  ,  0.3562791 ],\n",
       "       [ 0.14786429,  0.02144473],\n",
       "       [-0.14683095, -0.19898169],\n",
       "       [ 0.20867862, -0.13235983],\n",
       "       [ 0.01422757, -0.07315589],\n",
       "       [-0.14627787, -0.15078361],\n",
       "       [ 0.27418343, -0.05797149],\n",
       "       [ 0.24639551, -0.07676665],\n",
       "       [-0.20853366, -0.06073439],\n",
       "       [-0.07913967, -0.28143431],\n",
       "       [ 0.31670965,  0.03974325],\n",
       "       [ 0.30949045,  0.02632844],\n",
       "       [ 0.30636824,  0.010272  ],\n",
       "       [ 0.29774577,  0.00145224],\n",
       "       [ 0.0258155 , -0.05128603],\n",
       "       [-0.03454024,  0.12421711],\n",
       "       [-0.06537179, -0.07545688],\n",
       "       [ 0.22822345, -0.03694363],\n",
       "       [-0.13490107, -0.03813375],\n",
       "       [-0.21552373, -0.12560815],\n",
       "       [ 0.01365551, -0.26667826],\n",
       "       [-0.0898231 , -0.11467801],\n",
       "       [-0.16281442,  0.06509365],\n",
       "       [-0.00553294, -0.07987792],\n",
       "       [-0.24825881, -0.05942465],\n",
       "       [-0.10952862, -0.08046842],\n",
       "       [-0.05784234, -0.0690455 ],\n",
       "       [-0.18281061,  0.06412294],\n",
       "       [-0.1726375 ,  0.05418327],\n",
       "       [-0.138308  ,  0.00331091]])"
      ]
     },
     "execution_count": 16,
     "metadata": {},
     "output_type": "execute_result"
    }
   ],
   "source": [
    "LLEReduced"
   ]
  },
  {
   "cell_type": "code",
   "execution_count": 17,
   "id": "5111d7b2",
   "metadata": {},
   "outputs": [
    {
     "name": "stdout",
     "output_type": "stream",
     "text": [
      "46\n"
     ]
    }
   ],
   "source": [
    "print(len(LLEReducedTest))"
   ]
  },
  {
   "cell_type": "code",
   "execution_count": 18,
   "id": "68f2cdb2",
   "metadata": {},
   "outputs": [
    {
     "data": {
      "text/plain": [
       "array([[-1.91417810e-01, -8.71444211e-02],\n",
       "       [-1.72262778e-01, -8.20845640e-02],\n",
       "       [-1.76364913e-01, -1.02423950e-01],\n",
       "       [-1.92273283e-01, -8.26894445e-02],\n",
       "       [-1.50076807e-01, -1.07731334e-01],\n",
       "       [-1.55959758e-01, -7.93163773e-02],\n",
       "       [-2.39251554e-01, -9.22385468e-02],\n",
       "       [-1.70562910e-01, -9.68524803e-02],\n",
       "       [-1.91617182e-01, -7.75946651e-02],\n",
       "       [-1.87671154e-01, -9.06648838e-02],\n",
       "       [-1.52199844e-01, -1.04787058e-01],\n",
       "       [-1.84967625e-01, -8.88636279e-02],\n",
       "       [-1.17816376e-01, -1.09771840e-01],\n",
       "       [-1.82620664e-01, -8.66163514e-02],\n",
       "       [-2.03557304e-01, -7.97949856e-02],\n",
       "       [-2.73586827e-02,  2.91935279e-01],\n",
       "       [-3.45027252e-02,  2.83208132e-01],\n",
       "       [-4.60921613e-02,  3.01348030e-01],\n",
       "       [-2.91344578e-02,  2.45861504e-01],\n",
       "       [-5.75038548e-02,  2.32449567e-01],\n",
       "       [ 4.33091884e-03,  2.67963940e-01],\n",
       "       [-4.24035028e-02,  2.65894365e-01],\n",
       "       [-2.76927157e-04,  2.55174788e-01],\n",
       "       [-2.70307399e-02,  2.72429808e-01],\n",
       "       [-5.65851302e-02,  3.06366777e-01],\n",
       "       [ 1.25691424e-01, -5.89824179e-02],\n",
       "       [ 1.16540981e-01, -7.03361825e-02],\n",
       "       [ 1.83089889e-01, -8.34693017e-02],\n",
       "       [ 1.58246541e-01, -4.59933062e-02],\n",
       "       [ 1.15401562e-01, -6.25773343e-02],\n",
       "       [ 1.78031848e-01, -3.90600205e-02],\n",
       "       [ 1.50686211e-01, -1.15271874e-01],\n",
       "       [ 1.63059628e-01, -3.41330539e-02],\n",
       "       [ 1.75675987e-01, -1.05792355e-01],\n",
       "       [ 9.94081112e-02, -7.09096993e-02],\n",
       "       [ 1.60511853e-01, -3.26628219e-02],\n",
       "       [ 1.54520196e-01, -3.66097397e-02],\n",
       "       [ 1.44790788e-01, -7.53202689e-02],\n",
       "       [ 1.19295041e-01, -7.93245586e-02],\n",
       "       [ 1.83089889e-01, -8.34693017e-02],\n",
       "       [ 1.57336973e-01, -1.00097536e-01],\n",
       "       [ 1.66843855e-01, -5.82023993e-02],\n",
       "       [ 9.62492525e-02, -3.65489460e-02],\n",
       "       [ 1.15367165e-01, -6.37765424e-02],\n",
       "       [-6.17632841e-02, -1.69437487e-01],\n",
       "       [ 2.83103313e-01,  6.79174860e-02]])"
      ]
     },
     "execution_count": 18,
     "metadata": {},
     "output_type": "execute_result"
    }
   ],
   "source": [
    "LLEReducedTest"
   ]
  },
  {
   "cell_type": "code",
   "execution_count": 19,
   "id": "fe2e99e1",
   "metadata": {
    "scrolled": false
   },
   "outputs": [
    {
     "data": {
      "application/vnd.jupyter.widget-view+json": {
       "model_id": "4b67750384db43a8b273be4892984a68",
       "version_major": 2,
       "version_minor": 0
      },
      "text/plain": [
       "Canvas(toolbar=Toolbar(toolitems=[('Home', 'Reset original view', 'home', 'home'), ('Back', 'Back to previous …"
      ]
     },
     "metadata": {},
     "output_type": "display_data"
    }
   ],
   "source": [
    "from sklearn.cluster import KMeans\n",
    "\n",
    "#predict the labels of clusters.\n",
    "label = kmeans.fit_predict(LLEReducedTest)\n",
    " \n",
    "#Getting unique labels\n",
    "u_labels = np.unique(label)\n",
    "centroids = kmeans.cluster_centers_\n",
    "\n",
    "#plotting the results:\n",
    "plt.figure(figsize=(15,10))\n",
    "# plt.gca().invert_yaxis()\n",
    "for i in u_labels:\n",
    "    plt.scatter(LLEReducedTest[:][label == i , 0] , LLEReducedTest[:][label == i , 1] , label = i)\n",
    "plt.scatter(LLEReducedTest[-1][0] , LLEReducedTest[-1][1] ,color = 'red')\n",
    "plt.scatter(LLEReducedTest[-2][0] , LLEReducedTest[-2][1] ,color = 'red')\n",
    "plt.scatter(centroids[:,0] , centroids[:,1] , s = 80, color = 'black')\n",
    "plt.legend(['Chin Scratch','Idle','Shrugging','Outliers'])\n",
    "plt.xlim([-0.5, 0.5])\n",
    "plt.ylim([0.5, -0.5])\n",
    "# plt.gca().invert_xaxis()\n",
    "plt.gca().invert_yaxis()\n",
    "plt.show()"
   ]
  },
  {
   "cell_type": "code",
   "execution_count": 20,
   "id": "0fc93e9a",
   "metadata": {},
   "outputs": [
    {
     "name": "stdout",
     "output_type": "stream",
     "text": [
      "[0 0 0 0 0 0 0 0 0 0 0 0 0 0 0 1 1 1 1 1 1 1 1 1 1 2 2 2 2 2 2 2 2 2 2 2 2\n",
      " 2 2 2 2 2 2 2 0 2]\n"
     ]
    }
   ],
   "source": [
    "print(label)"
   ]
  },
  {
   "cell_type": "code",
   "execution_count": 21,
   "id": "aad8f483",
   "metadata": {},
   "outputs": [
    {
     "name": "stdout",
     "output_type": "stream",
     "text": [
      "[0 1 2]\n"
     ]
    }
   ],
   "source": [
    "print(u_labels)"
   ]
  },
  {
   "cell_type": "code",
   "execution_count": 22,
   "id": "5029d4af",
   "metadata": {},
   "outputs": [
    {
     "name": "stdout",
     "output_type": "stream",
     "text": [
      "The test image belongs to the cluster: idle\n",
      "The test image belongs to the cluster: shrugging\n",
      "The test image belongs to the cluster: idle\n",
      "The test image belongs to the cluster: shrugging\n",
      "The test image belongs to the cluster: shrugging\n",
      "The test image belongs to the cluster: shrugging\n",
      "The test image belongs to the cluster: shrugging\n",
      "The test image belongs to the cluster: shrugging\n",
      "The test image belongs to the cluster: shrugging\n",
      "The test image belongs to the cluster: shrugging\n",
      "The test image belongs to the cluster: shrugging\n",
      "The test image belongs to the cluster: shrugging\n",
      "The test image belongs to the cluster: shrugging\n",
      "The test image belongs to the cluster: shrugging\n",
      "The test image belongs to the cluster: shrugging\n",
      "The test image belongs to the cluster: shrugging\n",
      "The test image belongs to the cluster: shrugging\n",
      "The test image belongs to the cluster: shrugging\n",
      "The test image belongs to the cluster: shrugging\n",
      "The test image belongs to the cluster: shrugging\n",
      "The test image belongs to the cluster: shrugging\n",
      "The test image belongs to the cluster: shrugging\n",
      "The test image belongs to the cluster: chin scrathc\n",
      "The test image belongs to the cluster: chin scrathc\n",
      "The test image belongs to the cluster: chin scrathc\n",
      "The test image belongs to the cluster: chin scrathc\n",
      "The test image belongs to the cluster: chin scrathc\n",
      "The test image belongs to the cluster: chin scrathc\n",
      "The test image belongs to the cluster: chin scrathc\n",
      "The test image belongs to the cluster: chin scrathc\n",
      "The test image belongs to the cluster: chin scrathc\n",
      "The test image belongs to the cluster: chin scrathc\n",
      "The test image belongs to the cluster: idle\n",
      "The test image belongs to the cluster: idle\n",
      "The test image belongs to the cluster: idle\n",
      "The test image belongs to the cluster: idle\n",
      "The test image belongs to the cluster: idle\n",
      "The test image belongs to the cluster: idle\n",
      "The test image belongs to the cluster: idle\n",
      "The test image belongs to the cluster: idle\n",
      "The test image belongs to the cluster: idle\n",
      "The test image belongs to the cluster: idle\n",
      "The test image belongs to the cluster: idle\n",
      "The test image belongs to the cluster: idle\n"
     ]
    }
   ],
   "source": [
    "dict = {0: 'idle',\n",
    "        1: 'chin scrathc',\n",
    "        2: 'shrugging'}\n",
    "dict_count = {}\n",
    "for i in range(0,44):\n",
    "    y_pred = kmeans.predict([LLEReducedTest[-i]])\n",
    "    print(\"The test image belongs to the cluster:\", dict[y_pred[0]])\n",
    "    if (dict[y_pred[0]]) in dict_count:\n",
    "        dict_count[dict[y_pred[0]]] += 1\n",
    "    else:\n",
    "        dict_count[dict[y_pred[0]]] = 1"
   ]
  },
  {
   "cell_type": "code",
   "execution_count": 23,
   "id": "447f5cf7",
   "metadata": {},
   "outputs": [
    {
     "name": "stdout",
     "output_type": "stream",
     "text": [
      "{'idle': 14, 'shrugging': 20, 'chin scrathc': 10}\n"
     ]
    }
   ],
   "source": [
    "print(dict_count)"
   ]
  }
 ],
 "metadata": {
  "kernelspec": {
   "display_name": "Python 3",
   "language": "python",
   "name": "python3"
  },
  "language_info": {
   "codemirror_mode": {
    "name": "ipython",
    "version": 3
   },
   "file_extension": ".py",
   "mimetype": "text/x-python",
   "name": "python",
   "nbconvert_exporter": "python",
   "pygments_lexer": "ipython3",
   "version": "3.8.8"
  }
 },
 "nbformat": 4,
 "nbformat_minor": 5
}
