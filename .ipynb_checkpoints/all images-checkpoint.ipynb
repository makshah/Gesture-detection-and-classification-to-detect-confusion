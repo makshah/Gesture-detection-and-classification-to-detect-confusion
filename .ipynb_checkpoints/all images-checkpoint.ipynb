{
 "cells": [
  {
   "cell_type": "code",
   "execution_count": 1,
   "metadata": {},
   "outputs": [],
   "source": [
    "import mediapipe as mp\n",
    "import cv2\n",
    "import matplotlib.pyplot as plt\n",
    "import glob\n",
    "import math\n",
    "import numpy as np\n",
    "import seaborn as sns\n",
    "sns.set()\n",
    "%matplotlib inline\n",
    "%matplotlib widget\n",
    "# %matplotlib notebook"
   ]
  },
  {
   "cell_type": "code",
   "execution_count": 2,
   "metadata": {},
   "outputs": [],
   "source": [
    "images = {name: cv2.imread(name) for name in glob.glob('D:\\SDSU\\Final Project\\Images\\confused\\imset/*jpg')}\n",
    "for name, image in images.items():\n",
    "#     print(type(image))\n",
    "#     plt.figure()\n",
    "#     plt.imshow(image)\n",
    "#     print(name)   \n",
    "#     cv2.imshow('image',image)\n",
    "#     cv2.waitKey(0)\n",
    "    continue"
   ]
  },
  {
   "cell_type": "code",
   "execution_count": 3,
   "metadata": {},
   "outputs": [],
   "source": [
    "mp_pose = mp.solutions.pose\n",
    "# Initialize MediaPipe Pose.\n",
    "pose = mp_pose.Pose(\n",
    "    static_image_mode=True, min_detection_confidence=0.5)"
   ]
  },
  {
   "cell_type": "code",
   "execution_count": 4,
   "metadata": {},
   "outputs": [],
   "source": [
    "mp_drawing = mp.solutions.drawing_utils \n",
    "drawing_spec = mp_drawing.DrawingSpec(thickness=1, circle_radius=1)"
   ]
  },
  {
   "cell_type": "code",
   "execution_count": 5,
   "metadata": {},
   "outputs": [],
   "source": [
    "image_vector = []"
   ]
  },
  {
   "cell_type": "code",
   "execution_count": 6,
   "metadata": {
    "scrolled": true
   },
   "outputs": [
    {
     "name": "stdout",
     "output_type": "stream",
     "text": [
      "<class 'numpy.ndarray'>\n",
      "For image D:\\SDSU\\Final Project\\Images\\confused\\imset\\chin (1).jpg\n",
      "Left Shoulder Location :  (336.9267538189888, 251.99264287948608)\n",
      "Right Shoulder Location :  (148.6750083565712, 256.88469409942627)\n",
      "Nose Location :  (206.36459010839462, 122.71937727928162, -2.696199953556061)\n",
      "Centroid =  (230.6554507613182, 210.53223808606467)\n",
      "Head =  (218.02187278866768, 122.60866165161133)\n"
     ]
    },
    {
     "data": {
      "application/vnd.jupyter.widget-view+json": {
       "model_id": "b76d33caa35e4b5da784d5252787ca70",
       "version_major": 2,
       "version_minor": 0
      },
      "text/plain": [
       "Canvas(toolbar=Toolbar(toolitems=[('Home', 'Reset original view', 'home', 'home'), ('Back', 'Back to previous …"
      ]
     },
     "metadata": {},
     "output_type": "display_data"
    },
    {
     "name": "stdout",
     "output_type": "stream",
     "text": [
      "<class 'numpy.ndarray'>\n",
      "For image D:\\SDSU\\Final Project\\Images\\confused\\imset\\chin (2).jpg\n",
      "Left Shoulder Location :  (141.14511716365814, 119.04725766181946)\n",
      "Right Shoulder Location :  (44.29062308371067, 118.23002481460571)\n",
      "Nose Location :  (91.24385967850685, 70.86991691589355, -2.787781834602356)\n",
      "Centroid =  (92.22653330862522, 102.7157331307729)\n",
      "Head =  (89.06181760132313, 63.56428873538971)\n"
     ]
    },
    {
     "data": {
      "application/vnd.jupyter.widget-view+json": {
       "model_id": "4f82d3e2401d48ce9da192df8e0ddc47",
       "version_major": 2,
       "version_minor": 0
      },
      "text/plain": [
       "Canvas(toolbar=Toolbar(toolitems=[('Home', 'Reset original view', 'home', 'home'), ('Back', 'Back to previous …"
      ]
     },
     "metadata": {},
     "output_type": "display_data"
    },
    {
     "name": "stdout",
     "output_type": "stream",
     "text": [
      "<class 'numpy.ndarray'>\n",
      "For image D:\\SDSU\\Final Project\\Images\\confused\\imset\\chin (3).jpg\n",
      "Left Shoulder Location :  (354.46178555488586, 166.09248685836792)\n",
      "Right Shoulder Location :  (208.76996278762817, 164.9250705242157)\n",
      "Nose Location :  (281.5624099969864, 89.56555008888245, -1.7954955697059631)\n",
      "Centroid =  (281.5980527798335, 140.19436915715536)\n",
      "Head =  (280.8789989352226, 81.22218012809753)\n"
     ]
    },
    {
     "data": {
      "application/vnd.jupyter.widget-view+json": {
       "model_id": "831cb06ed8a045cc99c934b340a95f70",
       "version_major": 2,
       "version_minor": 0
      },
      "text/plain": [
       "Canvas(toolbar=Toolbar(toolitems=[('Home', 'Reset original view', 'home', 'home'), ('Back', 'Back to previous …"
      ]
     },
     "metadata": {},
     "output_type": "display_data"
    },
    {
     "name": "stdout",
     "output_type": "stream",
     "text": [
      "<class 'numpy.ndarray'>\n",
      "For image D:\\SDSU\\Final Project\\Images\\confused\\imset\\chin (6).jpg\n",
      "Left Shoulder Location :  (371.6790075302124, 205.19482612609863)\n",
      "Right Shoulder Location :  (214.24008572101593, 213.88647365570068)\n",
      "Nose Location :  (295.5149520635605, 108.13662815093994, -1.255906730890274)\n",
      "Centroid =  (293.81134843826294, 175.7393093109131)\n",
      "Head =  (287.1156912446022, 105.62991786003113)\n"
     ]
    },
    {
     "data": {
      "application/vnd.jupyter.widget-view+json": {
       "model_id": "61e5f754e4cd4b8f9ad709c6b3622127",
       "version_major": 2,
       "version_minor": 0
      },
      "text/plain": [
       "Canvas(toolbar=Toolbar(toolitems=[('Home', 'Reset original view', 'home', 'home'), ('Back', 'Back to previous …"
      ]
     },
     "metadata": {},
     "output_type": "display_data"
    },
    {
     "name": "stdout",
     "output_type": "stream",
     "text": [
      "<class 'numpy.ndarray'>\n",
      "For image D:\\SDSU\\Final Project\\Images\\confused\\imset\\hands (1).jpg\n",
      "Left Shoulder Location :  (247.43646025657654, 134.1333270072937)\n",
      "Right Shoulder Location :  (141.17989093065262, 133.2175850868225)\n",
      "Nose Location :  (196.8329554796219, 69.73670959472656, -3.256544351577759)\n",
      "Centroid =  (195.14976888895035, 112.36254056294759)\n",
      "Head =  (198.19399774074554, 63.492140769958496)\n"
     ]
    },
    {
     "data": {
      "application/vnd.jupyter.widget-view+json": {
       "model_id": "d375bbd157184459a07694339e246e84",
       "version_major": 2,
       "version_minor": 0
      },
      "text/plain": [
       "Canvas(toolbar=Toolbar(toolitems=[('Home', 'Reset original view', 'home', 'home'), ('Back', 'Back to previous …"
      ]
     },
     "metadata": {},
     "output_type": "display_data"
    },
    {
     "name": "stdout",
     "output_type": "stream",
     "text": [
      "<class 'numpy.ndarray'>\n",
      "For image D:\\SDSU\\Final Project\\Images\\confused\\imset\\hands (2).jpg\n",
      "Left Shoulder Location :  (500.1005983352661, 249.91227114200592)\n",
      "Right Shoulder Location :  (290.5511403083801, 234.77959764003754)\n",
      "Nose Location :  (415.3576683998108, 163.82636046409607, -2.00067275762558)\n",
      "Centroid =  (402.00313568115234, 216.1727430820465)\n",
      "Head =  (412.2942182421684, 142.58469623327255)\n"
     ]
    },
    {
     "data": {
      "application/vnd.jupyter.widget-view+json": {
       "model_id": "6d467d98264a489eb4c93e61793e1769",
       "version_major": 2,
       "version_minor": 0
      },
      "text/plain": [
       "Canvas(toolbar=Toolbar(toolitems=[('Home', 'Reset original view', 'home', 'home'), ('Back', 'Back to previous …"
      ]
     },
     "metadata": {},
     "output_type": "display_data"
    },
    {
     "name": "stdout",
     "output_type": "stream",
     "text": [
      "<class 'numpy.ndarray'>\n",
      "For image D:\\SDSU\\Final Project\\Images\\confused\\imset\\hands (3).jpg\n",
      "Left Shoulder Location :  (234.32665407657623, 193.33945721387863)\n",
      "Right Shoulder Location :  (120.95218634605408, 197.35925424098969)\n",
      "Nose Location :  (156.54178166389465, 142.9266912341118, -2.1776304244995117)\n",
      "Centroid =  (170.60687402884164, 177.87513422966003)\n",
      "Head =  (165.5430293828249, 133.35448324680328)\n"
     ]
    },
    {
     "data": {
      "application/vnd.jupyter.widget-view+json": {
       "model_id": "530742dc2c0749dcacecf7a3f911946c",
       "version_major": 2,
       "version_minor": 0
      },
      "text/plain": [
       "Canvas(toolbar=Toolbar(toolitems=[('Home', 'Reset original view', 'home', 'home'), ('Back', 'Back to previous …"
      ]
     },
     "metadata": {},
     "output_type": "display_data"
    },
    {
     "name": "stdout",
     "output_type": "stream",
     "text": [
      "<class 'numpy.ndarray'>\n",
      "For image D:\\SDSU\\Final Project\\Images\\confused\\imset\\hands (4).jpg\n",
      "Left Shoulder Location :  (682.8578853607178, 273.5038448572159)\n",
      "Right Shoulder Location :  (462.84708908200264, 282.96879518032074)\n",
      "Nose Location :  (532.3042484521866, 166.9611415863037, -1.2143120169639587)\n",
      "Centroid =  (559.3364076316357, 241.14459387461343)\n",
      "Head =  (542.1214037239552, 150.476746737957)\n"
     ]
    },
    {
     "data": {
      "application/vnd.jupyter.widget-view+json": {
       "model_id": "38da030e105c4da18341b88ef4747761",
       "version_major": 2,
       "version_minor": 0
      },
      "text/plain": [
       "Canvas(toolbar=Toolbar(toolitems=[('Home', 'Reset original view', 'home', 'home'), ('Back', 'Back to previous …"
      ]
     },
     "metadata": {},
     "output_type": "display_data"
    },
    {
     "name": "stdout",
     "output_type": "stream",
     "text": [
      "<class 'numpy.ndarray'>\n",
      "For image D:\\SDSU\\Final Project\\Images\\confused\\imset\\hands (5).jpg\n",
      "Left Shoulder Location :  (362.11856603622437, 192.332124710083)\n",
      "Right Shoulder Location :  (210.32073497772217, 204.91836071014404)\n",
      "Nose Location :  (269.6421504020691, 125.1615047454834, -1.706957459449768)\n",
      "Centroid =  (280.6938171386719, 174.13733005523682)\n",
      "Head =  (272.88172245025635, 109.66181755065918)\n"
     ]
    },
    {
     "data": {
      "application/vnd.jupyter.widget-view+json": {
       "model_id": "7459b814a6c141458d5a1632213b8ab5",
       "version_major": 2,
       "version_minor": 0
      },
      "text/plain": [
       "Canvas(toolbar=Toolbar(toolitems=[('Home', 'Reset original view', 'home', 'home'), ('Back', 'Back to previous …"
      ]
     },
     "metadata": {},
     "output_type": "display_data"
    },
    {
     "name": "stdout",
     "output_type": "stream",
     "text": [
      "<class 'numpy.ndarray'>\n",
      "For image D:\\SDSU\\Final Project\\Images\\confused\\imset\\hands (6).jpg\n",
      "Left Shoulder Location :  (383.2252929210663, 142.86301946640015)\n",
      "Right Shoulder Location :  (263.8368179798126, 143.77380323410034)\n",
      "Nose Location :  (342.3907506465912, 79.67203330993652, -1.3771348893642426)\n",
      "Centroid =  (329.81762051582336, 122.102952003479)\n",
      "Head =  (334.47114872932434, 72.2928900718689)\n"
     ]
    },
    {
     "data": {
      "application/vnd.jupyter.widget-view+json": {
       "model_id": "0540e86450e5493889c0993951cc19ae",
       "version_major": 2,
       "version_minor": 0
      },
      "text/plain": [
       "Canvas(toolbar=Toolbar(toolitems=[('Home', 'Reset original view', 'home', 'home'), ('Back', 'Back to previous …"
      ]
     },
     "metadata": {},
     "output_type": "display_data"
    },
    {
     "name": "stdout",
     "output_type": "stream",
     "text": [
      "<class 'numpy.ndarray'>\n",
      "For image D:\\SDSU\\Final Project\\Images\\confused\\imset\\hands (7).jpg\n",
      "Left Shoulder Location :  (409.3417110443115, 237.25583577156067)\n",
      "Right Shoulder Location :  (222.4389270544052, 240.41132020950317)\n",
      "Nose Location :  (310.7597644329071, 123.64636635780334, -1.978078007698059)\n",
      "Centroid =  (314.18013417720795, 200.4378407796224)\n",
      "Head =  (312.05574721097946, 113.22832250595093)\n"
     ]
    },
    {
     "data": {
      "application/vnd.jupyter.widget-view+json": {
       "model_id": "80a6bc9cbddb4e68baac5d3f8ccb80f8",
       "version_major": 2,
       "version_minor": 0
      },
      "text/plain": [
       "Canvas(toolbar=Toolbar(toolitems=[('Home', 'Reset original view', 'home', 'home'), ('Back', 'Back to previous …"
      ]
     },
     "metadata": {},
     "output_type": "display_data"
    },
    {
     "name": "stdout",
     "output_type": "stream",
     "text": [
      "<class 'numpy.ndarray'>\n",
      "For image D:\\SDSU\\Final Project\\Images\\confused\\imset\\head (1).jpg\n",
      "Left Shoulder Location :  (693.1762901544571, 476.6390143632889)\n",
      "Right Shoulder Location :  (364.7789813876152, 490.6147366166115)\n",
      "Nose Location :  (589.0521211624146, 276.5539091825485, -1.4733041524887085)\n",
      "Centroid =  (549.002464234829, 414.60255338748294)\n",
      "Head =  (566.7675844877958, 272.1237340569496)\n"
     ]
    },
    {
     "data": {
      "application/vnd.jupyter.widget-view+json": {
       "model_id": "27d2f88dc7e046f28ccb5fbae5e4d7d4",
       "version_major": 2,
       "version_minor": 0
      },
      "text/plain": [
       "Canvas(toolbar=Toolbar(toolitems=[('Home', 'Reset original view', 'home', 'home'), ('Back', 'Back to previous …"
      ]
     },
     "metadata": {},
     "output_type": "display_data"
    },
    {
     "name": "stdout",
     "output_type": "stream",
     "text": [
      "<class 'numpy.ndarray'>\n",
      "For image D:\\SDSU\\Final Project\\Images\\confused\\imset\\head (15).jpg\n",
      "Left Shoulder Location :  (369.5357766151428, 153.82387685775757)\n",
      "Right Shoulder Location :  (255.70259749889374, 149.42453372478485)\n",
      "Nose Location :  (305.592321395874, 99.93520599603653, -1.2842505276203156)\n",
      "Centroid =  (310.2768985033035, 134.3945388595263)\n",
      "Head =  (305.29508006572723, 91.23083674907684)\n"
     ]
    },
    {
     "data": {
      "application/vnd.jupyter.widget-view+json": {
       "model_id": "cd5c746e0cd54e70a7690d1ef2d40e01",
       "version_major": 2,
       "version_minor": 0
      },
      "text/plain": [
       "Canvas(toolbar=Toolbar(toolitems=[('Home', 'Reset original view', 'home', 'home'), ('Back', 'Back to previous …"
      ]
     },
     "metadata": {},
     "output_type": "display_data"
    },
    {
     "name": "stdout",
     "output_type": "stream",
     "text": [
      "<class 'numpy.ndarray'>\n",
      "For image D:\\SDSU\\Final Project\\Images\\confused\\imset\\head (17).jpg\n",
      "Left Shoulder Location :  (419.1669623851776, 169.46579307317734)\n",
      "Right Shoulder Location :  (270.58678793907166, 176.49240404367447)\n",
      "Nose Location :  (356.1618318557739, 118.25453966856003, -1.9342229962348938)\n",
      "Centroid =  (348.63852739334106, 154.7375789284706)\n",
      "Head =  (362.9134250879288, 101.75301879644394)\n"
     ]
    },
    {
     "data": {
      "application/vnd.jupyter.widget-view+json": {
       "model_id": "2c6f9aec47624ef7a7edda163d1011e0",
       "version_major": 2,
       "version_minor": 0
      },
      "text/plain": [
       "Canvas(toolbar=Toolbar(toolitems=[('Home', 'Reset original view', 'home', 'home'), ('Back', 'Back to previous …"
      ]
     },
     "metadata": {},
     "output_type": "display_data"
    },
    {
     "name": "stdout",
     "output_type": "stream",
     "text": [
      "<class 'numpy.ndarray'>\n",
      "For image D:\\SDSU\\Final Project\\Images\\confused\\imset\\head (4).jpg\n",
      "Left Shoulder Location :  (164.93195056915283, 110.56173026561737)\n",
      "Right Shoulder Location :  (72.16318130493164, 101.62029147148132)\n",
      "Nose Location :  (116.94538593292236, 62.69314885139465, -1.8907143473625183)\n",
      "Centroid =  (118.01350593566895, 91.62505686283112)\n",
      "Head =  (118.13381910324097, 58.094637393951416)\n"
     ]
    },
    {
     "data": {
      "application/vnd.jupyter.widget-view+json": {
       "model_id": "c819f9fbe23846b39d158d10945a8b2f",
       "version_major": 2,
       "version_minor": 0
      },
      "text/plain": [
       "Canvas(toolbar=Toolbar(toolitems=[('Home', 'Reset original view', 'home', 'home'), ('Back', 'Back to previous …"
      ]
     },
     "metadata": {},
     "output_type": "display_data"
    },
    {
     "name": "stdout",
     "output_type": "stream",
     "text": [
      "<class 'numpy.ndarray'>\n",
      "For image D:\\SDSU\\Final Project\\Images\\confused\\imset\\head (5).jpg\n",
      "Left Shoulder Location :  (357.8971703052521, 237.25269573926926)\n",
      "Right Shoulder Location :  (180.36343812942505, 227.82665848731995)\n",
      "Nose Location :  (246.75498217344284, 142.31367856264114, -2.236845910549164)\n",
      "Centroid =  (261.67186353604, 202.46434426307678)\n",
      "Head =  (250.5390487909317, 129.77909633517265)\n"
     ]
    },
    {
     "data": {
      "application/vnd.jupyter.widget-view+json": {
       "model_id": "1829fc38867a4cf6addb5a4c9b1263b1",
       "version_major": 2,
       "version_minor": 0
      },
      "text/plain": [
       "Canvas(toolbar=Toolbar(toolitems=[('Home', 'Reset original view', 'home', 'home'), ('Back', 'Back to previous …"
      ]
     },
     "metadata": {},
     "output_type": "display_data"
    },
    {
     "name": "stdout",
     "output_type": "stream",
     "text": [
      "<class 'numpy.ndarray'>\n",
      "For image D:\\SDSU\\Final Project\\Images\\confused\\imset\\head (7).jpg\n",
      "Left Shoulder Location :  (492.5795338153839, 214.8030285835266)\n",
      "Right Shoulder Location :  (319.50526571273804, 217.11254572868347)\n",
      "Nose Location :  (412.12210392951965, 151.9160280227661, -1.540274441242218)\n",
      "Centroid =  (408.06896781921387, 194.61053411165872)\n",
      "Head =  (423.79923605918884, 136.92236852645874)\n"
     ]
    },
    {
     "data": {
      "application/vnd.jupyter.widget-view+json": {
       "model_id": "03f288887e0c4a5ca73bba78563b8322",
       "version_major": 2,
       "version_minor": 0
      },
      "text/plain": [
       "Canvas(toolbar=Toolbar(toolitems=[('Home', 'Reset original view', 'home', 'home'), ('Back', 'Back to previous …"
      ]
     },
     "metadata": {},
     "output_type": "display_data"
    },
    {
     "name": "stdout",
     "output_type": "stream",
     "text": [
      "<class 'numpy.ndarray'>\n",
      "For image D:\\SDSU\\Final Project\\Images\\confused\\imset\\head (8).jpg\n",
      "Left Shoulder Location :  (393.12335443496704, 167.67589473724365)\n",
      "Right Shoulder Location :  (263.01372742652893, 189.40230202674866)\n",
      "Nose Location :  (339.5537073612213, 118.30702257156372, -1.5543372631072998)\n",
      "Centroid =  (331.89692974090576, 158.46173977851868)\n",
      "Head =  (336.7968245744705, 108.19902992248535)\n"
     ]
    },
    {
     "data": {
      "application/vnd.jupyter.widget-view+json": {
       "model_id": "ae035db1010b4b929e1b1d25a38aedba",
       "version_major": 2,
       "version_minor": 0
      },
      "text/plain": [
       "Canvas(toolbar=Toolbar(toolitems=[('Home', 'Reset original view', 'home', 'home'), ('Back', 'Back to previous …"
      ]
     },
     "metadata": {},
     "output_type": "display_data"
    }
   ],
   "source": [
    "for name, image in images.items():\n",
    "    print(type(image))\n",
    "# Convert the BGR image to RGB and process it with MediaPipe Pose.\n",
    "#     gray = cv2.cvtColor(np.float32(imgUMat), cv2.COLOR_RGB2GRAY)\n",
    "    results = pose.process(cv2.cvtColor(image, cv2.COLOR_BGR2RGB))\n",
    "# Print nose landmark.\n",
    "    image_hight, image_width, image_depth = image.shape\n",
    "#     if not results.pose_landmarks:\n",
    "#         continue\n",
    "    print(\"For image\", name)\n",
    "    left_shoulder = (results.pose_landmarks.landmark[mp_pose.PoseLandmark.LEFT_SHOULDER].x * image_width, \n",
    "                 results.pose_landmarks.landmark[mp_pose.PoseLandmark.LEFT_SHOULDER].y * image_hight)\n",
    "    print(\"Left Shoulder Location : \", left_shoulder)\n",
    "    right_shoulder = (results.pose_landmarks.landmark[mp_pose.PoseLandmark.RIGHT_SHOULDER].x * image_width,\n",
    "                  results.pose_landmarks.landmark[mp_pose.PoseLandmark.RIGHT_SHOULDER].y * image_hight)\n",
    "    print(\"Right Shoulder Location : \", right_shoulder)\n",
    "    nose_cood = (results.pose_landmarks.landmark[mp_pose.PoseLandmark.NOSE].x * image_width,\n",
    "                 results.pose_landmarks.landmark[mp_pose.PoseLandmark.NOSE].y * image_hight,\n",
    "                 results.pose_landmarks.landmark[mp_pose.PoseLandmark.NOSE].z * image_depth)\n",
    "    \n",
    "    print(\"Nose Location : \", nose_cood)\n",
    "\n",
    "# Creating a centroid (point between nose and shoulders as the new origin (0,0))\n",
    "    \n",
    "    centroid = ((left_shoulder[0] + right_shoulder[0] + nose_cood[0]) / 3 , (left_shoulder[1] + right_shoulder[1] + nose_cood[1]) / 3)\n",
    "    print(\"Centroid = \", centroid)\n",
    "    \n",
    "    centroid_point = (int(centroid[0]), int(centroid[1]))\n",
    "    cv2.circle(image, centroid_point, 3, (255,0,0), -1)\n",
    "    \n",
    "# Calculating the point for head/face and replacing the values in the landmakrs \n",
    "    \n",
    "    left_ear = (results.pose_landmarks.landmark[mp_pose.PoseLandmark.LEFT_EAR].x * image_width, \n",
    "               results.pose_landmarks.landmark[mp_pose.PoseLandmark.LEFT_EAR].y * image_hight)\n",
    "    right_ear = (results.pose_landmarks.landmark[mp_pose.PoseLandmark.RIGHT_EAR].x * image_width, \n",
    "                 results.pose_landmarks.landmark[mp_pose.PoseLandmark.RIGHT_EAR].y * image_hight)\n",
    "# Now we have to replace the values from loc 0(nose) to loc 10 (right mouth) and put a general point for head which is mid\n",
    "# point of 2 ears\n",
    "    \n",
    "    head = ((left_ear[0] + right_ear[0]) / 2, (left_ear[1] + right_ear[1]) / 2)\n",
    "    print(\"Head = \", head)\n",
    "    head_point = (int(head[0]), int(head[1]))\n",
    "    cv2.circle(image, head_point, 3, (0,0,255), -1)\n",
    "    \n",
    "# Updating removing the 10 points and putting 1 head point \n",
    "    xArray = []\n",
    "    yArray = []\n",
    "    \n",
    "    for i in mp_pose.PoseLandmark:\n",
    "    \n",
    "        xArray.append((results.pose_landmarks.landmark[i].x) * image_width)\n",
    "        yArray.append((results.pose_landmarks.landmark[i].y) * image_hight)\n",
    "    xArray = xArray[11:25]\n",
    "    yArray = yArray[11:25]\n",
    "    xArray.insert(0, head[0])\n",
    "    yArray.insert(0, head[1])\n",
    "    xArray.insert(1, centroid[0])\n",
    "    yArray.insert(1, centroid[1])\n",
    "\n",
    "# Removing the unnecessary points\n",
    "    for i in range(6):\n",
    "        del xArray[6]\n",
    "    for i in range(6):\n",
    "        del yArray[6]\n",
    "    \n",
    "# Redifining points wrt to new centroid   \n",
    "    newXArray = list(map(lambda x: x - centroid[0], xArray))\n",
    "    newYArray = list(map(lambda y: y - centroid[1], yArray))\n",
    "    \n",
    "\n",
    "    \n",
    "    \n",
    "    current_vector = []\n",
    "    for i in range(len(xArray)):\n",
    "        current_vector.append((newXArray[i], newYArray[i]))\n",
    "    image_vector.append(current_vector)\n",
    "    \n",
    "    \n",
    "    \n",
    "    \n",
    "    \n",
    "    \n",
    "# Drawing a rectangle around the min and max point of the image. \n",
    "    rectBottomLeft = (math.floor(min(xArray)), math.floor(min(yArray)))\n",
    "    rectTopRight = (math.ceil(max(xArray)), math.ceil(max(yArray)))\n",
    "   \n",
    "    \n",
    "\n",
    "    cv2.circle(image, rectBottomLeft, 3, (0,0,255), -1)\n",
    "    cv2.circle(image, rectTopRight, 3, (0,0,255), -1)\n",
    "    cv2.rectangle(image, rectBottomLeft, rectTopRight, (255,0,0), 1)\n",
    "    \n",
    "# Draw pose landmarks.\n",
    "#     print(f'Pose landmarks of {name}:')\n",
    "    annotated_image = image.copy()\n",
    "    mp_drawing.draw_landmarks(\n",
    "      image=annotated_image,\n",
    "      landmark_list=results.pose_landmarks,\n",
    "      connections=mp_pose.POSE_CONNECTIONS,\n",
    "      landmark_drawing_spec=drawing_spec,\n",
    "      connection_drawing_spec=drawing_spec)\n",
    "#     cv2.imshow('annotated_iamge', annotated_image)\n",
    "    plt.figure()\n",
    "    plt.imshow(annotated_image)\n",
    "#     cv2.waitKey(0)"
   ]
  },
  {
   "cell_type": "code",
   "execution_count": 7,
   "metadata": {},
   "outputs": [
    {
     "data": {
      "text/plain": [
       "[[(-12.633577972650528, -87.92357643445334),\n",
       "  (0.0, 0.0),\n",
       "  (106.2713030576706, 41.46040479342142),\n",
       "  (-81.98044240474701, 46.3524560133616),\n",
       "  (150.17287409305573, 225.91347495714822),\n",
       "  (-89.7159241437912, 217.37969915072122),\n",
       "  (-22.38801661133766, 171.4517573515574),\n",
       "  (-22.208356738090515, 16.845444838205964),\n",
       "  (87.69400697946548, 295.42709390322364),\n",
       "  (-42.168152809143066, 298.2708315054575)],\n",
       " [(-3.1647157073020935, -39.151444395383194),\n",
       "  (0.0, 0.0),\n",
       "  (48.91858385503292, 16.331524531046554),\n",
       "  (-47.93591022491455, 15.514291683832809),\n",
       "  (58.077105805277824, 100.58829085032146),\n",
       "  (-47.89807391166687, 91.42489830652873),\n",
       "  (-23.32620070874691, 81.2744567791621),\n",
       "  (-14.099310413002968, -4.3313271601994785),\n",
       "  (28.14244119822979, 135.39117829004925),\n",
       "  (-32.70829837024212, 133.05735961596173)],\n",
       " [(-0.719053844610869, -58.97218902905783),\n",
       "  (0.0, 0.0),\n",
       "  (72.86373277505237, 25.898117701212556),\n",
       "  (-72.82808999220532, 24.730701367060334),\n",
       "  (101.76270802815753, 153.61812822024027),\n",
       "  (-70.07787595192593, 140.67981163660684),\n",
       "  (-3.18644086519879, 152.53609124819437),\n",
       "  (4.359055956204713, 3.183760563532502),\n",
       "  (48.40679486592609, 217.36486879984537),\n",
       "  (-46.22845868269604, 217.51611439387003)],\n",
       " [(-6.695657193660736, -70.10939145088196),\n",
       "  (0.0, 0.0),\n",
       "  (77.86765909194946, 29.455516815185547),\n",
       "  (-79.57126271724701, 38.1471643447876),\n",
       "  (99.80858159065247, 159.76269674301147),\n",
       "  (-99.16101121902466, 178.28250169754028),\n",
       "  (11.119407176971436, -4.028310775756836),\n",
       "  (50.963242292404175, 128.04068565368652),\n",
       "  (58.859352350234985, 246.3572654724121),\n",
       "  (-55.187971115112305, 247.50150871276855)],\n",
       " [(3.0442288517951965, -48.87039979298909),\n",
       "  (0.0, 0.0),\n",
       "  (52.28669136762619, 21.770786444346115),\n",
       "  (-53.96987795829773, 20.855044523874923),\n",
       "  (73.96268993616104, 116.90211931864421),\n",
       "  (-80.4550513625145, 124.51724688212077),\n",
       "  (117.23211795091629, 48.6425797144572),\n",
       "  (-95.2887499332428, 22.271281878153488),\n",
       "  (34.0804323554039, 165.1844660441081),\n",
       "  (-33.841178715229034, 162.69243637720746)],\n",
       " [(10.291082561016083, -73.58804684877396),\n",
       "  (0.0, 0.0),\n",
       "  (98.09746265411377, 33.73952805995941),\n",
       "  (-111.45199537277222, 18.606854557991028),\n",
       "  (129.8915183544159, 176.87769317626953),\n",
       "  (-159.46407079696655, 169.59814739227295),\n",
       "  (134.5689332485199, 180.71685028076172),\n",
       "  (-98.7671834230423, 180.51878345012665),\n",
       "  (48.24667930603027, 286.62607979774475),\n",
       "  (-82.44256556034088, 281.53351044654846)],\n",
       " [(-5.063844646016747, -44.52065098285675),\n",
       "  (0.0, 0.0),\n",
       "  (63.71978004773459, 15.464322984218597),\n",
       "  (-49.65468768278757, 19.48412001132965),\n",
       "  (92.97753139336905, 115.93896782398224),\n",
       "  (-73.72410295406976, 111.8771984577179),\n",
       "  (129.7371571858724, 67.41972064971924),\n",
       "  (-127.10309780637422, 52.13700520992279),\n",
       "  (45.00692679484686, 169.00181782245636),\n",
       "  (-30.324274430672318, 168.80031788349152)],\n",
       " [(-17.21500390768051, -90.66784713665643),\n",
       "  (0.0, 0.0),\n",
       "  (123.52147772908211, 32.35925098260245),\n",
       "  (-96.48931854963303, 41.824201305707305),\n",
       "  (197.59421196579933, 223.63284905751547),\n",
       "  (-165.50123444199562, 220.58033164342245),\n",
       "  (313.97586926817894, 118.91758306821188),\n",
       "  (-308.92088425159454, 108.04377230008444),\n",
       "  (74.22926864027977, 385.1416381200155),\n",
       "  (-77.78198882937431, 375.37095638116205)],\n",
       " [(-7.812094688415527, -64.47551250457764),\n",
       "  (0.0, 0.0),\n",
       "  (81.42474889755249, 18.19479465484619),\n",
       "  (-70.3730821609497, 30.781030654907227),\n",
       "  (117.97764301300049, 157.74693489074707),\n",
       "  (-84.6346914768219, 177.94756889343262),\n",
       "  (147.57217168807983, 27.974867820739746),\n",
       "  (-138.78327906131744, 36.232590675354004),\n",
       "  (58.081233501434326, 236.33558750152588),\n",
       "  (-43.702125549316406, 235.80834865570068)],\n",
       " [(4.653528213500977, -49.81006193161011),\n",
       "  (0.0, 0.0),\n",
       "  (53.40767240524292, 20.760067462921143),\n",
       "  (-65.98080253601074, 21.670851230621338),\n",
       "  (86.4839916229248, 105.41959762573242),\n",
       "  (-103.40194845199585, 123.42873430252075),\n",
       "  (161.8189194202423, 80.27338600158691),\n",
       "  (-171.4132525920868, 74.0470826625824),\n",
       "  (43.530622243881226, 192.07187461853027),\n",
       "  (-34.373016357421875, 196.49527502059937)],\n",
       " [(-2.124386966228485, -87.20951827367148),\n",
       "  (0.0, 0.0),\n",
       "  (95.16157686710358, 36.817994991938264),\n",
       "  (-91.74120712280273, 39.97347942988077),\n",
       "  (119.1816383600235, 227.51160351435342),\n",
       "  (-131.59345042705536, 222.65310112635294),\n",
       "  (175.06030905246735, 44.36452786127725),\n",
       "  (-202.1161036491394, 20.640331665674836),\n",
       "  (62.64337170124054, 304.18012396494544),\n",
       "  (-68.32031571865082, 298.40447441736853)],\n",
       " [(17.76512025296688, -142.47881933053333),\n",
       "  (0.0, 0.0),\n",
       "  (144.17382591962814, 62.03646097580594),\n",
       "  (-184.22348284721375, 76.01218322912854),\n",
       "  (381.594209253788, 55.48280439774197),\n",
       "  (-246.4484235048294, 365.5505997935931),\n",
       "  (138.76096522808075, -182.91424800952274),\n",
       "  (-199.08535891771317, 618.3395323554676),\n",
       "  (91.34869337081909, 543.4778764049213),\n",
       "  (-133.72749441862106, 536.1922566692035)],\n",
       " [(-4.981818437576294, -43.163702110449464),\n",
       "  (0.0, 0.0),\n",
       "  (59.258878111839294, 19.42933799823126),\n",
       "  (-54.57430100440979, 15.029994865258544),\n",
       "  (83.44593608379364, 96.78438736995062),\n",
       "  (-134.92671060562134, 5.594827552636474),\n",
       "  (123.61730754375458, 127.57127978404364),\n",
       "  (-40.28488504886627, -86.92864714066187),\n",
       "  (40.87839496135712, 191.50008298953375),\n",
       "  (-33.31382167339325, 195.05867817004523)],\n",
       " [(14.274897694587708, -52.98456013202667),\n",
       "  (0.0, 0.0),\n",
       "  (70.52843499183655, 14.728214144706726),\n",
       "  (-78.05173945426941, 21.754825115203857),\n",
       "  (182.37314128875732, -18.003055453300476),\n",
       "  (-96.44229054450989, 148.23802143335342),\n",
       "  (57.756086111068726, -94.83076989650726),\n",
       "  (-92.44075870513916, 260.6916007399559),\n",
       "  (47.91912531852722, 243.1344935297966),\n",
       "  (-46.46117091178894, 241.46178513765335)],\n",
       " [(0.12031316757202148, -33.5304194688797),\n",
       "  (0.0, 0.0),\n",
       "  (46.91844463348389, 18.936673402786255),\n",
       "  (-45.850324630737305, 9.995234608650208),\n",
       "  (103.44846725463867, 65.71277320384979),\n",
       "  (-93.17691564559937, 6.572292447090149),\n",
       "  (63.97554874420166, 112.71833419799805),\n",
       "  (-15.946240425109863, -54.15463984012604),\n",
       "  (33.760457038879395, 131.08252704143524),\n",
       "  (-25.91066837310791, 132.30213105678558)],\n",
       " [(-11.132814745108305, -72.68524792790413),\n",
       "  (0.0, 0.0),\n",
       "  (96.22530676921207, 34.788351476192474),\n",
       "  (-81.30842540661496, 25.362314224243164),\n",
       "  (147.14561130603153, 180.618634223938),\n",
       "  (-209.58283797899884, 20.228684544563293),\n",
       "  (126.46776582797366, 319.32968497276306),\n",
       "  (-45.22928271691006, -82.02994674444199),\n",
       "  (67.79418339331943, 287.5788880586624),\n",
       "  (-46.960639039675414, 292.8664207458496)],\n",
       " [(15.730268239974976, -57.68816558519998),\n",
       "  (0.0, 0.0),\n",
       "  (84.51056599617004, 20.19249447186789),\n",
       "  (-88.56370210647583, 22.50201161702475),\n",
       "  (189.77616548538208, 10.215046723683685),\n",
       "  (-127.27965438365936, 160.41815288861594),\n",
       "  (89.38906645774841, -114.62304011980692),\n",
       "  (-135.31635081768036, 294.5423961480459),\n",
       "  (33.389689922332764, 267.71065958340967),\n",
       "  (-71.76373958587646, 260.55141409238183)],\n",
       " [(4.899894833564758, -50.262709856033325),\n",
       "  (0.0, 0.0),\n",
       "  (61.22642469406128, 9.214154958724976),\n",
       "  (-68.88320231437683, 30.94056224822998),\n",
       "  (138.41713643074036, -46.433074712753296),\n",
       "  (-81.15572905540466, 144.55241084098816),\n",
       "  (21.880295991897583, -94.92029690742493),\n",
       "  (-52.08978760242462, 255.25115942955017),\n",
       "  (54.768352031707764, 227.67660450935364),\n",
       "  (-29.134337782859802, 229.31459021568298)]]"
      ]
     },
     "execution_count": 7,
     "metadata": {},
     "output_type": "execute_result"
    }
   ],
   "source": [
    "image_vector"
   ]
  },
  {
   "cell_type": "markdown",
   "metadata": {},
   "source": [
    "### Rewritng points wrt Centroid"
   ]
  },
  {
   "cell_type": "code",
   "execution_count": 8,
   "metadata": {},
   "outputs": [],
   "source": [
    "plt.plot(xArray, yArray, 'o', color='black', linewidth=1, linestyle='solid')\n",
    "plt.axis([0, 600, 400, 0])\n",
    "# plt.tick_params(axis='x', which='major', labelsize=__)\n",
    "plt.show()"
   ]
  },
  {
   "cell_type": "code",
   "execution_count": 9,
   "metadata": {},
   "outputs": [],
   "source": [
    "newXArray = list(map(lambda x: x - centroid[0], xArray))\n",
    "newYArray = list(map(lambda y: y - centroid[1], yArray))"
   ]
  },
  {
   "cell_type": "code",
   "execution_count": 10,
   "metadata": {},
   "outputs": [
    {
     "data": {
      "application/vnd.jupyter.widget-view+json": {
       "model_id": "f3915d2caca74866b9457d904c11aa58",
       "version_major": 2,
       "version_minor": 0
      },
      "text/plain": [
       "Canvas(toolbar=Toolbar(toolitems=[('Home', 'Reset original view', 'home', 'home'), ('Back', 'Back to previous …"
      ]
     },
     "metadata": {},
     "output_type": "display_data"
    },
    {
     "data": {
      "text/plain": [
       "<matplotlib.image.AxesImage at 0x1add2c8fe80>"
      ]
     },
     "execution_count": 10,
     "metadata": {},
     "output_type": "execute_result"
    }
   ],
   "source": [
    "plt.figure()\n",
    "plt.plot(newXArray, newYArray, 'o', color='black' , linewidth=1, linestyle='solid')\n",
    "plt.yscale(\"linear\")\n",
    "plt.ylim(max(newYArray) + 20, min(newYArray) - 20)\n",
    "plt.xlim(300, -300)\n",
    "plt.show()\n",
    "plt.imshow(annotated_image)"
   ]
  },
  {
   "cell_type": "code",
   "execution_count": 11,
   "metadata": {},
   "outputs": [
    {
     "data": {
      "text/plain": [
       "[4.899894833564758,\n",
       " 0.0,\n",
       " 61.22642469406128,\n",
       " -68.88320231437683,\n",
       " 138.41713643074036,\n",
       " -81.15572905540466,\n",
       " 21.880295991897583,\n",
       " -52.08978760242462,\n",
       " 54.768352031707764,\n",
       " -29.134337782859802]"
      ]
     },
     "execution_count": 11,
     "metadata": {},
     "output_type": "execute_result"
    }
   ],
   "source": [
    "newXArray"
   ]
  },
  {
   "cell_type": "code",
   "execution_count": 12,
   "metadata": {},
   "outputs": [
    {
     "data": {
      "text/plain": [
       "[-50.262709856033325,\n",
       " 0.0,\n",
       " 9.214154958724976,\n",
       " 30.94056224822998,\n",
       " -46.433074712753296,\n",
       " 144.55241084098816,\n",
       " -94.92029690742493,\n",
       " 255.25115942955017,\n",
       " 227.67660450935364,\n",
       " 229.31459021568298]"
      ]
     },
     "execution_count": 12,
     "metadata": {},
     "output_type": "execute_result"
    }
   ],
   "source": [
    "newYArray"
   ]
  },
  {
   "cell_type": "code",
   "execution_count": 13,
   "metadata": {},
   "outputs": [
    {
     "data": {
      "text/plain": [
       "<matplotlib.image.AxesImage at 0x1ade1d88fd0>"
      ]
     },
     "execution_count": 13,
     "metadata": {},
     "output_type": "execute_result"
    }
   ],
   "source": [
    "head_plotX = [newXArray[0], newXArray[1]]\n",
    "head_plotY = [newYArray[0], newYArray[1]]\n",
    "hands_plotX = [newXArray[6], newXArray[4], newXArray[2],newXArray[3],newXArray[5],newXArray[7]]\n",
    "hands_plotY = [newYArray[6], newYArray[4], newYArray[2],newYArray[3],newYArray[5],newYArray[7]]\n",
    "body_plotX = [newXArray[2], newXArray[8], newXArray[9], newXArray[3]]\n",
    "body_plotY = [newYArray[2], newYArray[8], newYArray[9], newYArray[3]]\n",
    "plt.plot(head_plotX, head_plotY, 'o', color='black' , linewidth=1, linestyle='solid')\n",
    "plt.plot(hands_plotX, hands_plotY, 'o', color='black', linewidth=1, linestyle='solid')\n",
    "plt.plot(body_plotX, body_plotY, 'o', color='black', linewidth=1, linestyle='solid')\n",
    "plt.yscale(\"linear\")\n",
    "plt.ylim(max(newYArray) + 20, min(newYArray) - 20)\n",
    "plt.xlim(-300, 300)\n",
    "plt.show()\n",
    "plt.imshow(annotated_image)\n"
   ]
  },
  {
   "cell_type": "code",
   "execution_count": 14,
   "metadata": {},
   "outputs": [
    {
     "name": "stdout",
     "output_type": "stream",
     "text": [
      "10\n",
      "[-87.92357643445334, 0.0, 41.46040479342142, 46.3524560133616, 225.91347495714822, 217.37969915072122, 171.4517573515574, 16.845444838205964, 295.42709390322364, 298.2708315054575]\n"
     ]
    }
   ],
   "source": [
    "newListX = []\n",
    "newListY = []\n",
    "\n",
    "\n",
    "for z in image_vector:\n",
    "    xList = []\n",
    "    yList = []\n",
    "    for x, y in z:\n",
    "        xList.append(x)\n",
    "        yList.append(y)\n",
    "    newListX.append(xList)\n",
    "    newListY.append(yList)\n",
    "print(len(newListX[0]))\n",
    "print(newListY[0])"
   ]
  },
  {
   "cell_type": "code",
   "execution_count": 15,
   "metadata": {
    "scrolled": true
   },
   "outputs": [
    {
     "data": {
      "application/vnd.jupyter.widget-view+json": {
       "model_id": "af0dd8ea71b141f7a43a428346b176b6",
       "version_major": 2,
       "version_minor": 0
      },
      "text/plain": [
       "Canvas(toolbar=Toolbar(toolitems=[('Home', 'Reset original view', 'home', 'home'), ('Back', 'Back to previous …"
      ]
     },
     "metadata": {},
     "output_type": "display_data"
    }
   ],
   "source": [
    "plt.figure(figsize=(10,10))\n",
    "for i in range(len(image_vector)):\n",
    "    plt.plot(newListX[i], newListY[i], label = i, linewidth=1, linestyle='solid')\n",
    "plt.ylim(400, -200)\n",
    "plt.xlim(-500,500)\n",
    "plt.legend(loc='best')\n",
    "plt.show()"
   ]
  },
  {
   "cell_type": "markdown",
   "metadata": {},
   "source": [
    "### Normalizing the graph"
   ]
  },
  {
   "cell_type": "code",
   "execution_count": 16,
   "metadata": {
    "scrolled": true
   },
   "outputs": [
    {
     "data": {
      "text/plain": [
       "[(-12.633577972650528, -87.92357643445334),\n",
       " (0.0, 0.0),\n",
       " (106.2713030576706, 41.46040479342142),\n",
       " (-81.98044240474701, 46.3524560133616),\n",
       " (150.17287409305573, 225.91347495714822),\n",
       " (-89.7159241437912, 217.37969915072122),\n",
       " (-22.38801661133766, 171.4517573515574),\n",
       " (-22.208356738090515, 16.845444838205964),\n",
       " (87.69400697946548, 295.42709390322364),\n",
       " (-42.168152809143066, 298.2708315054575)]"
      ]
     },
     "execution_count": 16,
     "metadata": {},
     "output_type": "execute_result"
    }
   ],
   "source": [
    "image_vector[0]"
   ]
  },
  {
   "cell_type": "code",
   "execution_count": 17,
   "metadata": {
    "scrolled": true
   },
   "outputs": [
    {
     "name": "stdout",
     "output_type": "stream",
     "text": [
      "253 188\n",
      "(0.5928853754940712, 0.26595744680851063)\n",
      "119 96\n",
      "(1.2605042016806722, 0.5208333333333334)\n",
      "191 145\n",
      "(0.7853403141361257, 0.3448275862068966)\n",
      "216 157\n",
      "(0.6944444444444444, 0.3184713375796178)\n",
      "143 106\n",
      "(1.048951048951049, 0.4716981132075472)\n",
      "252 209\n",
      "(0.5952380952380952, 0.23923444976076555)\n",
      "153 113\n",
      "(0.9803921568627451, 0.4424778761061947)\n",
      "352 220\n",
      "(0.42613636363636365, 0.22727272727272727)\n",
      "218 151\n",
      "(0.6880733944954128, 0.33112582781456956)\n",
      "171 119\n",
      "(0.8771929824561403, 0.42016806722689076)\n",
      "267 186\n",
      "(0.5617977528089888, 0.26881720430107525)\n",
      "481 328\n",
      "(0.31185031185031187, 0.1524390243902439)\n",
      "172 113\n",
      "(0.872093023255814, 0.4424778761061947)\n",
      "228 148\n",
      "(0.6578947368421053, 0.33783783783783783)\n",
      "112 92\n",
      "(1.3392857142857142, 0.5434782608695652)\n",
      "252 177\n",
      "(0.5952380952380952, 0.2824858757062147)\n",
      "247 173\n",
      "(0.6072874493927125, 0.28901734104046245)\n",
      "218 130\n",
      "(0.6880733944954128, 0.38461538461538464)\n"
     ]
    }
   ],
   "source": [
    "final = []\n",
    "for i in image_vector:\n",
    "    height = int(abs(i[-2][1] - i[2][1]))\n",
    "    width = int(abs(i[3][0] - i[2][0]))\n",
    "    print(height, width)\n",
    "    \n",
    "    y = 150 / height\n",
    "    x = 50 / width\n",
    "\n",
    "    ratio = (y, x)\n",
    "    print(ratio)\n",
    "    temp = list()\n",
    "    for j in i:\n",
    "        temp.append((j[0] * x, j[1] * y))\n",
    "    final.append(temp)\n",
    "    \n",
    "# print(final)"
   ]
  },
  {
   "cell_type": "code",
   "execution_count": 18,
   "metadata": {},
   "outputs": [
    {
     "name": "stdout",
     "output_type": "stream",
     "text": [
      "[-1.6482894308865073, 0.0, 25.478429091162983, -24.966619908809662, 30.248492606915537, -24.946913495659828, -12.149062869139016, -7.343390840105713, 14.65752145741135, -17.035572067834437]\n",
      "[-3.1647157073020935, 0.0, 48.91858385503292, -47.93591022491455, 58.077105805277824, -47.89807391166687, -23.32620070874691, -14.099310413002968, 28.14244119822979, -32.70829837024212]\n"
     ]
    }
   ],
   "source": [
    "normalizedXarray = list()\n",
    "normalizedYarray = list()\n",
    "for z in final:\n",
    "    xList = []\n",
    "    yList = []\n",
    "    for x, y in z:\n",
    "        xList.append(x)\n",
    "        yList.append(y)\n",
    "    normalizedXarray.append(xList)\n",
    "    normalizedYarray.append(yList)\n",
    "print(normalizedXarray[1])\n",
    "print(newListX[1])"
   ]
  },
  {
   "cell_type": "code",
   "execution_count": 19,
   "metadata": {
    "scrolled": true
   },
   "outputs": [
    {
     "name": "stdout",
     "output_type": "stream",
     "text": [
      "150.57313583585113\n",
      "150.07519381386896\n",
      "150.36655845442368\n",
      "150.6262143452962\n",
      "150.43392965009997\n",
      "150.52770936772936\n",
      "150.5269557237625\n",
      "150.33340360969308\n",
      "150.09687581193555\n",
      "150.27351504877993\n",
      "150.20344324326248\n",
      "150.13765553922516\n",
      "150.06169621334521\n",
      "150.2672890691381\n",
      "150.19533969461918\n",
      "150.47055748956544\n",
      "150.31467516895248\n",
      "150.31819923208394\n"
     ]
    }
   ],
   "source": [
    "for i in final:\n",
    "    print(i[-2][1]-i[2][1])\n",
    "#     height = int(abs(image_vector[i][-2][1] - image_vector[i][2][1]))\n",
    "#     width = int(abs(image_vector[i][3][0] - image_vector[i][2][0]))\n",
    "#     print(height,width)"
   ]
  },
  {
   "cell_type": "code",
   "execution_count": 20,
   "metadata": {},
   "outputs": [
    {
     "data": {
      "text/plain": [
       "[[-3.359994141662374,\n",
       "  0.0,\n",
       "  28.26364443023154,\n",
       "  -21.80330915019867,\n",
       "  39.93959417368503,\n",
       "  -23.860618123348722,\n",
       "  -5.954259737057889,\n",
       "  -5.906477855875137,\n",
       "  23.32287419666635,\n",
       "  -11.214934257750816],\n",
       " [-1.6482894308865073,\n",
       "  0.0,\n",
       "  25.478429091162983,\n",
       "  -24.966619908809662,\n",
       "  30.248492606915537,\n",
       "  -24.946913495659828,\n",
       "  -12.149062869139016,\n",
       "  -7.343390840105713,\n",
       "  14.65752145741135,\n",
       "  -17.035572067834437],\n",
       " [-0.24794960158995483,\n",
       "  0.0,\n",
       "  25.125425094845646,\n",
       "  -25.1131344800708,\n",
       "  35.09058897522674,\n",
       "  -24.164784811008943,\n",
       "  -1.098772712137514,\n",
       "  1.5031227435188668,\n",
       "  16.691998229629686,\n",
       "  -15.940847821619327],\n",
       " [-2.1323749024397247,\n",
       "  0.0,\n",
       "  24.798617545206834,\n",
       "  -25.34116647046083,\n",
       "  31.78617248109951,\n",
       "  -31.57993987867027,\n",
       "  3.541212476742495,\n",
       "  16.230331940256107,\n",
       "  18.745016672049356,\n",
       "  -17.575786979335128],\n",
       " [1.435957005563772,\n",
       "  0.0,\n",
       "  24.66353366397462,\n",
       "  -25.45748960297063,\n",
       "  34.888061290642,\n",
       "  -37.950495925714385,\n",
       "  55.29816884477184,\n",
       "  -44.94752355341642,\n",
       "  16.075675639341462,\n",
       "  -15.962820148692941],\n",
       " [2.4619814739272927,\n",
       "  0.0,\n",
       "  23.468292500984155,\n",
       "  -26.663156787744548,\n",
       "  31.074525922109064,\n",
       "  -38.14929923372406,\n",
       "  32.19352470060284,\n",
       "  -23.62851278063213,\n",
       "  11.542267776562266,\n",
       "  -19.72310180869399],\n",
       " [-2.2406392239012156,\n",
       "  0.0,\n",
       "  28.194592941475484,\n",
       "  -21.97110074459627,\n",
       "  41.14050061653498,\n",
       "  -32.621284492951226,\n",
       "  57.405821763660356,\n",
       "  -56.2403087638824,\n",
       "  19.914569378250825,\n",
       "  -13.417820544545274],\n",
       " [-3.912500888109207,\n",
       "  0.0,\n",
       "  28.073063120245934,\n",
       "  -21.92939057946205,\n",
       "  44.907775446772575,\n",
       "  -37.61391691863537,\n",
       "  71.3581521064043,\n",
       "  -70.2092918753624,\n",
       "  16.87028832733631,\n",
       "  -17.677724733948708],\n",
       " [-2.5867863206673936,\n",
       "  0.0,\n",
       "  26.961837383295528,\n",
       "  -23.30234508640719,\n",
       "  39.06544470629156,\n",
       "  -28.024732277093346,\n",
       "  48.86495751260922,\n",
       "  -45.95472816599916,\n",
       "  19.23219652365375,\n",
       "  -14.470902499773645],\n",
       " [1.9552639552525113,\n",
       "  0.0,\n",
       "  22.440198489597865,\n",
       "  -27.723026275634766,\n",
       "  36.337811606270925,\n",
       "  -43.44619682856968,\n",
       "  67.99114261354718,\n",
       "  -72.02237503869193,\n",
       "  18.290177413395472,\n",
       "  -14.44244384765625],\n",
       " [-0.5710717651151841,\n",
       "  0.0,\n",
       "  25.58106905029666,\n",
       "  -24.661614817957723,\n",
       "  32.03807482796331,\n",
       "  -35.37458344813316,\n",
       "  47.05922286356649,\n",
       "  -54.33228592718801,\n",
       "  16.839616048720575,\n",
       "  -18.36567626845452],\n",
       " [2.708097599537634,\n",
       "  0.0,\n",
       "  21.977717365796973,\n",
       "  -28.082847995002094,\n",
       "  58.16984897161402,\n",
       "  -37.56835724158985,\n",
       "  21.152586162817187,\n",
       "  -30.34837788379774,\n",
       "  13.925105696771203,\n",
       "  -20.38528878332638],\n",
       " [-2.20434444140544,\n",
       "  0.0,\n",
       "  26.22074252736252,\n",
       "  -24.147920798411413,\n",
       "  36.922980568050285,\n",
       "  -59.702084338770504,\n",
       "  54.69792369192681,\n",
       "  -17.825170375604547,\n",
       "  18.087785381131468,\n",
       "  -14.740629059023563],\n",
       " [4.822600572495847,\n",
       "  0.0,\n",
       "  23.827173983728564,\n",
       "  -26.368830896712637,\n",
       "  61.612547732688284,\n",
       "  -32.581854913685774,\n",
       "  19.512191253739434,\n",
       "  -31.2299860490335,\n",
       "  16.18889368869163,\n",
       "  -15.69634152425302],\n",
       " [0.06538759107175081,\n",
       "  0.0,\n",
       "  25.499154692110807,\n",
       "  -24.918654690618098,\n",
       "  56.22199307317319,\n",
       "  -50.63962806826052,\n",
       "  34.76931996967481,\n",
       "  -8.666435013646664,\n",
       "  18.348074477651846,\n",
       "  -14.081884985384733],\n",
       " [-3.144862922346979,\n",
       "  0.0,\n",
       "  27.18229004780002,\n",
       "  -22.96848175328106,\n",
       "  41.5665568661106,\n",
       "  -59.2041915194912,\n",
       "  35.725357578523635,\n",
       "  -12.776633535850301,\n",
       "  19.150899263649556,\n",
       "  -13.265717242846163],\n",
       " [4.546320300570803,\n",
       "  0.0,\n",
       "  24.425019074037586,\n",
       "  -25.596445695513246,\n",
       "  54.84860274143991,\n",
       "  -36.78602727851427,\n",
       "  25.834990305707635,\n",
       "  -39.108771912624384,\n",
       "  9.65019939951814,\n",
       "  -20.740965198230192],\n",
       " [1.8845749359864457,\n",
       "  0.0,\n",
       "  23.548624882331264,\n",
       "  -26.4935393516834,\n",
       "  53.23736016566937,\n",
       "  -31.21374194438641,\n",
       "  8.415498458422148,\n",
       "  -20.034533693240242,\n",
       "  21.064750781426063,\n",
       "  -11.205514531869156]]"
      ]
     },
     "execution_count": 20,
     "metadata": {},
     "output_type": "execute_result"
    }
   ],
   "source": [
    "normalizedXarray"
   ]
  },
  {
   "cell_type": "code",
   "execution_count": 21,
   "metadata": {},
   "outputs": [
    {
     "name": "stderr",
     "output_type": "stream",
     "text": [
      "<ipython-input-21-f0c081970db8>:1: RuntimeWarning: More than 20 figures have been opened. Figures created through the pyplot interface (`matplotlib.pyplot.figure`) are retained until explicitly closed and may consume too much memory. (To control this warning, see the rcParam `figure.max_open_warning`).\n",
      "  plt.figure(figsize=(10,10))\n"
     ]
    },
    {
     "data": {
      "application/vnd.jupyter.widget-view+json": {
       "model_id": "d330b388bb984657a4ac33dfe49dd6b4",
       "version_major": 2,
       "version_minor": 0
      },
      "text/plain": [
       "Canvas(toolbar=Toolbar(toolitems=[('Home', 'Reset original view', 'home', 'home'), ('Back', 'Back to previous …"
      ]
     },
     "metadata": {},
     "output_type": "display_data"
    }
   ],
   "source": [
    "plt.figure(figsize=(10,10))\n",
    "newXArray = normalizedXarray\n",
    "newYArray = normalizedYarray\n",
    "for i in range(len(image_vector)):\n",
    "    head_plotX = [newXArray[i][0], newXArray[i][1]]\n",
    "    head_plotY = [newYArray[i][0], newYArray[i][1]]\n",
    "    hands_plotX = [newXArray[i][6], newXArray[i][4], newXArray[i][2],newXArray[i][3],newXArray[i][5],newXArray[i][7]]\n",
    "    hands_plotY = [newYArray[i][6], newYArray[i][4], newYArray[i][2],newYArray[i][3],newYArray[i][5],newYArray[i][7]]\n",
    "    body_plotX = [newXArray[i][2], newXArray[i][8], newXArray[i][9], newXArray[i][3]]\n",
    "    body_plotY = [newYArray[i][2], newYArray[i][8], newYArray[i][9], newYArray[i][3]]\n",
    "    plt.plot(head_plotX, head_plotY, 'o', linewidth=1, linestyle='solid', label=i)\n",
    "    plt.plot(hands_plotX, hands_plotY, 'o',linewidth=1, linestyle='solid')\n",
    "    plt.plot(body_plotX, body_plotY, 'o',  linewidth=1, linestyle='solid')\n",
    "plt.gca().invert_yaxis()\n",
    "plt.legend(loc='best')\n",
    "plt.show()"
   ]
  },
  {
   "cell_type": "markdown",
   "metadata": {},
   "source": [
    "# PCA"
   ]
  },
  {
   "cell_type": "markdown",
   "metadata": {},
   "source": [
    "https://cs.nyu.edu/~roweis/lle/\n"
   ]
  },
  {
   "cell_type": "markdown",
   "metadata": {},
   "source": [
    "Percentage confidence"
   ]
  },
  {
   "cell_type": "markdown",
   "metadata": {},
   "source": [
    "% LLE ALGORITHM (using K nearest neighbors)\n",
    "%\n",
    "% [Y] = lle(X,K,dmax)\n",
    "%\n",
    "% X = data as D x N matrix (D = dimensionality, N = #points)\n",
    "% K = number of neighbors\n",
    "% dmax = max embedding dimensionality\n",
    "% Y = embedding as dmax x N matrix\n",
    "\n",
    "%%%%%%%%%%%%%%%%%%%%%%%%%%%%%%%%%%%%%%%%%%%%%%%%%%%%%%%%%%%%\n",
    "\n",
    "function [Y] = lle(X,K,d)\n",
    "\n",
    "[D,N] = size(X);\n",
    "fprintf(1,'LLE running on %d points in %d dimensions\\n',N,D);\n",
    "\n",
    "\n",
    "% STEP1: COMPUTE PAIRWISE DISTANCES & FIND NEIGHBORS \n",
    "fprintf(1,'-->Finding %d nearest neighbours.\\n',K);\n",
    "\n",
    "X2 = sum(X.^2,1);\n",
    "distance = repmat(X2,N,1)+repmat(X2',1,N)-2*X'*X;\n",
    "\n",
    "[sorted,index] = sort(distance);\n",
    "neighborhood = index(2:(1+K),:);\n",
    "\n",
    "\n",
    "\n",
    "% STEP2: SOLVE FOR RECONSTRUCTION WEIGHTS\n",
    "fprintf(1,'-->Solving for reconstruction weights.\\n');\n",
    "\n",
    "if(K>D) \n",
    "  fprintf(1,'   [note: K>D; regularization will be used]\\n'); \n",
    "  tol=1e-3; % regularlizer in case constrained fits are ill conditioned\n",
    "else\n",
    "  tol=0;\n",
    "end\n",
    "\n",
    "W = zeros(K,N);\n",
    "for ii=1:N\n",
    "   z = X(:,neighborhood(:,ii))-repmat(X(:,ii),1,K); % shift ith pt to origin\n",
    "   C = z'*z;                                        % local covariance\n",
    "   C = C + eye(K,K)*tol*trace(C);                   % regularlization (K>D)\n",
    "   W(:,ii) = C\\ones(K,1);                           % solve Cw=1\n",
    "   W(:,ii) = W(:,ii)/sum(W(:,ii));                  % enforce sum(w)=1\n",
    "end;\n",
    "\n",
    "\n",
    "% STEP 3: COMPUTE EMBEDDING FROM EIGENVECTS OF COST MATRIX M=(I-W)'(I-W)\n",
    "fprintf(1,'-->Computing embedding.\\n');\n",
    "\n",
    "% M=eye(N,N); % use a sparse matrix with storage for 4KN nonzero elements\n",
    "M = sparse(1:N,1:N,ones(1,N),N,N,4*K*N); \n",
    "for ii=1:N\n",
    "   w = W(:,ii);\n",
    "   jj = neighborhood(:,ii);\n",
    "   M(ii,jj) = M(ii,jj) - w';\n",
    "   M(jj,ii) = M(jj,ii) - w;\n",
    "   M(jj,jj) = M(jj,jj) + w*w';\n",
    "end;\n",
    "\n",
    "% CALCULATION OF EMBEDDING\n",
    "options.disp = 0; options.isreal = 1; options.issym = 1; \n",
    "[Y,eigenvals] = eigs(M,d+1,0,options);\n",
    "Y = Y(:,2:d+1)'*sqrt(N); % bottom evect is [1,1,1,1...] with eval 0\n",
    "\n",
    "\n",
    "fprintf(1,'Done.\\n');\n",
    "\n",
    "%%%%%%%%%%%%%%%%%%%%%%%%%%%%%%%%%%%%%%%%%%%%%%%%%%%%%%%%%%%%\n",
    "\n",
    "\n",
    "% other possible regularizers for K>D\n",
    "%   C = C + tol*diag(diag(C));                       % regularlization\n",
    "%   C = C + eye(K,K)*tol*trace(C)*K;                 % regularlization\n"
   ]
  },
  {
   "cell_type": "code",
   "execution_count": 22,
   "metadata": {},
   "outputs": [
    {
     "data": {
      "text/plain": [
       "[[-3.359994141662374, -52.12860262912253],\n",
       " [0.0, 0.0],\n",
       " [28.26364443023154, 24.581267664083846],\n",
       " [-21.80330915019867, 27.48169328855431],\n",
       " [39.93959417368503, 133.94079542913926],\n",
       " [-23.860618123348722, 128.88124455576357],\n",
       " [-5.954259737057889, 101.65123953649649],\n",
       " [-5.906477855875137, 9.987417888264405],\n",
       " [23.32287419666635, 175.15440349993497],\n",
       " [-11.214934257750816, 176.840413936042],\n",
       " [-1.6482894308865073, -49.350560162247724],\n",
       " [0.0, 0.0],\n",
       " [25.478429091162983, 20.58595529123515],\n",
       " [-24.966619908809662, 19.555829853570767],\n",
       " [30.248492606915537, 126.79196325670772],\n",
       " [-24.946913495659828, 115.24146845360764],\n",
       " [-12.149062869139016, 102.44679425944801],\n",
       " [-7.343390840105713, -5.459656084285057],\n",
       " [14.65752145741135, 170.6611491051041],\n",
       " [-17.035572067834437, 167.71936086045596],\n",
       " [-0.24794960158995483, -46.313237457375266],\n",
       " [0.0, 0.0],\n",
       " [25.125425094845646, 20.338835891004628],\n",
       " [-25.1131344800708, 19.422016780413877],\n",
       " [35.09058897522674, 120.64250907348713],\n",
       " [-24.164784811008943, 110.4815274633038],\n",
       " [-1.098772712137514, 119.7927418179537],\n",
       " [1.5031227435188668, 2.500335521098824],\n",
       " [16.691998229629686, 170.70539434542832],\n",
       " [-15.940847821619327, 170.82417360775133],\n",
       " [-2.1323749024397247, -48.6870773964458],\n",
       " [0.0, 0.0],\n",
       " [24.798617545206834, 20.455220010545517],\n",
       " [-25.34116647046083, 26.491086350546944],\n",
       " [31.78617248109951, 110.94631718264685],\n",
       " [-31.57993987867027, 123.80729284551408],\n",
       " [3.541212476742495, -2.797438038720025],\n",
       " [16.230331940256107, 88.91714281506009],\n",
       " [18.745016672049356, 171.08143435584174],\n",
       " [-17.575786979335128, 171.87604771720038],\n",
       " [1.435957005563772, -51.26265712551303],\n",
       " [0.0, 0.0],\n",
       " [24.66353366397462, 22.836489277286134],\n",
       " [-25.45748960297063, 21.87592082923943],\n",
       " [34.888061290642, 122.62460068389252],\n",
       " [-37.950495925714385, 130.6124967294973],\n",
       " [55.29816884477184, 51.023685015164894],\n",
       " [-44.94752355341642, 23.361484487573588],\n",
       " [16.075675639341462, 173.27041892738612],\n",
       " [-15.962820148692941, 170.65640179427356],\n",
       " [2.4619814739272927, -43.80240883855593],\n",
       " [0.0, 0.0],\n",
       " [23.468292500984155, 20.083052416642506],\n",
       " [-26.663156787744548, 11.07550866547085],\n",
       " [31.074525922109064, 105.2843411763509],\n",
       " [-38.14929923372406, 100.95127820968628],\n",
       " [32.19352470060284, 107.56955373854863],\n",
       " [-23.62851278063213, 107.45165681555157],\n",
       " [11.542267776562266, 170.61076178437187],\n",
       " [-19.72310180869399, 167.57947050389788],\n",
       " [-2.2406392239012156, -43.64769704201642],\n",
       " [0.0, 0.0],\n",
       " [28.194592941475484, 15.161100964920193],\n",
       " [-21.97110074459627, 19.10207844248005],\n",
       " [41.14050061653498, 113.66565472939435],\n",
       " [-32.621284492951226, 109.68352789972342],\n",
       " [57.405821763660356, 66.09776534286199],\n",
       " [-56.2403087638824, 51.11471099012038],\n",
       " [19.914569378250825, 165.6880566886827],\n",
       " [-13.417820544545274, 165.49050772891326],\n",
       " [-3.912500888109207, -38.63686667755246],\n",
       " [0.0, 0.0],\n",
       " [28.073063120245934, 13.789453543722633],\n",
       " [-21.92939057946205, 17.822813056409363],\n",
       " [44.907775446772575, 95.29808908700943],\n",
       " [-37.61391691863537, 93.99730041623116],\n",
       " [71.3581521064043, 50.67510642111302],\n",
       " [-70.2092918753624, 46.04138024151326],\n",
       " [16.87028832733631, 164.1228571534157],\n",
       " [-17.677724733948708, 159.95921436697247],\n",
       " [-2.5867863206673936, -44.36388475085617],\n",
       " [0.0, 0.0],\n",
       " [26.961837383295528, 12.519354120307012],\n",
       " [-23.30234508640719, 21.179608248789375],\n",
       " [39.06544470629156, 108.54146896152321],\n",
       " [-28.024732277093346, 122.4409877707105],\n",
       " [48.86495751260922, 19.24876226197689],\n",
       " [-45.95472816599916, 24.93068165735367],\n",
       " [19.23219652365375, 162.61622993224256],\n",
       " [-14.470902499773645, 162.2534509098858],\n",
       " [1.9552639552525113, -43.69303678211413],\n",
       " [0.0, 0.0],\n",
       " [22.440198489597865, 18.210585493790475],\n",
       " [-27.723026275634766, 19.00951862335205],\n",
       " [36.337811606270925, 92.47333125064247],\n",
       " [-43.44619682856968, 108.2708195636147],\n",
       " [67.99114261354718, 70.41525087858501],\n",
       " [-72.02237503869193, 64.95358128296701],\n",
       " [18.290177413395472, 168.48410054257042],\n",
       " [-14.44244384765625, 172.3642763338591],\n",
       " [-0.5710717651151841, -48.99411138970308],\n",
       " [0.0, 0.0],\n",
       " [25.58106905029666, 20.68426684940352],\n",
       " [-24.661614817957723, 22.457010915663354],\n",
       " [32.03807482796331, 127.81550759233339],\n",
       " [-35.37458344813316, 125.08601186873761],\n",
       " [47.05922286356649, 24.923892056897333],\n",
       " [-54.33228592718801, 11.595691947008335],\n",
       " [16.839616048720575, 170.887710092666],\n",
       " [-18.36567626845452, 167.64296315582504],\n",
       " [2.708097599537634, -44.43206424029106],\n",
       " [0.0, 0.0],\n",
       " [21.977717365796973, 19.346089701394785],\n",
       " [-28.082847995002094, 23.70442304442678],\n",
       " [58.16984897161402, 17.302329853765688],\n",
       " [-37.56835724158985, 113.99706854270056],\n",
       " [21.152586162817187, -57.041865283634955],\n",
       " [-30.34837788379774, 192.82937599442857],\n",
       " [13.925105696771203, 169.48374524061995],\n",
       " [-20.38528878332638, 167.21172245401357],\n",
       " [-2.20434444140544, -37.64276346841523],\n",
       " [0.0, 0.0],\n",
       " [26.22074252736252, 16.944190114736564],\n",
       " [-24.147920798411413, 13.107553661562683],\n",
       " [36.922980568050285, 84.40498898542205],\n",
       " [-59.702084338770504, 4.879210074973669],\n",
       " [54.69792369192681, 111.25402306747992],\n",
       " [-17.825170375604547, -75.80986669243768],\n",
       " [18.087785381131468, 167.00588632808177],\n",
       " [-14.740629059023563, 170.1093123575976],\n",
       " [4.822600572495847, -34.85826324475439],\n",
       " [0.0, 0.0],\n",
       " [23.827173983728564, 9.689614568886004],\n",
       " [-26.368830896712637, 14.312384944213065],\n",
       " [61.612547732688284, -11.844115429802946],\n",
       " [-32.581854913685774, 97.52501410089042],\n",
       " [19.512191253739434, -62.38866440559689],\n",
       " [-31.2299860490335, 171.50763206576048],\n",
       " [16.18889368869163, 159.9569036380241],\n",
       " [-15.69634152425302, 158.85643759056143],\n",
       " [0.06538759107175081, -44.90681178867817],\n",
       " [0.0, 0.0],\n",
       " [25.499154692110807, 25.361616164445874],\n",
       " [-24.918654690618098, 13.386474922299383],\n",
       " [56.22199307317319, 88.00817839801311],\n",
       " [-50.63962806826052, 8.802177384495735],\n",
       " [34.76931996967481, 150.96205472946167],\n",
       " [-8.666435013646664, -72.5285355001688],\n",
       " [18.348074477651846, 175.55695585906506],\n",
       " [-14.081884985384733, 177.19035409390926],\n",
       " [-3.144862922346979, -43.265028528514364],\n",
       " [0.0, 0.0],\n",
       " [27.18229004780002, 20.707352069162187],\n",
       " [-22.96848175328106, 15.09661560966855],\n",
       " [41.5665568661106, 107.51109179996308],\n",
       " [-59.2041915194912, 12.040883657478151],\n",
       " [35.725357578523635, 190.0771934361685],\n",
       " [-12.776633535850301, -48.82734925264404],\n",
       " [19.150899263649556, 171.17790955872763],\n",
       " [-13.265717242846163, 174.3252504439581],\n",
       " [4.546320300570803, -35.033298938380554],\n",
       " [0.0, 0.0],\n",
       " [24.425019074037586, 12.262648464697097],\n",
       " [-25.596445695513246, 13.665189241108147],\n",
       " [54.84860274143991, 6.2034696702532495],\n",
       " [-36.78602727851427, 97.41993090401776],\n",
       " [25.834990305707635, -69.60913367599609],\n",
       " [-39.108771912624384, 178.8719004947647],\n",
       " [9.65019939951814, 162.57732363364957],\n",
       " [-20.740965198230192, 158.229603699827],\n",
       " [1.8845749359864457, -34.58443338717889],\n",
       " [0.0, 0.0],\n",
       " [23.548624882331264, 6.340014879856635],\n",
       " [-26.4935393516834, 21.289377693736224],\n",
       " [53.23736016566937, -31.949363334463275],\n",
       " [-31.21374194438641, 99.46266800985424],\n",
       " [8.415498458422148, -65.31213089960431],\n",
       " [-20.034533693240242, 175.6315317175804],\n",
       " [21.064750781426063, 156.65821411194057],\n",
       " [-11.205514531869156, 157.78526849702956]]"
      ]
     },
     "execution_count": 22,
     "metadata": {},
     "output_type": "execute_result"
    }
   ],
   "source": [
    "LLE_array = []\n",
    "for i in final:\n",
    "    temp = []\n",
    "    for j in i:\n",
    "        LLE_array.append([j[0], j[1]])\n",
    "LLE_array"
   ]
  },
  {
   "cell_type": "code",
   "execution_count": 23,
   "metadata": {},
   "outputs": [],
   "source": [
    "from sklearn import datasets, neighbors\n",
    "import numpy as np\n",
    "# we will implement K-nearest neighbor search\n",
    "# le's load  fisher iris dataset\n",
    "LLE_array\n",
    "def Knbor_Mat(X, K, t = 2.0, dist_metric = \"euclidean\", algorithm = \"ball_tree\"):\n",
    "\n",
    "    n,p = X.shape\n",
    "\n",
    "    knn = neighbors.NearestNeighbors(K+1, metric = dist_metric, algorithm=algorithm).fit(X)\n",
    "    distances, nbors = knn.kneighbors(X)\n",
    "\n",
    "    return(nbors[:,1:])"
   ]
  },
  {
   "cell_type": "code",
   "execution_count": 24,
   "metadata": {},
   "outputs": [],
   "source": [
    "from scipy import linalg\n",
    "\n",
    "def get_weights(X, nbors, reg, K):\n",
    "\n",
    "    n,p = X.shape\n",
    "\n",
    "    Weights = np.zeros((n,n))\n",
    "\n",
    "    for i in range(n):\n",
    "\n",
    "        X_bors = X[nbors[i],:] - X[i]\n",
    "        cov_nbors = np.dot(X_bors, X_bors.T)\n",
    "\n",
    "        #regularization tems\n",
    "        trace = np.trace(cov_nbors)\n",
    "        if trace >0 :\n",
    "            R = reg*trace\n",
    "        else:\n",
    "            R = reg\n",
    "\n",
    "        cov_nbors.flat[::K+1] += R\n",
    "        weights = linalg.solve(cov_nbors, np.ones(K).T, sym_pos=True)\n",
    "\n",
    "        weights = weights/weights.sum()\n",
    "        Weights[i, nbors[i]] = weights\n",
    "\n",
    "    return(Weights)"
   ]
  },
  {
   "cell_type": "code",
   "execution_count": 25,
   "metadata": {},
   "outputs": [],
   "source": [
    "from scipy.linalg import eigh\n",
    "\n",
    "def Y_(Weights,d):\n",
    "    n,p = Weights.shape\n",
    "    I = np.eye(n)\n",
    "    m = (I-Weights)\n",
    "    M = m.T.dot(m)\n",
    "\n",
    "    eigvals, eigvecs = eigh(M, eigvals=(1, d), overwrite_a=True)\n",
    "    ind = np.argsort(np.abs(eigvals))\n",
    "\n",
    "    return(eigvecs[:, ind])"
   ]
  },
  {
   "cell_type": "code",
   "execution_count": 26,
   "metadata": {},
   "outputs": [
    {
     "data": {
      "application/vnd.jupyter.widget-view+json": {
       "model_id": "d1174ac9908f41c3a7e2758c87016fe1",
       "version_major": 2,
       "version_minor": 0
      },
      "text/plain": [
       "interactive(children=(IntSlider(value=20, description='K', step=10), Output()), _dom_classes=('widget-interact…"
      ]
     },
     "metadata": {},
     "output_type": "display_data"
    },
    {
     "data": {
      "text/plain": [
       "<function __main__.plotter(K)>"
      ]
     },
     "execution_count": 26,
     "metadata": {},
     "output_type": "execute_result"
    }
   ],
   "source": [
    "import matplotlib.pyplot as plt\n",
    "from matplotlib.pyplot import cm\n",
    "from ipywidgets import interact, interactive, fixed, interact_manual\n",
    "import ipywidgets as widgets\n",
    "\n",
    "n_points = 1000\n",
    "X = np.array(LLE_array)\n",
    "\n",
    "def LLE_(X, K):\n",
    "    reg =0.001\n",
    "    nbors = Knbor_Mat(X,K)\n",
    "    print(nbors[0])\n",
    "    Weights = get_weights(X, nbors, reg,K)\n",
    "\n",
    "    Y = Y_(Weights,2)\n",
    "    return(Y)\n",
    "test = [2, 10, 100, 150]\n",
    "def plotter(K):\n",
    "    fig = plt.figure(figsize=(10,8))\n",
    "    Y = LLE_(X , K)\n",
    "    s = Y[test]\n",
    "    plt.scatter(Y[:,0],Y[:,1],c='black', cmap=cm.get_cmap(\"Spectral\"))\n",
    "#     plt.scatter(Y[:,0],Y[:,1])\n",
    "#     plt.scatter(s[:,0],s[:,1], c=\"black\")\n",
    "\n",
    "interact(plotter, K= widgets.IntSlider(min=0, max=100, value=20, step=10))"
   ]
  },
  {
   "cell_type": "code",
   "execution_count": 27,
   "metadata": {},
   "outputs": [
    {
     "name": "stdout",
     "output_type": "stream",
     "text": [
      "Done. Reconstruction error: 8.2282e-16\n"
     ]
    }
   ],
   "source": [
    "from sklearn import manifold, datasets\n",
    "LLEReduced, err = manifold.locally_linear_embedding(LLE_array,n_neighbors=12,\n",
    "                                             n_components=2)\n",
    "print(\"Done. Reconstruction error: %g\" % err)"
   ]
  },
  {
   "cell_type": "code",
   "execution_count": 28,
   "metadata": {},
   "outputs": [
    {
     "data": {
      "application/vnd.jupyter.widget-view+json": {
       "model_id": "b52b8f13830c4240b354929c4a0db8fc",
       "version_major": 2,
       "version_minor": 0
      },
      "text/plain": [
       "Canvas(toolbar=Toolbar(toolitems=[('Home', 'Reset original view', 'home', 'home'), ('Back', 'Back to previous …"
      ]
     },
     "metadata": {},
     "output_type": "display_data"
    }
   ],
   "source": [
    "# Plot result\n",
    "\n",
    "fig = plt.figure(figsize=(15,15))\n",
    "\n",
    "ax = fig.add_subplot(211, projection='3d')\n",
    "ax.scatter(X[:, 0], X[:, 1], X[:, 1])\n",
    "\n",
    "ax.set_title(\"Original data\")\n",
    "ax = fig.add_subplot(212)\n",
    "ax.scatter(LLEReduced[:, 0], LLEReduced[:, 1])\n",
    "plt.axis('tight')\n",
    "# plt.xticks([]), plt.yticks([])\n",
    "plt.title('Projected data')\n",
    "plt.show()"
   ]
  },
  {
   "cell_type": "code",
   "execution_count": 29,
   "metadata": {},
   "outputs": [
    {
     "data": {
      "text/plain": [
       "18"
      ]
     },
     "execution_count": 29,
     "metadata": {},
     "output_type": "execute_result"
    }
   ],
   "source": [
    "LLE_array = []\n",
    "for i in final:\n",
    "    temp = []\n",
    "    for j in i:\n",
    "        temp.append(j[0])\n",
    "        temp.append(j[1])\n",
    "    LLE_array.append(temp)\n",
    "len(LLE_array)"
   ]
  },
  {
   "cell_type": "code",
   "execution_count": 30,
   "metadata": {
    "scrolled": true
   },
   "outputs": [
    {
     "data": {
      "text/plain": [
       "[[-3.359994141662374,\n",
       "  -52.12860262912253,\n",
       "  0.0,\n",
       "  0.0,\n",
       "  28.26364443023154,\n",
       "  24.581267664083846,\n",
       "  -21.80330915019867,\n",
       "  27.48169328855431,\n",
       "  39.93959417368503,\n",
       "  133.94079542913926,\n",
       "  -23.860618123348722,\n",
       "  128.88124455576357,\n",
       "  -5.954259737057889,\n",
       "  101.65123953649649,\n",
       "  -5.906477855875137,\n",
       "  9.987417888264405,\n",
       "  23.32287419666635,\n",
       "  175.15440349993497,\n",
       "  -11.214934257750816,\n",
       "  176.840413936042],\n",
       " [-1.6482894308865073,\n",
       "  -49.350560162247724,\n",
       "  0.0,\n",
       "  0.0,\n",
       "  25.478429091162983,\n",
       "  20.58595529123515,\n",
       "  -24.966619908809662,\n",
       "  19.555829853570767,\n",
       "  30.248492606915537,\n",
       "  126.79196325670772,\n",
       "  -24.946913495659828,\n",
       "  115.24146845360764,\n",
       "  -12.149062869139016,\n",
       "  102.44679425944801,\n",
       "  -7.343390840105713,\n",
       "  -5.459656084285057,\n",
       "  14.65752145741135,\n",
       "  170.6611491051041,\n",
       "  -17.035572067834437,\n",
       "  167.71936086045596],\n",
       " [-0.24794960158995483,\n",
       "  -46.313237457375266,\n",
       "  0.0,\n",
       "  0.0,\n",
       "  25.125425094845646,\n",
       "  20.338835891004628,\n",
       "  -25.1131344800708,\n",
       "  19.422016780413877,\n",
       "  35.09058897522674,\n",
       "  120.64250907348713,\n",
       "  -24.164784811008943,\n",
       "  110.4815274633038,\n",
       "  -1.098772712137514,\n",
       "  119.7927418179537,\n",
       "  1.5031227435188668,\n",
       "  2.500335521098824,\n",
       "  16.691998229629686,\n",
       "  170.70539434542832,\n",
       "  -15.940847821619327,\n",
       "  170.82417360775133],\n",
       " [-2.1323749024397247,\n",
       "  -48.6870773964458,\n",
       "  0.0,\n",
       "  0.0,\n",
       "  24.798617545206834,\n",
       "  20.455220010545517,\n",
       "  -25.34116647046083,\n",
       "  26.491086350546944,\n",
       "  31.78617248109951,\n",
       "  110.94631718264685,\n",
       "  -31.57993987867027,\n",
       "  123.80729284551408,\n",
       "  3.541212476742495,\n",
       "  -2.797438038720025,\n",
       "  16.230331940256107,\n",
       "  88.91714281506009,\n",
       "  18.745016672049356,\n",
       "  171.08143435584174,\n",
       "  -17.575786979335128,\n",
       "  171.87604771720038],\n",
       " [1.435957005563772,\n",
       "  -51.26265712551303,\n",
       "  0.0,\n",
       "  0.0,\n",
       "  24.66353366397462,\n",
       "  22.836489277286134,\n",
       "  -25.45748960297063,\n",
       "  21.87592082923943,\n",
       "  34.888061290642,\n",
       "  122.62460068389252,\n",
       "  -37.950495925714385,\n",
       "  130.6124967294973,\n",
       "  55.29816884477184,\n",
       "  51.023685015164894,\n",
       "  -44.94752355341642,\n",
       "  23.361484487573588,\n",
       "  16.075675639341462,\n",
       "  173.27041892738612,\n",
       "  -15.962820148692941,\n",
       "  170.65640179427356],\n",
       " [2.4619814739272927,\n",
       "  -43.80240883855593,\n",
       "  0.0,\n",
       "  0.0,\n",
       "  23.468292500984155,\n",
       "  20.083052416642506,\n",
       "  -26.663156787744548,\n",
       "  11.07550866547085,\n",
       "  31.074525922109064,\n",
       "  105.2843411763509,\n",
       "  -38.14929923372406,\n",
       "  100.95127820968628,\n",
       "  32.19352470060284,\n",
       "  107.56955373854863,\n",
       "  -23.62851278063213,\n",
       "  107.45165681555157,\n",
       "  11.542267776562266,\n",
       "  170.61076178437187,\n",
       "  -19.72310180869399,\n",
       "  167.57947050389788],\n",
       " [-2.2406392239012156,\n",
       "  -43.64769704201642,\n",
       "  0.0,\n",
       "  0.0,\n",
       "  28.194592941475484,\n",
       "  15.161100964920193,\n",
       "  -21.97110074459627,\n",
       "  19.10207844248005,\n",
       "  41.14050061653498,\n",
       "  113.66565472939435,\n",
       "  -32.621284492951226,\n",
       "  109.68352789972342,\n",
       "  57.405821763660356,\n",
       "  66.09776534286199,\n",
       "  -56.2403087638824,\n",
       "  51.11471099012038,\n",
       "  19.914569378250825,\n",
       "  165.6880566886827,\n",
       "  -13.417820544545274,\n",
       "  165.49050772891326],\n",
       " [-3.912500888109207,\n",
       "  -38.63686667755246,\n",
       "  0.0,\n",
       "  0.0,\n",
       "  28.073063120245934,\n",
       "  13.789453543722633,\n",
       "  -21.92939057946205,\n",
       "  17.822813056409363,\n",
       "  44.907775446772575,\n",
       "  95.29808908700943,\n",
       "  -37.61391691863537,\n",
       "  93.99730041623116,\n",
       "  71.3581521064043,\n",
       "  50.67510642111302,\n",
       "  -70.2092918753624,\n",
       "  46.04138024151326,\n",
       "  16.87028832733631,\n",
       "  164.1228571534157,\n",
       "  -17.677724733948708,\n",
       "  159.95921436697247],\n",
       " [-2.5867863206673936,\n",
       "  -44.36388475085617,\n",
       "  0.0,\n",
       "  0.0,\n",
       "  26.961837383295528,\n",
       "  12.519354120307012,\n",
       "  -23.30234508640719,\n",
       "  21.179608248789375,\n",
       "  39.06544470629156,\n",
       "  108.54146896152321,\n",
       "  -28.024732277093346,\n",
       "  122.4409877707105,\n",
       "  48.86495751260922,\n",
       "  19.24876226197689,\n",
       "  -45.95472816599916,\n",
       "  24.93068165735367,\n",
       "  19.23219652365375,\n",
       "  162.61622993224256,\n",
       "  -14.470902499773645,\n",
       "  162.2534509098858],\n",
       " [1.9552639552525113,\n",
       "  -43.69303678211413,\n",
       "  0.0,\n",
       "  0.0,\n",
       "  22.440198489597865,\n",
       "  18.210585493790475,\n",
       "  -27.723026275634766,\n",
       "  19.00951862335205,\n",
       "  36.337811606270925,\n",
       "  92.47333125064247,\n",
       "  -43.44619682856968,\n",
       "  108.2708195636147,\n",
       "  67.99114261354718,\n",
       "  70.41525087858501,\n",
       "  -72.02237503869193,\n",
       "  64.95358128296701,\n",
       "  18.290177413395472,\n",
       "  168.48410054257042,\n",
       "  -14.44244384765625,\n",
       "  172.3642763338591],\n",
       " [-0.5710717651151841,\n",
       "  -48.99411138970308,\n",
       "  0.0,\n",
       "  0.0,\n",
       "  25.58106905029666,\n",
       "  20.68426684940352,\n",
       "  -24.661614817957723,\n",
       "  22.457010915663354,\n",
       "  32.03807482796331,\n",
       "  127.81550759233339,\n",
       "  -35.37458344813316,\n",
       "  125.08601186873761,\n",
       "  47.05922286356649,\n",
       "  24.923892056897333,\n",
       "  -54.33228592718801,\n",
       "  11.595691947008335,\n",
       "  16.839616048720575,\n",
       "  170.887710092666,\n",
       "  -18.36567626845452,\n",
       "  167.64296315582504],\n",
       " [2.708097599537634,\n",
       "  -44.43206424029106,\n",
       "  0.0,\n",
       "  0.0,\n",
       "  21.977717365796973,\n",
       "  19.346089701394785,\n",
       "  -28.082847995002094,\n",
       "  23.70442304442678,\n",
       "  58.16984897161402,\n",
       "  17.302329853765688,\n",
       "  -37.56835724158985,\n",
       "  113.99706854270056,\n",
       "  21.152586162817187,\n",
       "  -57.041865283634955,\n",
       "  -30.34837788379774,\n",
       "  192.82937599442857,\n",
       "  13.925105696771203,\n",
       "  169.48374524061995,\n",
       "  -20.38528878332638,\n",
       "  167.21172245401357],\n",
       " [-2.20434444140544,\n",
       "  -37.64276346841523,\n",
       "  0.0,\n",
       "  0.0,\n",
       "  26.22074252736252,\n",
       "  16.944190114736564,\n",
       "  -24.147920798411413,\n",
       "  13.107553661562683,\n",
       "  36.922980568050285,\n",
       "  84.40498898542205,\n",
       "  -59.702084338770504,\n",
       "  4.879210074973669,\n",
       "  54.69792369192681,\n",
       "  111.25402306747992,\n",
       "  -17.825170375604547,\n",
       "  -75.80986669243768,\n",
       "  18.087785381131468,\n",
       "  167.00588632808177,\n",
       "  -14.740629059023563,\n",
       "  170.1093123575976],\n",
       " [4.822600572495847,\n",
       "  -34.85826324475439,\n",
       "  0.0,\n",
       "  0.0,\n",
       "  23.827173983728564,\n",
       "  9.689614568886004,\n",
       "  -26.368830896712637,\n",
       "  14.312384944213065,\n",
       "  61.612547732688284,\n",
       "  -11.844115429802946,\n",
       "  -32.581854913685774,\n",
       "  97.52501410089042,\n",
       "  19.512191253739434,\n",
       "  -62.38866440559689,\n",
       "  -31.2299860490335,\n",
       "  171.50763206576048,\n",
       "  16.18889368869163,\n",
       "  159.9569036380241,\n",
       "  -15.69634152425302,\n",
       "  158.85643759056143],\n",
       " [0.06538759107175081,\n",
       "  -44.90681178867817,\n",
       "  0.0,\n",
       "  0.0,\n",
       "  25.499154692110807,\n",
       "  25.361616164445874,\n",
       "  -24.918654690618098,\n",
       "  13.386474922299383,\n",
       "  56.22199307317319,\n",
       "  88.00817839801311,\n",
       "  -50.63962806826052,\n",
       "  8.802177384495735,\n",
       "  34.76931996967481,\n",
       "  150.96205472946167,\n",
       "  -8.666435013646664,\n",
       "  -72.5285355001688,\n",
       "  18.348074477651846,\n",
       "  175.55695585906506,\n",
       "  -14.081884985384733,\n",
       "  177.19035409390926],\n",
       " [-3.144862922346979,\n",
       "  -43.265028528514364,\n",
       "  0.0,\n",
       "  0.0,\n",
       "  27.18229004780002,\n",
       "  20.707352069162187,\n",
       "  -22.96848175328106,\n",
       "  15.09661560966855,\n",
       "  41.5665568661106,\n",
       "  107.51109179996308,\n",
       "  -59.2041915194912,\n",
       "  12.040883657478151,\n",
       "  35.725357578523635,\n",
       "  190.0771934361685,\n",
       "  -12.776633535850301,\n",
       "  -48.82734925264404,\n",
       "  19.150899263649556,\n",
       "  171.17790955872763,\n",
       "  -13.265717242846163,\n",
       "  174.3252504439581],\n",
       " [4.546320300570803,\n",
       "  -35.033298938380554,\n",
       "  0.0,\n",
       "  0.0,\n",
       "  24.425019074037586,\n",
       "  12.262648464697097,\n",
       "  -25.596445695513246,\n",
       "  13.665189241108147,\n",
       "  54.84860274143991,\n",
       "  6.2034696702532495,\n",
       "  -36.78602727851427,\n",
       "  97.41993090401776,\n",
       "  25.834990305707635,\n",
       "  -69.60913367599609,\n",
       "  -39.108771912624384,\n",
       "  178.8719004947647,\n",
       "  9.65019939951814,\n",
       "  162.57732363364957,\n",
       "  -20.740965198230192,\n",
       "  158.229603699827],\n",
       " [1.8845749359864457,\n",
       "  -34.58443338717889,\n",
       "  0.0,\n",
       "  0.0,\n",
       "  23.548624882331264,\n",
       "  6.340014879856635,\n",
       "  -26.4935393516834,\n",
       "  21.289377693736224,\n",
       "  53.23736016566937,\n",
       "  -31.949363334463275,\n",
       "  -31.21374194438641,\n",
       "  99.46266800985424,\n",
       "  8.415498458422148,\n",
       "  -65.31213089960431,\n",
       "  -20.034533693240242,\n",
       "  175.6315317175804,\n",
       "  21.064750781426063,\n",
       "  156.65821411194057,\n",
       "  -11.205514531869156,\n",
       "  157.78526849702956]]"
      ]
     },
     "execution_count": 30,
     "metadata": {},
     "output_type": "execute_result"
    }
   ],
   "source": [
    "LLE_array"
   ]
  },
  {
   "cell_type": "code",
   "execution_count": 31,
   "metadata": {},
   "outputs": [
    {
     "name": "stdout",
     "output_type": "stream",
     "text": [
      "Done. Reconstruction error: 0.000238837\n"
     ]
    }
   ],
   "source": [
    "from sklearn import manifold, datasets\n",
    "LLEReduced, err = manifold.locally_linear_embedding(LLE_array,n_neighbors=12,\n",
    "                                             n_components=2)\n",
    "print(\"Done. Reconstruction error: %g\" % err)"
   ]
  },
  {
   "cell_type": "code",
   "execution_count": 32,
   "metadata": {},
   "outputs": [
    {
     "data": {
      "text/plain": [
       "['D:\\\\SDSU\\\\Final Project\\\\Images\\\\confused\\\\imset\\\\chin (1).jpg',\n",
       " 'D:\\\\SDSU\\\\Final Project\\\\Images\\\\confused\\\\imset\\\\chin (2).jpg',\n",
       " 'D:\\\\SDSU\\\\Final Project\\\\Images\\\\confused\\\\imset\\\\chin (3).jpg',\n",
       " 'D:\\\\SDSU\\\\Final Project\\\\Images\\\\confused\\\\imset\\\\chin (6).jpg',\n",
       " 'D:\\\\SDSU\\\\Final Project\\\\Images\\\\confused\\\\imset\\\\hands (1).jpg',\n",
       " 'D:\\\\SDSU\\\\Final Project\\\\Images\\\\confused\\\\imset\\\\hands (2).jpg',\n",
       " 'D:\\\\SDSU\\\\Final Project\\\\Images\\\\confused\\\\imset\\\\hands (3).jpg',\n",
       " 'D:\\\\SDSU\\\\Final Project\\\\Images\\\\confused\\\\imset\\\\hands (4).jpg',\n",
       " 'D:\\\\SDSU\\\\Final Project\\\\Images\\\\confused\\\\imset\\\\hands (5).jpg',\n",
       " 'D:\\\\SDSU\\\\Final Project\\\\Images\\\\confused\\\\imset\\\\hands (6).jpg',\n",
       " 'D:\\\\SDSU\\\\Final Project\\\\Images\\\\confused\\\\imset\\\\hands (7).jpg',\n",
       " 'D:\\\\SDSU\\\\Final Project\\\\Images\\\\confused\\\\imset\\\\head (1).jpg',\n",
       " 'D:\\\\SDSU\\\\Final Project\\\\Images\\\\confused\\\\imset\\\\head (15).jpg',\n",
       " 'D:\\\\SDSU\\\\Final Project\\\\Images\\\\confused\\\\imset\\\\head (17).jpg',\n",
       " 'D:\\\\SDSU\\\\Final Project\\\\Images\\\\confused\\\\imset\\\\head (4).jpg',\n",
       " 'D:\\\\SDSU\\\\Final Project\\\\Images\\\\confused\\\\imset\\\\head (5).jpg',\n",
       " 'D:\\\\SDSU\\\\Final Project\\\\Images\\\\confused\\\\imset\\\\head (7).jpg',\n",
       " 'D:\\\\SDSU\\\\Final Project\\\\Images\\\\confused\\\\imset\\\\head (8).jpg']"
      ]
     },
     "execution_count": 32,
     "metadata": {},
     "output_type": "execute_result"
    }
   ],
   "source": [
    "# LLEReduced\n",
    "images = {name: cv2.imread(name) for name in glob.glob('D:\\SDSU\\Final Project\\Images\\confused\\imset/*jpg')}\n",
    "imageNames = [name for name, image in images.items()]\n",
    "imagesArray = [np.array(cv2.imread(name)) for name, image in images.items()]\n",
    "names = []\n",
    "for i in imageNames:\n",
    "    names.append(i.split('\\\\')[-1])\n",
    "imageNames"
   ]
  },
  {
   "cell_type": "code",
   "execution_count": 33,
   "metadata": {},
   "outputs": [],
   "source": [
    "annotateX = LLEReduced[:,0]\n",
    "annotateY = LLEReduced[:,1]"
   ]
  },
  {
   "cell_type": "code",
   "execution_count": 34,
   "metadata": {
    "scrolled": false
   },
   "outputs": [
    {
     "data": {
      "application/vnd.jupyter.widget-view+json": {
       "model_id": "66c7c44e61564311b432f82e26f9ce85",
       "version_major": 2,
       "version_minor": 0
      },
      "text/plain": [
       "Canvas(toolbar=Toolbar(toolitems=[('Home', 'Reset original view', 'home', 'home'), ('Back', 'Back to previous …"
      ]
     },
     "metadata": {},
     "output_type": "display_data"
    }
   ],
   "source": [
    "# Plot result\n",
    "from matplotlib.offsetbox import OffsetImage, AnnotationBbox\n",
    "from PIL import Image\n",
    "import plotly.express as px\n",
    "\n",
    "fig = plt.figure(figsize=(15,15))\n",
    "\n",
    "ax = fig.add_subplot(211, projection='3d')\n",
    "ax.scatter(X[:, 0], X[:, 1], X[:,1])\n",
    "\n",
    "ax.set_title(\"Original data\")\n",
    "\n",
    "def getImage(path):\n",
    "    im = Image.open(path)\n",
    "#     (width, height) = (im.width // 10, im.height // 10)\n",
    "    (width, height) = (45, 45)\n",
    "    im_res = im.resize((width, height))\n",
    "    return OffsetImage(im_res)\n",
    "\n",
    "\n",
    "ax = fig.add_subplot(212)\n",
    "# plt.figure(figsize=(30,30))\n",
    "plt.scatter(LLEReduced[:, 0], LLEReduced[:, 1])\n",
    "# for i, txt in enumerate(names):\n",
    "#     plt.annotate(txt, (LLEReduced[i, 0] + 0.005, LLEReduced[i, 1] + 0.005), fontsize=12)\n",
    "# for x0, y0, path in zip(annotateX, annotateY, imageNames):\n",
    "#     ab = AnnotationBbox(getImage(path), (x0,y0), frameon=False)\n",
    "#     ax.add_artist(ab)\n",
    "    \n",
    "for i, path in zip(range(len(LLEReduced)), imageNames):\n",
    "    ab = AnnotationBbox(getImage(path), (LLEReduced[i, 0], LLEReduced[i, 1]), frameon=False)\n",
    "    ax.add_artist(ab)\n",
    "    \n",
    "plt.axis('tight')\n",
    "# plt.xticks([]), plt.yticks([])\n",
    "plt.title('Projected data')\n",
    "plt.show()\n",
    "# annotate"
   ]
  },
  {
   "cell_type": "markdown",
   "metadata": {},
   "source": [
    "## A fucntion to extract required pose from an image  "
   ]
  },
  {
   "cell_type": "code",
   "execution_count": 2,
   "metadata": {},
   "outputs": [],
   "source": [
    "def get_ten_joints(image):\n",
    "#     image = cv2.imread(image)\n",
    "    image_vector = []\n",
    "    mp_pose = mp.solutions.pose\n",
    "    # Initialize MediaPipe Pose.\n",
    "    pose = mp_pose.Pose(static_image_mode=True, min_detection_confidence=0.5)\n",
    "#     print(pose)\n",
    "    mp_drawing = mp.solutions.drawing_utils \n",
    "    drawing_spec = mp_drawing.DrawingSpec(thickness=1, circle_radius=1)\n",
    "    results = pose.process(cv2.cvtColor(image, cv2.COLOR_BGR2RGB))\n",
    "#     results = pose.process(image)\n",
    "#     print('results = ', results.pose_landmarks)\n",
    "    # Print nose landmark.\n",
    "    image_hight, image_width, image_depth = image.shape\n",
    "    #     if not results.pose_landmarks:\n",
    "    #         continue\n",
    "#     print(results.pose_landmarks)\n",
    "# asjdnaisdbasdhbhkasbkahdbasidhan akjnfbqiu\n",
    "    if(results.pose_landmarks is None ):\n",
    "        return ([0, 0, 0, 0, 0, 0, 0, 0, 0, 0], [0, 0, 0, 0, 0, 0, 0, 0, 0, 0])\n",
    "    \n",
    "    left_shoulder = (results.pose_landmarks.landmark[mp_pose.PoseLandmark.LEFT_SHOULDER].x * image_width, \n",
    "                 results.pose_landmarks.landmark[mp_pose.PoseLandmark.LEFT_SHOULDER].y * image_hight)\n",
    "    #     print(\"Left Shoulder Location : \", left_shoulder)\n",
    "    right_shoulder = (results.pose_landmarks.landmark[mp_pose.PoseLandmark.RIGHT_SHOULDER].x * image_width,\n",
    "                  results.pose_landmarks.landmark[mp_pose.PoseLandmark.RIGHT_SHOULDER].y * image_hight)\n",
    "    #     print(\"Right Shoulder Location : \", right_shoulder)\n",
    "    nose_cood = (results.pose_landmarks.landmark[mp_pose.PoseLandmark.NOSE].x * image_width,\n",
    "                 results.pose_landmarks.landmark[mp_pose.PoseLandmark.NOSE].y * image_hight,\n",
    "                 results.pose_landmarks.landmark[mp_pose.PoseLandmark.NOSE].z * image_depth)\n",
    "    \n",
    "    #     print(\"Nose Location : \", nose_cood)\n",
    "\n",
    "    # Creating a centroid (point between nose and shoulders as the new origin (0,0))\n",
    "    \n",
    "    centroid = ((left_shoulder[0] + right_shoulder[0] + nose_cood[0]) / 3 , (left_shoulder[1] + right_shoulder[1] + nose_cood[1]) / 3)\n",
    "    #     print(\"Centroid = \", centroid)\n",
    "    \n",
    "    centroid_point = (int(centroid[0]), int(centroid[1]))\n",
    "    cv2.circle(image, centroid_point, 3, (255,0,0), -1)\n",
    "    \n",
    "    # Calculating the point for head/face and replacing the values in the landmakrs \n",
    "    \n",
    "    left_ear = (results.pose_landmarks.landmark[mp_pose.PoseLandmark.LEFT_EAR].x * image_width, \n",
    "               results.pose_landmarks.landmark[mp_pose.PoseLandmark.LEFT_EAR].y * image_hight)\n",
    "    right_ear = (results.pose_landmarks.landmark[mp_pose.PoseLandmark.RIGHT_EAR].x * image_width, \n",
    "                 results.pose_landmarks.landmark[mp_pose.PoseLandmark.RIGHT_EAR].y * image_hight)\n",
    "# Now we have to replace the values from loc 0(nose) to loc 10 (right mouth) and put a general point for head which is mid\n",
    "# point of 2 ears\n",
    "    \n",
    "    head = ((left_ear[0] + right_ear[0]) / 2, (left_ear[1] + right_ear[1]) / 2)\n",
    "#     print(\"Head = \", head)\n",
    "    head_point = (int(head[0]), int(head[1]))\n",
    "    cv2.circle(image, head_point, 3, (0,0,255), -1)\n",
    "    \n",
    "# Updating removing the 10 points and putting 1 head point \n",
    "    allJointsXarray = []\n",
    "    allJointsYarray = []\n",
    "    \n",
    "    for i in mp_pose.PoseLandmark:\n",
    "        allJointsXarray.append((results.pose_landmarks.landmark[i].x) * image_width)\n",
    "        allJointsYarray.append((results.pose_landmarks.landmark[i].y) * image_hight)\n",
    "    \n",
    "    tenJointsXArray = allJointsXarray[11:25]\n",
    "    tenJointsYArray = allJointsYarray[11:25]\n",
    "    tenJointsXArray.insert(0, head[0])\n",
    "    tenJointsYArray.insert(0, head[1])\n",
    "    tenJointsXArray.insert(1, centroid[0])\n",
    "    tenJointsYArray.insert(1, centroid[1])\n",
    "\n",
    "# Removing the unnecessary points\n",
    "    for i in range(6):\n",
    "        del tenJointsXArray[6]\n",
    "    for i in range(6):\n",
    "        del tenJointsYArray[6]\n",
    "    \n",
    "# Redifining points wrt to new centroid   \n",
    "    xCoordinatesCentroid = list(map(lambda x: x - centroid[0], tenJointsXArray))\n",
    "    yCoordinatesCentroid = list(map(lambda y: y - centroid[1], tenJointsYArray))\n",
    "    \n",
    "\n",
    "    \n",
    "    \n",
    "    current_vector = []\n",
    "    for i in range(len(xCoordinatesCentroid)):\n",
    "        current_vector.append((xCoordinatesCentroid[i], yCoordinatesCentroid[i]))\n",
    "    image_vector.append(current_vector)\n",
    "    \n",
    "    \n",
    "    \n",
    "    \n",
    "    \n",
    "    \n",
    "# Drawing a rectangle around the min and max point of the image. \n",
    "    rectBottomLeft = (math.floor(min(tenJointsXArray)), math.floor(min(tenJointsYArray)))\n",
    "    rectTopRight = (math.ceil(max(tenJointsXArray)), math.ceil(max(tenJointsYArray)))\n",
    "   \n",
    "    \n",
    "\n",
    "    cv2.circle(image, rectBottomLeft, 3, (0,0,255), -1)\n",
    "    cv2.circle(image, rectTopRight, 3, (0,0,255), -1)\n",
    "    cv2.rectangle(image, rectBottomLeft, rectTopRight, (255,0,0), 1)\n",
    "    \n",
    "# Draw pose landmarks.\n",
    "#     print(f'Pose landmarks of {name}:')\n",
    "#     annotated_image = image.copy()\n",
    "#     mp_drawing.draw_landmarks(\n",
    "#       image=annotated_image,\n",
    "#       landmark_list=results.pose_landmarks,\n",
    "#       connections=mp_pose.POSE_CONNECTIONS,\n",
    "#       landmark_drawing_spec=drawing_spec,\n",
    "#       connection_drawing_spec=drawing_spec)\n",
    "#     cv2.imshow('annotated_iamge', annotated_image)\n",
    "#     plt.figure()\n",
    "#     plt.imshow(annotated_image)\n",
    "#     cv2.waitKey(0)\n",
    "#     newXArray = list(map(lambda x: x - centroid[0], xArray))\n",
    "#     newYArray = list(map(lambda y: y - centroid[1], yArray))\n",
    "#     head_plotX = [newXArray[0], newXArray[1]]\n",
    "#     head_plotY = [newYArray[0], newYArray[1]]\n",
    "#     hands_plotX = [newXArray[6], newXArray[4], newXArray[2],newXArray[3],newXArray[5],newXArray[7]]\n",
    "#     hands_plotY = [newYArray[6], newYArray[4], newYArray[2],newYArray[3],newYArray[5],newYArray[7]]\n",
    "#     body_plotX = [newXArray[2], newXArray[8], newXArray[9], newXArray[3]]\n",
    "#     body_plotY = [newYArray[2], newYArray[8], newYArray[9], newYArray[3]]\n",
    "#     plt.plot(head_plotX, head_plotY, 'o', color='black' , linewidth=1, linestyle='solid')\n",
    "#     plt.plot(hands_plotX, hands_plotY, 'o', color='black', linewidth=1, linestyle='solid')\n",
    "#     plt.plot(body_plotX, body_plotY, 'o', color='black', linewidth=1, linestyle='solid')\n",
    "#     plt.yscale(\"linear\")\n",
    "#     plt.ylim(max(newYArray) + 20, min(newYArray) - 20)\n",
    "#     plt.xlim(-300, 300)\n",
    "#     plt.show()\n",
    "#     plt.imshow(annotated_image)\n",
    "   \n",
    "    final = []\n",
    "    for i in image_vector:\n",
    "        height = int(abs(i[-2][1] - i[2][1]))\n",
    "        width = int(abs(i[3][0] - i[2][0]))\n",
    "#         print(height, width)\n",
    "\n",
    "        y = 150 / height\n",
    "        x = 50 / width\n",
    "\n",
    "        ratio = (y, x)\n",
    "        temp = list()\n",
    "        for j in i:\n",
    "            temp.append((j[0] * x, j[1] * y))\n",
    "        final.append(temp)\n",
    "    \n",
    "    normalizedXarray = list()\n",
    "    normalizedYarray = list()\n",
    "    \n",
    "    for z in final:\n",
    "        xList = []\n",
    "        yList = []\n",
    "        for x, y in z:\n",
    "            xList.append(x)\n",
    "            yList.append(y)\n",
    "        normalizedXarray = xList\n",
    "        normalizedYarray = yList\n",
    "    \n",
    "#     plt.figure(figsize=(10,10))\n",
    "#     newXArray = normalizedXarray\n",
    "#     newYArray = normalizedYarray\n",
    "#     for i in range(len(image_vector)):\n",
    "#         head_plotX = [normalizedXarray[i][0], normalizedXarray[i][1]]\n",
    "#         head_plotY = [normalizedYarray[i][0], normalizedYarray[i][1]]\n",
    "#         hands_plotX = [normalizedXarray[i][6], normalizedXarray[i][4], normalizedXarray[i][2],normalizedXarray[i][3],normalizedXarray[i][5],normalizedXarray[i][7]]\n",
    "#         hands_plotY = [normalizedYarray[i][6], normalizedYarray[i][4], normalizedYarray[i][2],normalizedYarray[i][3],normalizedYarray[i][5],normalizedYarray[i][7]]\n",
    "#         body_plotX = [normalizedXarray[i][2], normalizedXarray[i][8], normalizedXarray[i][9], normalizedXarray[i][3]]\n",
    "#         body_plotY = [normalizedYarray[i][2], normalizedYarray[i][8], normalizedYarray[i][9], normalizedYarray[i][3]]\n",
    "#         plt.plot(head_plotX, head_plotY, 'o', color='black', linewidth=1, linestyle='solid', label=i)\n",
    "#         plt.plot(hands_plotX, hands_plotY, 'o', color='black', linewidth=1, linestyle='solid')\n",
    "#         plt.plot(body_plotX, body_plotY, 'o', color='black', linewidth=1, linestyle='solid')\n",
    "#     plt.gca().invert_yaxis()\n",
    "#     plt.legend(loc='best')\n",
    "#     plt.show()\n",
    "    \n",
    "    return (normalizedXarray, normalizedYarray)"
   ]
  },
  {
   "cell_type": "code",
   "execution_count": 3,
   "metadata": {
    "scrolled": true
   },
   "outputs": [
    {
     "name": "stdout",
     "output_type": "stream",
     "text": [
      "D:\\SDSU\\Final Project\\Images\\imset\\dancer-1.jpg\n",
      "normalized_X_coordinates =  [-0.23395873606204987, 0.0, 28.365698556105297, -21.809588124354683, 68.30715527137122, -24.61495190858841, 70.09355356295904, 7.405632187922796, 30.373168786366783, -0.10816345612208049]\n",
      "normalized_Y_coordinates =  [-32.72084752437074, 0.0, 22.36529566981049, 11.815737700655392, -13.641667740065076, -59.58864224343164, -93.94060331076263, -130.15477996364777, 172.87814626809555, 175.12389602448775]\n",
      "D:\\SDSU\\Final Project\\Images\\imset\\football-1.jpg\n",
      "normalized_X_coordinates =  [6.761618224225314, 0.0, 24.206300622733078, -26.906961803288414, 50.65057716628379, -69.45831697116526, 68.45768962719646, -123.52526663809783, -24.688251258790945, -53.836056844208585]\n",
      "normalized_Y_coordinates =  [-41.23307351361622, 0.0, 28.37940508669073, 13.010518117384478, 36.56436462293972, 34.114070372148, 0.4666584459218112, 12.433172626928851, 179.46005612611773, 160.53950298916212]\n",
      "D:\\SDSU\\Final Project\\Images\\imset\\friends-1.jpg\n",
      "normalized_X_coordinates =  [-2.0156936212019487, 0.0, 26.59185450862755, -23.48529174923897, 45.46492191200907, -33.55284136804668, 46.23742689463226, -43.240835974839605, 20.569087090817366, -10.859767313707959]\n",
      "normalized_Y_coordinates =  [-48.342261345422706, 0.0, 16.09280166294983, 24.58834741224177, 105.23590120989951, 115.89102900209241, 196.40111219857107, 44.21396814044282, 166.35369840775033, 170.18146039089774]\n",
      "D:\\SDSU\\Final Project\\Images\\imset\\front-full-1.jpg\n",
      "normalized_X_coordinates =  [-1.2240031829629234, 0.0, 25.806858466985894, -25.02708547772506, 53.01093329221774, -61.14340798021892, 79.5617927916539, -92.89512076439003, 16.220243408893925, -14.335573531496225]\n",
      "normalized_Y_coordinates =  [-32.72075808566549, 0.0, 14.949209793754253, 17.128440089847736, -0.06890607916789733, -12.306126304294743, -48.356514391691775, -66.89523717631464, 166.02711107419884, 169.22742957654208]\n"
     ]
    }
   ],
   "source": [
    "images = {name: cv2.imread(name) for name in glob.glob('D:\\SDSU\\Final Project\\Images\\imset/*jpg')}\n",
    "\n",
    "for name, image in images.items():\n",
    "#     plt.figure()\n",
    "#     plt.imshow(image)\n",
    "    print(name)   \n",
    "#     cv2.imshow('image',image)\n",
    "#     cv2.waitKey(0)\n",
    "    normalized_X_coordinates, normalized_Y_coordinates = get_ten_joints(image)\n",
    "    print(\"normalized_X_coordinates = \", normalized_X_coordinates)\n",
    "    print(\"normalized_Y_coordinates = \", normalized_Y_coordinates)"
   ]
  },
  {
   "cell_type": "markdown",
   "metadata": {},
   "source": [
    "# try on video dataset get link "
   ]
  },
  {
   "cell_type": "code",
   "execution_count": null,
   "metadata": {},
   "outputs": [],
   "source": [
    "import cv2\n",
    "import os\n",
    "cap = cv2.VideoCapture('sampleOP.mp4')\n",
    "count = 0\n",
    "path = 'D:\\SDSU\\Final Project\\Images\\sampleOP'\n",
    "fps = cap.get(cv2.CAP_PROP_FPS)\n",
    "print(fps)\n",
    "while cap.isOpened():\n",
    "    ret, frame = cap.read()\n",
    "\n",
    "    if ret:\n",
    "        cv2.imwrite(os.path.join(path, 'frame{:d}.jpg'.format(count)), frame)\n",
    "        count += 150 # i.e. at 30 fps, this advances one second\n",
    "        cap.set(1, count)\n",
    "    else:\n",
    "        cap.release()\n",
    "        break"
   ]
  },
  {
   "cell_type": "code",
   "execution_count": 4,
   "metadata": {
    "scrolled": true
   },
   "outputs": [
    {
     "name": "stdout",
     "output_type": "stream",
     "text": [
      "D:\\SDSU\\Final Project\\Images\\confused/mixedsamples\\chin (1).jpg\n",
      "normalized_X_coordinates =  [-3.359994141662374, 0.0, 28.26364443023154, -21.80330915019867, 39.93959417368503, -23.860618123348722, -5.954259737057889, -5.906477855875137, 23.32287419666635, -11.214934257750816]\n",
      "normalized_Y_coordinates =  [-52.12860262912253, 0.0, 24.581267664083846, 27.48169328855431, 133.94079542913926, 128.88124455576357, 101.65123953649649, 9.987417888264405, 175.15440349993497, 176.840413936042]\n",
      "D:\\SDSU\\Final Project\\Images\\confused/mixedsamples\\chin (2).jpg\n",
      "normalized_X_coordinates =  [-1.6482894308865073, 0.0, 25.478429091162983, -24.966619908809662, 30.248492606915537, -24.946913495659828, -12.149062869139016, -7.343390840105713, 14.65752145741135, -17.035572067834437]\n",
      "normalized_Y_coordinates =  [-49.350560162247724, 0.0, 20.58595529123515, 19.555829853570767, 126.79196325670772, 115.24146845360764, 102.44679425944801, -5.459656084285057, 170.6611491051041, 167.71936086045596]\n",
      "D:\\SDSU\\Final Project\\Images\\confused/mixedsamples\\chin (3).jpg\n",
      "normalized_X_coordinates =  [-0.24794960158995483, 0.0, 25.125425094845646, -25.1131344800708, 35.09058897522674, -24.164784811008943, -1.098772712137514, 1.5031227435188668, 16.691998229629686, -15.940847821619327]\n",
      "normalized_Y_coordinates =  [-46.313237457375266, 0.0, 20.338835891004628, 19.422016780413877, 120.64250907348713, 110.4815274633038, 119.7927418179537, 2.500335521098824, 170.70539434542832, 170.82417360775133]\n",
      "D:\\SDSU\\Final Project\\Images\\confused/mixedsamples\\chin (6).jpg\n",
      "normalized_X_coordinates =  [-2.1323749024397247, 0.0, 24.798617545206834, -25.34116647046083, 31.78617248109951, -31.57993987867027, 3.541212476742495, 16.230331940256107, 18.745016672049356, -17.575786979335128]\n",
      "normalized_Y_coordinates =  [-48.6870773964458, 0.0, 20.455220010545517, 26.491086350546944, 110.94631718264685, 123.80729284551408, -2.797438038720025, 88.91714281506009, 171.08143435584174, 171.87604771720038]\n",
      "D:\\SDSU\\Final Project\\Images\\confused/mixedsamples\\chin (7).jpg\n",
      "normalized_X_coordinates =  [0.05617767261962836, 0.0, 26.371275509397197, -23.93621656422813, 16.968406985203433, -17.315316138168168, -18.76044704889257, -12.507089398180437, 11.74657984326284, -21.916465748411905]\n",
      "normalized_Y_coordinates =  [-52.59696169380556, 0.0, 26.076785017523846, 21.327066473793565, 132.90329118046844, 131.7742356867121, 52.81637731874198, -2.858911245538477, 176.50615633056873, 172.1412236491839]\n",
      "D:\\SDSU\\Final Project\\Images\\confused/mixedsamples\\frame0.jpg\n",
      "normalized_X_coordinates =  [0.2994738127055921, 0.0, 23.829102097896108, -26.196409526624176, 36.68674669767681, -42.31707924290707, 39.90407575640762, -32.46719628049616, 15.046250192742598, -16.913497657106632]\n",
      "normalized_Y_coordinates =  [-42.08398582343768, 0.0, 19.276696040218038, 15.240491781019626, 86.68256881541775, 84.54967620677517, 144.56826941411296, 129.19915529122028, 169.61376111310227, 169.17505658658823]\n",
      "D:\\SDSU\\Final Project\\Images\\confused/mixedsamples\\frame1050.jpg\n",
      "normalized_X_coordinates =  [-4.125109033508655, 0.0, 26.95595716318037, -23.091686192361713, 54.38989285587315, -36.231625744642805, 74.10711260243352, -59.465801078440535, 22.744440245818218, -9.712774734583874]\n",
      "normalized_Y_coordinates =  [-45.19975277093741, 0.0, 12.108646906339207, 24.186790906465973, 91.48635314061092, 115.49712511209341, 23.619961738586426, 56.28769947932317, 162.16889894925632, 165.1207813849816]\n",
      "D:\\SDSU\\Final Project\\Images\\confused/mixedsamples\\frame10800.jpg\n",
      "normalized_X_coordinates =  [-3.7789521393952548, 0.0, 27.61755407057226, -22.522011188545616, 47.57653824006668, -33.85954834395386, 64.38260447698009, -38.00053066677518, 19.61542379976523, -11.185912572173558]\n",
      "normalized_Y_coordinates =  [-39.65368333466013, 0.0, 11.333824626585749, 20.371089402701802, 80.69685592287196, 93.0310484902102, 159.4464255403505, 172.64095809408474, 161.40653011622462, 163.70788849623506]\n",
      "D:\\SDSU\\Final Project\\Images\\confused/mixedsamples\\frame13650.jpg\n",
      "normalized_X_coordinates =  [-1.7177179049201075, 0.0, 26.751598570836123, -23.28334188404739, 44.17080952745034, -45.41943958504202, 81.09327793686982, -76.89236180496668, 17.218303567291304, -14.660985727185734]\n",
      "normalized_Y_coordinates =  [-46.28057540217533, 0.0, 22.978401787673373, 18.88866183124011, 101.26348628273493, 89.25381189660182, 103.80226026607465, 123.56440145758135, 173.2360061210922, 171.30439190924923]\n",
      "D:\\SDSU\\Final Project\\Images\\confused/mixedsamples\\frame14550.jpg\n",
      "normalized_X_coordinates =  [-2.6899837797081134, 0.0, 26.69788736182742, -23.420182269945965, 41.38726837411612, -36.624003418258354, 72.09792991267123, -61.05802180786856, 19.015779416049227, -13.959278274119814]\n",
      "normalized_Y_coordinates =  [-45.31429019676247, 0.0, 18.82873150297833, 19.760865850497016, 105.33207987770815, 105.29732825187257, 93.52512105467355, 95.34828251388471, 168.94778200817592, 167.85932252854863]\n",
      "D:\\SDSU\\Final Project\\Images\\confused/mixedsamples\\frame150.jpg\n",
      "normalized_X_coordinates =  [-4.721415411565721, 0.0, 26.6405282561312, -23.36397859239087, 52.440872716739825, -35.94098304145525, 68.47917091395847, -52.99178185741516, 24.164881493217756, -9.776734814201435]\n",
      "normalized_Y_coordinates =  [-44.537621647564336, 0.0, 10.914199387849267, 25.091315383341776, 92.93253208274272, 121.02869553352471, 29.206016170444776, 48.00581932067871, 161.265129473672, 165.03479409573683]\n",
      "D:\\SDSU\\Final Project\\Images\\confused/mixedsamples\\frame15150.jpg\n",
      "normalized_X_coordinates =  [0.023075420622435675, 0.0, 28.32301817794191, -21.772252960369674, 43.26832307323798, -34.78553714361262, 53.84379966102115, -38.279941809858954, 19.096327188074145, -11.981171954668321]\n",
      "normalized_Y_coordinates =  [-45.04314131535608, 0.0, 23.081607913261017, 18.032702855377575, 102.611051303873, 95.95935397940889, 187.26476250452086, 188.2171636775469, 173.20965714845113, 172.11483666677924]\n",
      "D:\\SDSU\\Final Project\\Images\\confused/mixedsamples\\frame15750.jpg\n",
      "normalized_X_coordinates =  [-3.0719805182072095, 0.0, 26.48572754441647, -23.55769224334181, 38.63291573106198, -31.419670372678517, 29.794086489761092, -21.986545177928182, 21.39758645442495, -9.83869820310358]\n",
      "normalized_Y_coordinates =  [-44.2229304740678, 0.0, 13.11327450311006, 25.69670997448822, 88.32899670102704, 104.94027742699012, 167.5515388374898, 188.24320408835342, 163.12629429262077, 168.73414480864113]\n",
      "D:\\SDSU\\Final Project\\Images\\confused/mixedsamples\\frame15900.jpg\n",
      "normalized_X_coordinates =  [-1.7613556240295833, 0.0, 21.43118772036978, -28.621192923389618, 43.980073000284136, -42.382051308403575, 55.42173964597652, -54.062546187113504, 19.927489115746713, -15.376092095828405]\n",
      "normalized_Y_coordinates =  [-50.049622345458516, 0.0, 21.237936776007533, 29.209341234563258, 95.95227241516113, 116.9204407030969, 7.090344758289854, 16.506141408934923, 171.39907749107732, 176.4523428114479]\n",
      "D:\\SDSU\\Final Project\\Images\\confused/mixedsamples\\frame16800.jpg\n",
      "normalized_X_coordinates =  [-3.6965887176042993, 0.0, 26.45835559704692, -23.597545329644863, 52.15469939570128, -39.47643311705312, 53.37272815998481, -74.54981187343031, 22.221027885608976, -11.0054740136487]\n",
      "normalized_Y_coordinates =  [-41.90381221911487, 0.0, 10.496714535881493, 24.490603629280542, 84.51883582507864, 102.19096436220057, 30.642202671836408, 105.05744113641627, 160.51159185521743, 164.29306479061353]\n",
      "D:\\SDSU\\Final Project\\Images\\confused/mixedsamples\\frame1800.jpg\n",
      "normalized_X_coordinates =  [0.43180289210019274, 0.0, 25.329298531862943, -24.812893989758606, 32.695185513533616, -31.954364500183985, 34.041020915393986, -25.044589005452195, 16.60120739718877, -13.559607226181448]\n",
      "normalized_Y_coordinates =  [-47.55524114558571, 0.0, 23.132759646365518, 17.769403206674678, 111.57799770957546, 99.94806364962929, 208.32471220116867, 191.39881008549742, 173.19164778056899, 173.487357089394]\n",
      "D:\\SDSU\\Final Project\\Images\\confused/mixedsamples\\frame1950.jpg\n",
      "normalized_X_coordinates =  [-0.6179138116448426, 0.0, 26.39446741152386, -23.649173732375687, 33.89889598548477, -29.06598090076342, 36.65763972484894, -22.875715534810322, 17.966227431764167, -11.450797942343069]\n",
      "normalized_Y_coordinates =  [-47.21339501832661, 0.0, 20.991916405527217, 18.632967221109492, 110.26763414081775, 100.92321320583946, 204.5063420345909, 190.62009987078216, 171.03103524760198, 171.5901148946662]\n",
      "D:\\SDSU\\Final Project\\Images\\confused/mixedsamples\\frame2100.jpg\n"
     ]
    },
    {
     "name": "stdout",
     "output_type": "stream",
     "text": [
      "normalized_X_coordinates =  [-0.648066449705451, 0.0, 25.97874885238104, -24.114806289425946, 34.012982760432465, -29.260308225563815, 35.57302110789277, -22.79192112796129, 17.603340272378766, -11.15787222161648]\n",
      "normalized_Y_coordinates =  [-49.55149743151157, 0.0, 20.680499203661654, 22.71294023128266, 107.58550940675939, 106.21799370075794, 201.0660691464201, 193.49888410974054, 170.75618847887566, 173.59974663308327]\n",
      "D:\\SDSU\\Final Project\\Images\\confused/mixedsamples\\frame2250.jpg\n",
      "normalized_X_coordinates =  [-2.283288286877917, 0.0, 27.288424504267706, -22.81778508966619, 34.42365472966974, -28.92562321254185, 33.3867630401215, -22.977098242028966, 19.156059661468902, -10.367610237815164]\n",
      "normalized_Y_coordinates =  [-46.129212355064915, 0.0, 18.292445965740075, 19.996388184140102, 106.4419404929861, 100.65877407103244, 196.43836436064348, 191.67571604404304, 168.48644820015753, 170.10140419006348]\n",
      "D:\\SDSU\\Final Project\\Images\\confused/mixedsamples\\frame3900.jpg\n",
      "normalized_X_coordinates =  [-1.2431600514580223, 0.0, 26.731883778291593, -23.441987879136033, 37.66939219306497, -37.805381943197816, 62.871273826150336, -55.46008839326747, 17.500456641702094, -15.366063398473404]\n",
      "normalized_Y_coordinates =  [-46.00152498797367, 0.0, 23.433438100312888, 18.713625481254176, 110.50077174839221, 99.67717747939261, 92.11080701727616, 102.66086678755912, 173.57089519500732, 171.12587251161276]\n",
      "D:\\SDSU\\Final Project\\Images\\confused/mixedsamples\\frame4800.jpg\n",
      "normalized_X_coordinates =  [-2.6603746244491635, 0.0, 25.918532945083133, -24.10729839284225, 43.79478807551157, -43.75133989544526, 82.5307038330947, -58.255898146442675, 16.194896765875225, -16.510844654884202]\n",
      "normalized_Y_coordinates =  [-47.3774615235216, 0.0, 20.45503000574788, 19.872344384981893, 105.33303163183018, 100.13767302505615, 109.04064704114059, 28.095954985130493, 170.84496040043868, 170.0367664727639]\n",
      "D:\\SDSU\\Final Project\\Images\\confused/mixedsamples\\frame5250.jpg\n",
      "normalized_X_coordinates =  [-2.153852324941504, 0.0, 25.925007177677458, -24.214800143297463, 45.944991923156586, -39.50013869848007, 64.1829528452911, -61.46939373238659, 21.392346539975318, -12.148959375483734]\n",
      "normalized_Y_coordinates =  [-46.60391533861355, 0.0, 18.567843704807515, 25.297270745647197, 98.54353264886505, 113.64363590065314, 65.38399020019843, 66.15365828786577, 168.5802577709665, 171.02130882594048]\n",
      "D:\\SDSU\\Final Project\\Images\\confused/mixedsamples\\frame5850.jpg\n",
      "normalized_X_coordinates =  [-0.9889931869095386, 0.0, 25.047392778283434, -25.073433128118264, 40.58213630026083, -40.20452242195928, 34.94448286301366, -35.45481693140255, 17.42056606914104, -12.859204569037813]\n",
      "normalized_Y_coordinates =  [-43.29092860221863, 0.0, 15.769205689430237, 20.76162278652191, 88.32712233066559, 97.0665317773819, 170.41314661502838, 169.11242544651031, 166.1062377691269, 169.17374074459076]\n",
      "D:\\SDSU\\Final Project\\Images\\confused/mixedsamples\\frame6300.jpg\n",
      "normalized_X_coordinates =  [-3.4264978805890802, 0.0, 26.16481115384797, -23.92412637832219, 50.92674099294432, -38.14506301237214, 40.20421915249418, -38.587609209595456, 19.530005977185347, -14.181086589569931]\n",
      "normalized_Y_coordinates =  [-45.459820378211234, 0.0, 13.94166100409723, 21.09256867439516, 103.55596003993864, 120.02782091017691, 33.5582475508413, 44.18389643392255, 164.04693741952218, 164.04223057531541]\n",
      "D:\\SDSU\\Final Project\\Images\\confused/mixedsamples\\frame6450.jpg\n",
      "normalized_X_coordinates =  [-4.147227548619607, 0.0, 27.45010674636135, -22.697068618285698, 57.071231013939475, -46.53000067985779, 72.742631851142, -60.531147858426245, 21.554634664406557, -11.859846284805243]\n",
      "normalized_Y_coordinates =  [-39.70762837696545, 0.0, 14.098573200808369, 22.264369602861077, 71.63630095608715, 76.66367497937432, 6.253325880454678, 10.083663052526013, 164.34470186092582, 165.51866907204314]\n",
      "D:\\SDSU\\Final Project\\Images\\confused/mixedsamples\\frame9150.jpg\n",
      "normalized_X_coordinates =  [-1.0055644171578544, 0.0, 23.27284131731306, -26.863922391619003, 53.25085776192802, -57.069383348737446, 100.64776284354073, -97.02589852469308, 21.704156058175222, -10.541984013148717]\n",
      "normalized_Y_coordinates =  [-44.33213302067348, 0.0, 18.83798156465803, 21.526551246643066, 76.40989678246635, 86.32723433630807, 83.58371768678938, 117.86178180149624, 168.97666965212142, 171.75077881131853]\n",
      "D:\\SDSU\\Final Project\\Images\\confused/mixedsamples\\frame9600.jpg\n",
      "normalized_X_coordinates =  [-1.7455026289697904, 0.0, 32.08951709438289, -18.099238989679296, 55.53308109521549, -33.67884257241865, 98.59747209080345, -71.0472598335499, 20.538917734011875, -12.345034129432781]\n",
      "normalized_Y_coordinates =  [-46.290777302995515, 0.0, 21.463044685653493, 18.375796305982373, 97.53819538068169, 76.4792068095147, 56.848516947106475, 54.0427660640282, 171.73838011826143, 169.9871081340162]\n",
      "D:\\SDSU\\Final Project\\Images\\confused/mixedsamples\\hands (10).jpg\n",
      "normalized_X_coordinates =  [0.41248723357713624, 0.0, 24.98012260616232, -25.023649105814844, 36.36768100922611, -38.047479949638145, 48.02962912081862, -51.29576170829688, 15.774022828356754, -17.74405977454315]\n",
      "normalized_Y_coordinates =  [-52.81101960850798, 0.0, 22.558700533016868, 25.07440780815871, 122.0600326164909, 123.930943608284, 33.79019655611204, 17.35693643922391, 172.62594984925312, 171.00480056327322]\n",
      "D:\\SDSU\\Final Project\\Images\\confused/mixedsamples\\hands (11).jpg\n",
      "normalized_X_coordinates =  [-1.6181064752845078, 0.0, 25.804599153028953, -24.29982941966873, 36.4546476989179, -30.674385621741013, 68.2338280989243, -61.20511388724989, 21.842363798940504, -10.450611511866251]\n",
      "normalized_Y_coordinates =  [-42.275662452317356, 0.0, 15.008722036407233, 18.858171832025718, 96.56055555417296, 106.92458210533924, 88.22112651855757, 85.73778416501001, 165.26728226395136, 165.88680353224947]\n",
      "D:\\SDSU\\Final Project\\Images\\confused/mixedsamples\\hands (12).jpg\n",
      "normalized_X_coordinates =  [0.17834109138454912, 0.0, 25.746259498878345, -24.411387979631595, 50.614140619187665, -41.46276239812727, 49.390632584250184, -48.32883232091306, 20.65409573577565, -14.109813073683068]\n",
      "normalized_Y_coordinates =  [-46.934174101001446, 0.0, 17.185579519718885, 24.155897514096328, 103.15668511071375, 110.9875012588288, -11.546220816671848, 5.20391667793904, 167.23347207797423, 170.84909557764018]\n",
      "D:\\SDSU\\Final Project\\Images\\confused/mixedsamples\\hands (4).jpg\n",
      "normalized_X_coordinates =  [-3.912500888109207, 0.0, 28.073063120245934, -21.92939057946205, 44.907775446772575, -37.61391691863537, 71.3581521064043, -70.2092918753624, 16.87028832733631, -17.677724733948708]\n",
      "normalized_Y_coordinates =  [-38.63686667755246, 0.0, 13.789453543722633, 17.822813056409363, 95.29808908700943, 93.99730041623116, 50.67510642111302, 46.04138024151326, 164.1228571534157, 159.95921436697247]\n",
      "D:\\SDSU\\Final Project\\Images\\confused/mixedsamples\\hands (6).jpg\n",
      "normalized_X_coordinates =  [1.9552639552525113, 0.0, 22.440198489597865, -27.723026275634766, 36.337811606270925, -43.44619682856968, 67.99114261354718, -72.02237503869193, 18.290177413395472, -14.44244384765625]\n",
      "normalized_Y_coordinates =  [-43.69303678211413, 0.0, 18.210585493790475, 19.00951862335205, 92.47333125064247, 108.2708195636147, 70.41525087858501, 64.95358128296701, 168.48410054257042, 172.3642763338591]\n",
      "D:\\SDSU\\Final Project\\Images\\confused/mixedsamples\\hands (7).jpg\n",
      "normalized_X_coordinates =  [-0.5710717651151841, 0.0, 25.58106905029666, -24.661614817957723, 32.03807482796331, -35.37458344813316, 47.05922286356649, -54.33228592718801, 16.839616048720575, -18.36567626845452]\n",
      "normalized_Y_coordinates =  [-48.99411138970308, 0.0, 20.68426684940352, 22.457010915663354, 127.81550759233339, 125.08601186873761, 24.923892056897333, 11.595691947008335, 170.887710092666, 167.64296315582504]\n",
      "D:\\SDSU\\Final Project\\Images\\confused/mixedsamples\\hands (8).jpg\n",
      "normalized_X_coordinates =  [1.7101957729169466, 0.0, 24.735758920979947, -25.33575334730423, 35.163664645723166, -41.64551316596704, 57.38301320964584, -56.09319890186855, 12.972388602304342, -22.226571129375863]\n",
      "normalized_Y_coordinates =  [-43.98708095667893, 0.0, 20.560552419158462, 17.195804455737374, 116.10827614297521, 110.603062430194, 31.801911787047903, 10.661772773673498, 171.29538647560258, 166.9464197029104]\n",
      "D:\\SDSU\\Final Project\\Images\\confused/mixedsamples\\hands (9).jpg\n",
      "normalized_X_coordinates =  [-1.0469604160121133, 0.0, 27.02680394547259, -23.208214275785824, 38.00965328546527, -34.433278522761015, 52.423627723959676, -53.48026629893171, 19.159188959566002, -14.363366167912478]\n",
      "normalized_Y_coordinates =  [-48.36668808744332, 0.0, 19.377163428569506, 22.312322802075716, 125.68818784762765, 119.60283151575338, 35.237870873691875, 38.19038238480826, 169.614113741946, 168.39444662365958]\n"
     ]
    }
   ],
   "source": [
    "images = {name: cv2.imread(name) for name in glob.glob('D:\\SDSU\\Final Project\\Images\\confused/mixedsamples/*jpg')}\n",
    "LLEVideoArray = []\n",
    "for name, image in images.items():\n",
    "#     plt.figure()\n",
    "#     plt.imshow(image)\n",
    "    print(name)   \n",
    "#     cv2.imshow('image',image)\n",
    "#     cv2.waitKey(0)s\n",
    "    normalized_X_coordinates, normalized_Y_coordinates = get_ten_joints(image)\n",
    "    print(\"normalized_X_coordinates = \", normalized_X_coordinates)\n",
    "    print(\"normalized_Y_coordinates = \", normalized_Y_coordinates)\n",
    "    LLEVideoArray.append([normalized_X_coordinates, normalized_Y_coordinates])"
   ]
  },
  {
   "cell_type": "code",
   "execution_count": 5,
   "metadata": {
    "scrolled": true
   },
   "outputs": [
    {
     "name": "stdout",
     "output_type": "stream",
     "text": [
      "35\n"
     ]
    }
   ],
   "source": [
    "print(len(LLEVideoArray))"
   ]
  },
  {
   "cell_type": "code",
   "execution_count": 11,
   "metadata": {},
   "outputs": [
    {
     "name": "stdout",
     "output_type": "stream",
     "text": [
      "[[-1.6482894308865073, 0.0, 25.478429091162983, -24.966619908809662, 30.248492606915537, -24.946913495659828, -12.149062869139016, -7.343390840105713, 14.65752145741135, -17.035572067834437], [-49.350560162247724, 0.0, 20.58595529123515, 19.555829853570767, 126.79196325670772, 115.24146845360764, 102.44679425944801, -5.459656084285057, 170.6611491051041, 167.71936086045596]]\n"
     ]
    }
   ],
   "source": [
    "print(LLEVideoArray[1])"
   ]
  },
  {
   "cell_type": "code",
   "execution_count": 7,
   "metadata": {
    "scrolled": true
   },
   "outputs": [
    {
     "name": "stdout",
     "output_type": "stream",
     "text": [
      "[[-3.359994141662374, -52.12860262912253, 0.0, 0.0, 28.26364443023154, 24.581267664083846, -21.80330915019867, 27.48169328855431, 39.93959417368503, 133.94079542913926, -23.860618123348722, 128.88124455576357, -5.954259737057889, 101.65123953649649, -5.906477855875137, 9.987417888264405, 23.32287419666635, 175.15440349993497, -11.214934257750816, 176.840413936042], [-1.6482894308865073, -49.350560162247724, 0.0, 0.0, 25.478429091162983, 20.58595529123515, -24.966619908809662, 19.555829853570767, 30.248492606915537, 126.79196325670772, -24.946913495659828, 115.24146845360764, -12.149062869139016, 102.44679425944801, -7.343390840105713, -5.459656084285057, 14.65752145741135, 170.6611491051041, -17.035572067834437, 167.71936086045596], [-0.24794960158995483, -46.313237457375266, 0.0, 0.0, 25.125425094845646, 20.338835891004628, -25.1131344800708, 19.422016780413877, 35.09058897522674, 120.64250907348713, -24.164784811008943, 110.4815274633038, -1.098772712137514, 119.7927418179537, 1.5031227435188668, 2.500335521098824, 16.691998229629686, 170.70539434542832, -15.940847821619327, 170.82417360775133], [-2.1323749024397247, -48.6870773964458, 0.0, 0.0, 24.798617545206834, 20.455220010545517, -25.34116647046083, 26.491086350546944, 31.78617248109951, 110.94631718264685, -31.57993987867027, 123.80729284551408, 3.541212476742495, -2.797438038720025, 16.230331940256107, 88.91714281506009, 18.745016672049356, 171.08143435584174, -17.575786979335128, 171.87604771720038], [0.05617767261962836, -52.59696169380556, 0.0, 0.0, 26.371275509397197, 26.076785017523846, -23.93621656422813, 21.327066473793565, 16.968406985203433, 132.90329118046844, -17.315316138168168, 131.7742356867121, -18.76044704889257, 52.81637731874198, -12.507089398180437, -2.858911245538477, 11.74657984326284, 176.50615633056873, -21.916465748411905, 172.1412236491839], [0.2994738127055921, -42.08398582343768, 0.0, 0.0, 23.829102097896108, 19.276696040218038, -26.196409526624176, 15.240491781019626, 36.68674669767681, 86.68256881541775, -42.31707924290707, 84.54967620677517, 39.90407575640762, 144.56826941411296, -32.46719628049616, 129.19915529122028, 15.046250192742598, 169.61376111310227, -16.913497657106632, 169.17505658658823], [-4.125109033508655, -45.19975277093741, 0.0, 0.0, 26.95595716318037, 12.108646906339207, -23.091686192361713, 24.186790906465973, 54.38989285587315, 91.48635314061092, -36.231625744642805, 115.49712511209341, 74.10711260243352, 23.619961738586426, -59.465801078440535, 56.28769947932317, 22.744440245818218, 162.16889894925632, -9.712774734583874, 165.1207813849816], [-3.7789521393952548, -39.65368333466013, 0.0, 0.0, 27.61755407057226, 11.333824626585749, -22.522011188545616, 20.371089402701802, 47.57653824006668, 80.69685592287196, -33.85954834395386, 93.0310484902102, 64.38260447698009, 159.4464255403505, -38.00053066677518, 172.64095809408474, 19.61542379976523, 161.40653011622462, -11.185912572173558, 163.70788849623506], [-1.7177179049201075, -46.28057540217533, 0.0, 0.0, 26.751598570836123, 22.978401787673373, -23.28334188404739, 18.88866183124011, 44.17080952745034, 101.26348628273493, -45.41943958504202, 89.25381189660182, 81.09327793686982, 103.80226026607465, -76.89236180496668, 123.56440145758135, 17.218303567291304, 173.2360061210922, -14.660985727185734, 171.30439190924923], [-2.6899837797081134, -45.31429019676247, 0.0, 0.0, 26.69788736182742, 18.82873150297833, -23.420182269945965, 19.760865850497016, 41.38726837411612, 105.33207987770815, -36.624003418258354, 105.29732825187257, 72.09792991267123, 93.52512105467355, -61.05802180786856, 95.34828251388471, 19.015779416049227, 168.94778200817592, -13.959278274119814, 167.85932252854863], [-4.721415411565721, -44.537621647564336, 0.0, 0.0, 26.6405282561312, 10.914199387849267, -23.36397859239087, 25.091315383341776, 52.440872716739825, 92.93253208274272, -35.94098304145525, 121.02869553352471, 68.47917091395847, 29.206016170444776, -52.99178185741516, 48.00581932067871, 24.164881493217756, 161.265129473672, -9.776734814201435, 165.03479409573683], [0.023075420622435675, -45.04314131535608, 0.0, 0.0, 28.32301817794191, 23.081607913261017, -21.772252960369674, 18.032702855377575, 43.26832307323798, 102.611051303873, -34.78553714361262, 95.95935397940889, 53.84379966102115, 187.26476250452086, -38.279941809858954, 188.2171636775469, 19.096327188074145, 173.20965714845113, -11.981171954668321, 172.11483666677924], [-3.0719805182072095, -44.2229304740678, 0.0, 0.0, 26.48572754441647, 13.11327450311006, -23.55769224334181, 25.69670997448822, 38.63291573106198, 88.32899670102704, -31.419670372678517, 104.94027742699012, 29.794086489761092, 167.5515388374898, -21.986545177928182, 188.24320408835342, 21.39758645442495, 163.12629429262077, -9.83869820310358, 168.73414480864113], [-1.7613556240295833, -50.049622345458516, 0.0, 0.0, 21.43118772036978, 21.237936776007533, -28.621192923389618, 29.209341234563258, 43.980073000284136, 95.95227241516113, -42.382051308403575, 116.9204407030969, 55.42173964597652, 7.090344758289854, -54.062546187113504, 16.506141408934923, 19.927489115746713, 171.39907749107732, -15.376092095828405, 176.4523428114479], [-3.6965887176042993, -41.90381221911487, 0.0, 0.0, 26.45835559704692, 10.496714535881493, -23.597545329644863, 24.490603629280542, 52.15469939570128, 84.51883582507864, -39.47643311705312, 102.19096436220057, 53.37272815998481, 30.642202671836408, -74.54981187343031, 105.05744113641627, 22.221027885608976, 160.51159185521743, -11.0054740136487, 164.29306479061353], [0.43180289210019274, -47.55524114558571, 0.0, 0.0, 25.329298531862943, 23.132759646365518, -24.812893989758606, 17.769403206674678, 32.695185513533616, 111.57799770957546, -31.954364500183985, 99.94806364962929, 34.041020915393986, 208.32471220116867, -25.044589005452195, 191.39881008549742, 16.60120739718877, 173.19164778056899, -13.559607226181448, 173.487357089394], [-0.6179138116448426, -47.21339501832661, 0.0, 0.0, 26.39446741152386, 20.991916405527217, -23.649173732375687, 18.632967221109492, 33.89889598548477, 110.26763414081775, -29.06598090076342, 100.92321320583946, 36.65763972484894, 204.5063420345909, -22.875715534810322, 190.62009987078216, 17.966227431764167, 171.03103524760198, -11.450797942343069, 171.5901148946662], [-0.648066449705451, -49.55149743151157, 0.0, 0.0, 25.97874885238104, 20.680499203661654, -24.114806289425946, 22.71294023128266, 34.012982760432465, 107.58550940675939, -29.260308225563815, 106.21799370075794, 35.57302110789277, 201.0660691464201, -22.79192112796129, 193.49888410974054, 17.603340272378766, 170.75618847887566, -11.15787222161648, 173.59974663308327], [-2.283288286877917, -46.129212355064915, 0.0, 0.0, 27.288424504267706, 18.292445965740075, -22.81778508966619, 19.996388184140102, 34.42365472966974, 106.4419404929861, -28.92562321254185, 100.65877407103244, 33.3867630401215, 196.43836436064348, -22.977098242028966, 191.67571604404304, 19.156059661468902, 168.48644820015753, -10.367610237815164, 170.10140419006348], [-1.2431600514580223, -46.00152498797367, 0.0, 0.0, 26.731883778291593, 23.433438100312888, -23.441987879136033, 18.713625481254176, 37.66939219306497, 110.50077174839221, -37.805381943197816, 99.67717747939261, 62.871273826150336, 92.11080701727616, -55.46008839326747, 102.66086678755912, 17.500456641702094, 173.57089519500732, -15.366063398473404, 171.12587251161276], [-2.6603746244491635, -47.3774615235216, 0.0, 0.0, 25.918532945083133, 20.45503000574788, -24.10729839284225, 19.872344384981893, 43.79478807551157, 105.33303163183018, -43.75133989544526, 100.13767302505615, 82.5307038330947, 109.04064704114059, -58.255898146442675, 28.095954985130493, 16.194896765875225, 170.84496040043868, -16.510844654884202, 170.0367664727639], [-2.153852324941504, -46.60391533861355, 0.0, 0.0, 25.925007177677458, 18.567843704807515, -24.214800143297463, 25.297270745647197, 45.944991923156586, 98.54353264886505, -39.50013869848007, 113.64363590065314, 64.1829528452911, 65.38399020019843, -61.46939373238659, 66.15365828786577, 21.392346539975318, 168.5802577709665, -12.148959375483734, 171.02130882594048], [-0.9889931869095386, -43.29092860221863, 0.0, 0.0, 25.047392778283434, 15.769205689430237, -25.073433128118264, 20.76162278652191, 40.58213630026083, 88.32712233066559, -40.20452242195928, 97.0665317773819, 34.94448286301366, 170.41314661502838, -35.45481693140255, 169.11242544651031, 17.42056606914104, 166.1062377691269, -12.859204569037813, 169.17374074459076], [-3.4264978805890802, -45.459820378211234, 0.0, 0.0, 26.16481115384797, 13.94166100409723, -23.92412637832219, 21.09256867439516, 50.92674099294432, 103.55596003993864, -38.14506301237214, 120.02782091017691, 40.20421915249418, 33.5582475508413, -38.587609209595456, 44.18389643392255, 19.530005977185347, 164.04693741952218, -14.181086589569931, 164.04223057531541], [-4.147227548619607, -39.70762837696545, 0.0, 0.0, 27.45010674636135, 14.098573200808369, -22.697068618285698, 22.264369602861077, 57.071231013939475, 71.63630095608715, -46.53000067985779, 76.66367497937432, 72.742631851142, 6.253325880454678, -60.531147858426245, 10.083663052526013, 21.554634664406557, 164.34470186092582, -11.859846284805243, 165.51866907204314], [-1.0055644171578544, -44.33213302067348, 0.0, 0.0, 23.27284131731306, 18.83798156465803, -26.863922391619003, 21.526551246643066, 53.25085776192802, 76.40989678246635, -57.069383348737446, 86.32723433630807, 100.64776284354073, 83.58371768678938, -97.02589852469308, 117.86178180149624, 21.704156058175222, 168.97666965212142, -10.541984013148717, 171.75077881131853], [-1.7455026289697904, -46.290777302995515, 0.0, 0.0, 32.08951709438289, 21.463044685653493, -18.099238989679296, 18.375796305982373, 55.53308109521549, 97.53819538068169, -33.67884257241865, 76.4792068095147, 98.59747209080345, 56.848516947106475, -71.0472598335499, 54.0427660640282, 20.538917734011875, 171.73838011826143, -12.345034129432781, 169.9871081340162], [0.41248723357713624, -52.81101960850798, 0.0, 0.0, 24.98012260616232, 22.558700533016868, -25.023649105814844, 25.07440780815871, 36.36768100922611, 122.0600326164909, -38.047479949638145, 123.930943608284, 48.02962912081862, 33.79019655611204, -51.29576170829688, 17.35693643922391, 15.774022828356754, 172.62594984925312, -17.74405977454315, 171.00480056327322], [-1.6181064752845078, -42.275662452317356, 0.0, 0.0, 25.804599153028953, 15.008722036407233, -24.29982941966873, 18.858171832025718, 36.4546476989179, 96.56055555417296, -30.674385621741013, 106.92458210533924, 68.2338280989243, 88.22112651855757, -61.20511388724989, 85.73778416501001, 21.842363798940504, 165.26728226395136, -10.450611511866251, 165.88680353224947], [0.17834109138454912, -46.934174101001446, 0.0, 0.0, 25.746259498878345, 17.185579519718885, -24.411387979631595, 24.155897514096328, 50.614140619187665, 103.15668511071375, -41.46276239812727, 110.9875012588288, 49.390632584250184, -11.546220816671848, -48.32883232091306, 5.20391667793904, 20.65409573577565, 167.23347207797423, -14.109813073683068, 170.84909557764018], [-3.912500888109207, -38.63686667755246, 0.0, 0.0, 28.073063120245934, 13.789453543722633, -21.92939057946205, 17.822813056409363, 44.907775446772575, 95.29808908700943, -37.61391691863537, 93.99730041623116, 71.3581521064043, 50.67510642111302, -70.2092918753624, 46.04138024151326, 16.87028832733631, 164.1228571534157, -17.677724733948708, 159.95921436697247], [1.9552639552525113, -43.69303678211413, 0.0, 0.0, 22.440198489597865, 18.210585493790475, -27.723026275634766, 19.00951862335205, 36.337811606270925, 92.47333125064247, -43.44619682856968, 108.2708195636147, 67.99114261354718, 70.41525087858501, -72.02237503869193, 64.95358128296701, 18.290177413395472, 168.48410054257042, -14.44244384765625, 172.3642763338591], [-0.5710717651151841, -48.99411138970308, 0.0, 0.0, 25.58106905029666, 20.68426684940352, -24.661614817957723, 22.457010915663354, 32.03807482796331, 127.81550759233339, -35.37458344813316, 125.08601186873761, 47.05922286356649, 24.923892056897333, -54.33228592718801, 11.595691947008335, 16.839616048720575, 170.887710092666, -18.36567626845452, 167.64296315582504], [1.7101957729169466, -43.98708095667893, 0.0, 0.0, 24.735758920979947, 20.560552419158462, -25.33575334730423, 17.195804455737374, 35.163664645723166, 116.10827614297521, -41.64551316596704, 110.603062430194, 57.38301320964584, 31.801911787047903, -56.09319890186855, 10.661772773673498, 12.972388602304342, 171.29538647560258, -22.226571129375863, 166.9464197029104], [-1.0469604160121133, -48.36668808744332, 0.0, 0.0, 27.02680394547259, 19.377163428569506, -23.208214275785824, 22.312322802075716, 38.00965328546527, 125.68818784762765, -34.433278522761015, 119.60283151575338, 52.423627723959676, 35.237870873691875, -53.48026629893171, 38.19038238480826, 19.159188959566002, 169.614113741946, -14.363366167912478, 168.39444662365958]]\n"
     ]
    }
   ],
   "source": [
    "LLEFrames = []\n",
    "for k in range(len(LLEVideoArray)):\n",
    "    temp = []\n",
    "    for i in range(len(LLEVideoArray[k][0])):\n",
    "        temp.append(LLEVideoArray[k][0][i])\n",
    "        temp.append(LLEVideoArray[k][1][i])           \n",
    "    LLEFrames.append(temp)\n",
    "print(LLEFrames)"
   ]
  },
  {
   "cell_type": "code",
   "execution_count": 14,
   "metadata": {
    "scrolled": true
   },
   "outputs": [
    {
     "name": "stdout",
     "output_type": "stream",
     "text": [
      "Done. Reconstruction error: 0.00011692\n"
     ]
    }
   ],
   "source": [
    "from sklearn import manifold, datasets\n",
    "LLEReduced, err = manifold.locally_linear_embedding(LLEFrames,n_neighbors=20,\n",
    "                                             n_components=2)\n",
    "print(\"Done. Reconstruction error: %g\" % err)\n",
    "images = {name: cv2.imread(name) for name in glob.glob('D:\\SDSU\\Final Project\\Images\\confused/mixedsamples/*jpg')}\n",
    "imageNames = [name for name, image in images.items()]\n",
    "imagesArray = [np.array(cv2.imread(name)) for name, image in images.items()]\n",
    "names = []\n",
    "# for i in imageNames:\n",
    "#     print(name)\n",
    "#     names.append(i.split(\"\\\\\")[-1])\n",
    "#     print(imageNames)"
   ]
  },
  {
   "cell_type": "code",
   "execution_count": 15,
   "metadata": {
    "scrolled": true
   },
   "outputs": [
    {
     "data": {
      "application/vnd.jupyter.widget-view+json": {
       "model_id": "6d4493e9b2194e74adfc43f62aec6bc0",
       "version_major": 2,
       "version_minor": 0
      },
      "text/plain": [
       "Canvas(toolbar=Toolbar(toolitems=[('Home', 'Reset original view', 'home', 'home'), ('Back', 'Back to previous …"
      ]
     },
     "metadata": {},
     "output_type": "display_data"
    }
   ],
   "source": [
    "# Plot result\n",
    "from matplotlib.offsetbox import OffsetImage, AnnotationBbox\n",
    "from PIL import Image\n",
    "import plotly.express as px\n",
    "\n",
    "fig = plt.figure(figsize=(15,15))\n",
    "\n",
    "# ax = fig.add_subplot(211, projection='3d')\n",
    "# ax.scatter(X[:, 0], X[:, 1], X[:,1])\n",
    "\n",
    "# ax.set_title(\"Original data\")\n",
    "\n",
    "def getImage(path):\n",
    "    im = Image.open(path)\n",
    "#     (width, height) = (im.width // 10, im.height // 10)\n",
    "    (width, height) = (80, 45)\n",
    "    im_res = im.resize((width, height))\n",
    "    return OffsetImage(im_res)\n",
    "\n",
    "\n",
    "ax = fig.add_subplot(212)\n",
    "# ax.margins(0.05) \n",
    "# plt.figure(figsize=(30,30))\n",
    "plt.scatter(LLEReduced[:, 0], LLEReduced[:, 1])\n",
    "# for i, txt in enumerate(names):\n",
    "#     plt.annotate(txt, (LLEReduced[i, 0] + 0.005, LLEReduced[i, 1] + 0.005), fontsize=12)\n",
    "# for x0, y0, path in zip(annotateX, annotateY, imageNames):\n",
    "#     ab = AnnotationBbox(getImage(path), (x0,y0), frameon=False)\n",
    "#     ax.add_artist(ab)\n",
    "    \n",
    "for i, path in zip(range(len(LLEReduced)), imageNames):\n",
    "    ab = AnnotationBbox(getImage(path), (LLEReduced[i, 0], LLEReduced[i, 1]), frameon=False)\n",
    "    ax.add_artist(ab)\n",
    "    \n",
    "ax = fig.add_subplot(211)\n",
    "# ax.margins(0.05) \n",
    "# plt.figure(figsize=(30,30))\n",
    "plt.scatter(LLEReduced[:, 0], LLEReduced[:, 1])\n",
    "    \n",
    "plt.axis('tight')\n",
    "# plt.xticks([]), plt.yticks([])\n",
    "plt.title('Projected data')\n",
    "plt.show()\n",
    "# annotate"
   ]
  },
  {
   "cell_type": "markdown",
   "metadata": {},
   "source": [
    "# K means cluster"
   ]
  },
  {
   "cell_type": "code",
   "execution_count": 16,
   "metadata": {
    "scrolled": false
   },
   "outputs": [
    {
     "data": {
      "application/vnd.jupyter.widget-view+json": {
       "model_id": "84ee2d96de664bb3bac07d0fd541df9c",
       "version_major": 2,
       "version_minor": 0
      },
      "text/plain": [
       "Canvas(toolbar=Toolbar(toolitems=[('Home', 'Reset original view', 'home', 'home'), ('Back', 'Back to previous …"
      ]
     },
     "metadata": {},
     "output_type": "display_data"
    }
   ],
   "source": [
    "from sklearn.cluster import KMeans\n",
    "\n",
    "kmeans = KMeans(n_clusters = 3)\n",
    " \n",
    "#predict the labels of clusters.\n",
    "label = kmeans.fit_predict(LLEReduced)\n",
    " \n",
    "#Getting unique labels\n",
    "u_labels = np.unique(label)\n",
    "centroids = kmeans.cluster_centers_\n",
    "\n",
    "#plotting the results:\n",
    "plt.figure(figsize=(15,10))\n",
    "for i in u_labels:\n",
    "    plt.scatter(LLEReduced[label == i , 0] , LLEReduced[label == i , 1] , label = i)\n",
    "plt.scatter(centroids[:,0] , centroids[:,1] , s = 80, color = 'black')\n",
    "plt.legend()\n",
    "plt.show()"
   ]
  },
  {
   "cell_type": "markdown",
   "metadata": {},
   "source": [
    "# TESTING"
   ]
  },
  {
   "cell_type": "code",
   "execution_count": null,
   "metadata": {},
   "outputs": [],
   "source": []
  }
 ],
 "metadata": {
  "kernelspec": {
   "display_name": "Python 3",
   "language": "python",
   "name": "python3"
  },
  "language_info": {
   "codemirror_mode": {
    "name": "ipython",
    "version": 3
   },
   "file_extension": ".py",
   "mimetype": "text/x-python",
   "name": "python",
   "nbconvert_exporter": "python",
   "pygments_lexer": "ipython3",
   "version": "3.8.8"
  }
 },
 "nbformat": 4,
 "nbformat_minor": 4
}
