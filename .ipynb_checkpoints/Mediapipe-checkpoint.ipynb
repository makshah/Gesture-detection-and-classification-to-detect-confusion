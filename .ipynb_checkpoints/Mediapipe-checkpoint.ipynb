{
 "cells": [
  {
   "cell_type": "code",
   "execution_count": 6,
   "metadata": {},
   "outputs": [],
   "source": [
    "import mediapipe as mp\n",
    "import cv2\n",
    "import matplotlib.pyplot as plt\n",
    "import glob"
   ]
  },
  {
   "cell_type": "code",
   "execution_count": 11,
   "metadata": {},
   "outputs": [
    {
     "name": "stdout",
     "output_type": "stream",
     "text": [
      "D:\\SDSU\\Final Project\\Images\\cartoon.jpg\n",
      "D:\\SDSU\\Final Project\\Images\\dancer-1.jpg\n",
      "D:\\SDSU\\Final Project\\Images\\football-1.jpg\n",
      "D:\\SDSU\\Final Project\\Images\\front-full-1.jpg\n",
      "D:\\SDSU\\Final Project\\Images\\yoga-1.jpg\n"
     ]
    }
   ],
   "source": [
    "images = {name: cv2.imread(name) for name in glob.glob('D:\\SDSU\\Final Project\\Images/*jpg')}\n",
    "for name, image in images.items():\n",
    "    print(name)   \n",
    "    cv2.imshow('image',image)\n",
    "    cv2.waitKey(0)"
   ]
  },
  {
   "cell_type": "code",
   "execution_count": 12,
   "metadata": {},
   "outputs": [],
   "source": [
    "mp_pose = mp.solutions.pose\n",
    "# Initialize MediaPipe Pose.\n",
    "pose = mp_pose.Pose(\n",
    "    static_image_mode=True, min_detection_confidence=0.5)"
   ]
  },
  {
   "cell_type": "code",
   "execution_count": 13,
   "metadata": {},
   "outputs": [],
   "source": [
    "mp_drawing = mp.solutions.drawing_utils \n",
    "drawing_spec = mp_drawing.DrawingSpec(thickness=1, circle_radius=1)"
   ]
  },
  {
   "cell_type": "code",
   "execution_count": 14,
   "metadata": {},
   "outputs": [
    {
     "name": "stdout",
     "output_type": "stream",
     "text": [
      "Nose coordinates: (235.27645468711853, 90.52407413721085)\n",
      "Pose landmarks of D:\\SDSU\\Final Project\\Images\\cartoon.jpg:\n",
      "Nose coordinates: (428.57826805114746, 241.31220048666)\n",
      "Pose landmarks of D:\\SDSU\\Final Project\\Images\\dancer-1.jpg:\n",
      "Nose coordinates: (140.62622451782227, 29.535023152828217)\n",
      "Pose landmarks of D:\\SDSU\\Final Project\\Images\\football-1.jpg:\n",
      "Nose coordinates: (121.96532070636749, 67.50543785095215)\n",
      "Pose landmarks of D:\\SDSU\\Final Project\\Images\\front-full-1.jpg:\n",
      "Nose coordinates: (334.0313415527344, 293.6122283935547)\n",
      "Pose landmarks of D:\\SDSU\\Final Project\\Images\\yoga-1.jpg:\n"
     ]
    }
   ],
   "source": [
    "for name, image in images.items():\n",
    "    # Convert the BGR image to RGB and process it with MediaPipe Pose.\n",
    "    results = pose.process(cv2.cvtColor(image, cv2.COLOR_BGR2RGB))\n",
    "    # Print nose landmark.\n",
    "    image_hight, image_width, _ = image.shape\n",
    "    if not results.pose_landmarks:\n",
    "        continue\n",
    "    print(\n",
    "        f'Nose coordinates: ('\n",
    "        f'{results.pose_landmarks.landmark[mp_pose.PoseLandmark.NOSE].x * image_width}, '\n",
    "        f'{results.pose_landmarks.landmark[mp_pose.PoseLandmark.NOSE].y * image_hight})'\n",
    "    )\n",
    "\n",
    "    # Draw pose landmarks.\n",
    "    print(f'Pose landmarks of {name}:')\n",
    "    annotated_image = image.copy()\n",
    "    mp_drawing.draw_landmarks(\n",
    "      image=annotated_image,\n",
    "      landmark_list=results.pose_landmarks,\n",
    "      connections=mp_pose.POSE_CONNECTIONS,\n",
    "      landmark_drawing_spec=drawing_spec,\n",
    "      connection_drawing_spec=drawing_spec)\n",
    "    cv2.imshow('annotated_iamge', annotated_image)\n",
    "    cv2.waitKey(0)\n",
    "    plt.show()"
   ]
  },
  {
   "cell_type": "markdown",
   "metadata": {},
   "source": [
    "# Open pose \n",
    "# Tesnorflow pose detc"
   ]
  },
  {
   "cell_type": "markdown",
   "metadata": {},
   "source": [
    "Front - upper body\n",
    "find images for upper body pose\n",
    "front facing \n",
    "Template:\n",
    "uncertainity\n",
    "Categorize the images into the signature groups\n",
    "sample images \n",
    "1. cluster the body gestures\n",
    "2. what the cluster mean\n",
    "3. connect the human emotion status with the group - ground truth \n",
    "Associate the emotion status with body gesture "
   ]
  },
  {
   "cell_type": "markdown",
   "metadata": {},
   "source": [
    "1. Validate the development and correctness of the model\n",
    "2. Images\n",
    "   a. Confused\n",
    "   b. Stretched hand"
   ]
  },
  {
   "cell_type": "code",
   "execution_count": null,
   "metadata": {},
   "outputs": [],
   "source": []
  }
 ],
 "metadata": {
  "kernelspec": {
   "display_name": "Python 3",
   "language": "python",
   "name": "python3"
  },
  "language_info": {
   "codemirror_mode": {
    "name": "ipython",
    "version": 3
   },
   "file_extension": ".py",
   "mimetype": "text/x-python",
   "name": "python",
   "nbconvert_exporter": "python",
   "pygments_lexer": "ipython3",
   "version": "3.8.3"
  }
 },
 "nbformat": 4,
 "nbformat_minor": 4
}
